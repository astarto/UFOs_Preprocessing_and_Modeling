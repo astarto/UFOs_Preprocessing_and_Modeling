{
 "cells": [
  {
   "cell_type": "markdown",
   "metadata": {},
   "source": [
    "# Checking column types\n",
    "\n",
    "We take a look at the UFO dataset's column types using the dtypes attribute. Two columns jump out for transformation: the seconds column, which is a numeric column but is being read in as object, and the date column, which can be transformed into the datetime type. That will make our feature engineering efforts easier later on."
   ]
  },
  {
   "cell_type": "code",
   "execution_count": 3,
   "metadata": {},
   "outputs": [],
   "source": [
    "# import libraries\n",
    "import warnings\n",
    "warnings.filterwarnings('ignore')\n",
    "import pandas as pd\n",
    "import numpy as np\n",
    "from sklearn.model_selection import train_test_split\n",
    "from sklearn.neighbors import KNeighborsClassifier\n",
    "from sklearn.preprocessing import StandardScaler \n",
    "from sklearn.decomposition import PCA\n",
    "from sklearn.feature_extraction.text import TfidfVectorizer\n",
    "from sklearn.naive_bayes import GaussianNB\n",
    "import re\n",
    "import vocab"
   ]
  },
  {
   "cell_type": "code",
   "execution_count": 4,
   "metadata": {},
   "outputs": [
    {
     "name": "stdout",
     "output_type": "stream",
     "text": [
      "<class 'pandas.core.frame.DataFrame'>\n",
      "RangeIndex: 4935 entries, 0 to 4934\n",
      "Data columns (total 11 columns):\n",
      "date              4935 non-null object\n",
      "city              4926 non-null object\n",
      "state             4516 non-null object\n",
      "country           4255 non-null object\n",
      "type              4776 non-null object\n",
      "seconds           4935 non-null float64\n",
      "length_of_time    4792 non-null object\n",
      "desc              4932 non-null object\n",
      "recorded          4935 non-null object\n",
      "lat               4935 non-null object\n",
      "long              4935 non-null float64\n",
      "dtypes: float64(2), object(9)\n",
      "memory usage: 424.2+ KB\n"
     ]
    }
   ],
   "source": [
    "ufo = pd.read_csv('ufo_sightings_large.csv')\n",
    "ufo.info()"
   ]
  },
  {
   "cell_type": "code",
   "execution_count": 5,
   "metadata": {},
   "outputs": [
    {
     "data": {
      "text/html": [
       "<div>\n",
       "<style scoped>\n",
       "    .dataframe tbody tr th:only-of-type {\n",
       "        vertical-align: middle;\n",
       "    }\n",
       "\n",
       "    .dataframe tbody tr th {\n",
       "        vertical-align: top;\n",
       "    }\n",
       "\n",
       "    .dataframe thead th {\n",
       "        text-align: right;\n",
       "    }\n",
       "</style>\n",
       "<table border=\"1\" class=\"dataframe\">\n",
       "  <thead>\n",
       "    <tr style=\"text-align: right;\">\n",
       "      <th></th>\n",
       "      <th>date</th>\n",
       "      <th>city</th>\n",
       "      <th>state</th>\n",
       "      <th>country</th>\n",
       "      <th>type</th>\n",
       "      <th>seconds</th>\n",
       "      <th>length_of_time</th>\n",
       "      <th>desc</th>\n",
       "      <th>recorded</th>\n",
       "      <th>lat</th>\n",
       "      <th>long</th>\n",
       "    </tr>\n",
       "  </thead>\n",
       "  <tbody>\n",
       "    <tr>\n",
       "      <th>0</th>\n",
       "      <td>11/3/2011 19:21</td>\n",
       "      <td>woodville</td>\n",
       "      <td>wi</td>\n",
       "      <td>us</td>\n",
       "      <td>unknown</td>\n",
       "      <td>1209600.0</td>\n",
       "      <td>2 weeks</td>\n",
       "      <td>Red blinking objects similar to airplanes or s...</td>\n",
       "      <td>12/12/2011</td>\n",
       "      <td>44.9530556</td>\n",
       "      <td>-92.291111</td>\n",
       "    </tr>\n",
       "    <tr>\n",
       "      <th>1</th>\n",
       "      <td>10/3/2004 19:05</td>\n",
       "      <td>cleveland</td>\n",
       "      <td>oh</td>\n",
       "      <td>us</td>\n",
       "      <td>circle</td>\n",
       "      <td>30.0</td>\n",
       "      <td>30sec.</td>\n",
       "      <td>Many fighter jets flying towards UFO</td>\n",
       "      <td>10/27/2004</td>\n",
       "      <td>41.4994444</td>\n",
       "      <td>-81.695556</td>\n",
       "    </tr>\n",
       "    <tr>\n",
       "      <th>2</th>\n",
       "      <td>9/25/2009 21:00</td>\n",
       "      <td>coon rapids</td>\n",
       "      <td>mn</td>\n",
       "      <td>us</td>\n",
       "      <td>cigar</td>\n",
       "      <td>0.0</td>\n",
       "      <td>NaN</td>\n",
       "      <td>Green&amp;#44 red&amp;#44 and blue pulses of light tha...</td>\n",
       "      <td>12/12/2009</td>\n",
       "      <td>45.1200000</td>\n",
       "      <td>-93.287500</td>\n",
       "    </tr>\n",
       "    <tr>\n",
       "      <th>3</th>\n",
       "      <td>11/21/2002 05:45</td>\n",
       "      <td>clemmons</td>\n",
       "      <td>nc</td>\n",
       "      <td>us</td>\n",
       "      <td>triangle</td>\n",
       "      <td>300.0</td>\n",
       "      <td>about 5 minutes</td>\n",
       "      <td>It was a large&amp;#44 triangular shaped flying ob...</td>\n",
       "      <td>12/23/2002</td>\n",
       "      <td>36.0213889</td>\n",
       "      <td>-80.382222</td>\n",
       "    </tr>\n",
       "    <tr>\n",
       "      <th>4</th>\n",
       "      <td>8/19/2010 12:55</td>\n",
       "      <td>calgary (canada)</td>\n",
       "      <td>ab</td>\n",
       "      <td>ca</td>\n",
       "      <td>oval</td>\n",
       "      <td>0.0</td>\n",
       "      <td>2</td>\n",
       "      <td>A white spinning disc in the shape of an oval.</td>\n",
       "      <td>8/24/2010</td>\n",
       "      <td>51.083333</td>\n",
       "      <td>-114.083333</td>\n",
       "    </tr>\n",
       "  </tbody>\n",
       "</table>\n",
       "</div>"
      ],
      "text/plain": [
       "               date              city state country      type    seconds  \\\n",
       "0   11/3/2011 19:21         woodville    wi      us   unknown  1209600.0   \n",
       "1   10/3/2004 19:05         cleveland    oh      us    circle       30.0   \n",
       "2   9/25/2009 21:00       coon rapids    mn      us     cigar        0.0   \n",
       "3  11/21/2002 05:45          clemmons    nc      us  triangle      300.0   \n",
       "4   8/19/2010 12:55  calgary (canada)    ab      ca      oval        0.0   \n",
       "\n",
       "    length_of_time                                               desc  \\\n",
       "0          2 weeks  Red blinking objects similar to airplanes or s...   \n",
       "1           30sec.               Many fighter jets flying towards UFO   \n",
       "2              NaN  Green&#44 red&#44 and blue pulses of light tha...   \n",
       "3  about 5 minutes  It was a large&#44 triangular shaped flying ob...   \n",
       "4                2     A white spinning disc in the shape of an oval.   \n",
       "\n",
       "     recorded         lat        long  \n",
       "0  12/12/2011  44.9530556  -92.291111  \n",
       "1  10/27/2004  41.4994444  -81.695556  \n",
       "2  12/12/2009  45.1200000  -93.287500  \n",
       "3  12/23/2002  36.0213889  -80.382222  \n",
       "4   8/24/2010   51.083333 -114.083333  "
      ]
     },
     "execution_count": 5,
     "metadata": {},
     "output_type": "execute_result"
    }
   ],
   "source": [
    "ufo.head()"
   ]
  },
  {
   "cell_type": "code",
   "execution_count": 6,
   "metadata": {},
   "outputs": [],
   "source": [
    "# Change the date column to type datetime\n",
    "ufo['date'] = pd.to_datetime(ufo['date'])"
   ]
  },
  {
   "cell_type": "code",
   "execution_count": 7,
   "metadata": {},
   "outputs": [
    {
     "data": {
      "text/plain": [
       "(4935, 11)"
      ]
     },
     "execution_count": 7,
     "metadata": {},
     "output_type": "execute_result"
    }
   ],
   "source": [
    "ufo.shape"
   ]
  },
  {
   "cell_type": "markdown",
   "metadata": {},
   "source": [
    "# Dropping missing data\n",
    "\n",
    "Let's remove some of the rows where certain columns have missing values. We're going to look at the length_of_time column, the state column, and the type column. If any of the values in these columns are missing, we're going to drop the rows."
   ]
  },
  {
   "cell_type": "code",
   "execution_count": 8,
   "metadata": {},
   "outputs": [
    {
     "name": "stdout",
     "output_type": "stream",
     "text": [
      "length_of_time    143\n",
      "state             419\n",
      "type              159\n",
      "dtype: int64\n"
     ]
    }
   ],
   "source": [
    "# Check how many values are missing in the length_of_time, state, and type columns\n",
    "print(ufo[[\"length_of_time\", \"state\", \"type\"]].isnull().sum())"
   ]
  },
  {
   "cell_type": "code",
   "execution_count": 9,
   "metadata": {},
   "outputs": [],
   "source": [
    "# Keep only rows where length_of_time, state, and type are not null\n",
    "ufo_no_missing = ufo[ufo[\"length_of_time\"].notnull() & ufo[\"state\"].notnull() & ufo[\"type\"].notnull()]"
   ]
  },
  {
   "cell_type": "code",
   "execution_count": 10,
   "metadata": {},
   "outputs": [
    {
     "name": "stdout",
     "output_type": "stream",
     "text": [
      "(4283, 11)\n"
     ]
    }
   ],
   "source": [
    "# Print out the shape of the new dataset\n",
    "print(ufo_no_missing.shape)"
   ]
  },
  {
   "cell_type": "code",
   "execution_count": 11,
   "metadata": {},
   "outputs": [
    {
     "data": {
      "text/plain": [
       "(1866, 11)"
      ]
     },
     "execution_count": 11,
     "metadata": {},
     "output_type": "execute_result"
    }
   ],
   "source": [
    "# Select rows with 'minutes'\n",
    "ufo2 = ufo_no_missing[ufo_no_missing['length_of_time'].str.contains(\"minutes|minute\")]\n",
    "ufo2.shape"
   ]
  },
  {
   "cell_type": "markdown",
   "metadata": {},
   "source": [
    "# Extracting numbers from strings\n",
    "\n",
    "The length_of_time field in the UFO dataset is a text field that has the number of minutes within the string. Here, you'll extract that number from that text field using regular expressions"
   ]
  },
  {
   "cell_type": "code",
   "execution_count": 12,
   "metadata": {},
   "outputs": [],
   "source": [
    "# Extracting numbers from strings\n",
    "\n",
    "def return_minutes(time_string):\n",
    "\n",
    "    # Use \\d+ to grab digits\n",
    "    pattern = re.compile(r\"\\d+\")\n",
    "    \n",
    "    # Use match on the pattern and column\n",
    "    num = re.match(pattern, time_string)\n",
    "    if num is not None:\n",
    "        return int(num.group(0))"
   ]
  },
  {
   "cell_type": "code",
   "execution_count": 19,
   "metadata": {},
   "outputs": [
    {
     "name": "stdout",
     "output_type": "stream",
     "text": [
      "    minutes   length_of_time\n",
      "3       NaN  about 5 minutes\n",
      "5      10.0       10 minutes\n",
      "8       2.0        2 minutes\n",
      "9       2.0        2 minutes\n",
      "10      5.0        5 minutes\n"
     ]
    }
   ],
   "source": [
    "# Apply the extraction to the length_of_time column\n",
    "ufo2[\"minutes\"] = ufo2[\"length_of_time\"].apply(lambda row: return_minutes(row))\n",
    "\n",
    "# Take a look at the head of both of the columns\n",
    "print(ufo2[[\"minutes\",\"length_of_time\"]].head())"
   ]
  },
  {
   "cell_type": "markdown",
   "metadata": {},
   "source": [
    "As we can see, we end up with some NaNs in the DataFrame. That's okay for now; we'll take care of those before modeling."
   ]
  },
  {
   "cell_type": "code",
   "execution_count": 14,
   "metadata": {},
   "outputs": [
    {
     "data": {
      "text/html": [
       "<div>\n",
       "<style scoped>\n",
       "    .dataframe tbody tr th:only-of-type {\n",
       "        vertical-align: middle;\n",
       "    }\n",
       "\n",
       "    .dataframe tbody tr th {\n",
       "        vertical-align: top;\n",
       "    }\n",
       "\n",
       "    .dataframe thead th {\n",
       "        text-align: right;\n",
       "    }\n",
       "</style>\n",
       "<table border=\"1\" class=\"dataframe\">\n",
       "  <thead>\n",
       "    <tr style=\"text-align: right;\">\n",
       "      <th></th>\n",
       "      <th>date</th>\n",
       "      <th>city</th>\n",
       "      <th>state</th>\n",
       "      <th>country</th>\n",
       "      <th>type</th>\n",
       "      <th>seconds</th>\n",
       "      <th>length_of_time</th>\n",
       "      <th>desc</th>\n",
       "      <th>recorded</th>\n",
       "      <th>lat</th>\n",
       "      <th>long</th>\n",
       "      <th>minutes</th>\n",
       "    </tr>\n",
       "  </thead>\n",
       "  <tbody>\n",
       "    <tr>\n",
       "      <th>3</th>\n",
       "      <td>2002-11-21 05:45:00</td>\n",
       "      <td>clemmons</td>\n",
       "      <td>nc</td>\n",
       "      <td>us</td>\n",
       "      <td>triangle</td>\n",
       "      <td>300.0</td>\n",
       "      <td>about 5 minutes</td>\n",
       "      <td>It was a large&amp;#44 triangular shaped flying ob...</td>\n",
       "      <td>12/23/2002</td>\n",
       "      <td>36.0213889</td>\n",
       "      <td>-80.382222</td>\n",
       "      <td>NaN</td>\n",
       "    </tr>\n",
       "    <tr>\n",
       "      <th>5</th>\n",
       "      <td>2012-06-16 23:00:00</td>\n",
       "      <td>san diego</td>\n",
       "      <td>ca</td>\n",
       "      <td>us</td>\n",
       "      <td>light</td>\n",
       "      <td>600.0</td>\n",
       "      <td>10 minutes</td>\n",
       "      <td>Dancing lights that would fly around and then ...</td>\n",
       "      <td>7/4/2012</td>\n",
       "      <td>32.7152778</td>\n",
       "      <td>-117.156389</td>\n",
       "      <td>10.0</td>\n",
       "    </tr>\n",
       "    <tr>\n",
       "      <th>8</th>\n",
       "      <td>2013-06-09 00:00:00</td>\n",
       "      <td>oakville (canada)</td>\n",
       "      <td>on</td>\n",
       "      <td>ca</td>\n",
       "      <td>light</td>\n",
       "      <td>120.0</td>\n",
       "      <td>2 minutes</td>\n",
       "      <td>Brilliant orange light or chinese lantern at o...</td>\n",
       "      <td>7/3/2013</td>\n",
       "      <td>43.433333</td>\n",
       "      <td>-79.666667</td>\n",
       "      <td>2.0</td>\n",
       "    </tr>\n",
       "    <tr>\n",
       "      <th>9</th>\n",
       "      <td>2013-04-26 23:27:00</td>\n",
       "      <td>lacey</td>\n",
       "      <td>wa</td>\n",
       "      <td>us</td>\n",
       "      <td>light</td>\n",
       "      <td>120.0</td>\n",
       "      <td>2 minutes</td>\n",
       "      <td>Bright red light moving north to north west fr...</td>\n",
       "      <td>5/15/2013</td>\n",
       "      <td>47.0344444</td>\n",
       "      <td>-122.821944</td>\n",
       "      <td>2.0</td>\n",
       "    </tr>\n",
       "    <tr>\n",
       "      <th>10</th>\n",
       "      <td>2013-09-13 20:30:00</td>\n",
       "      <td>ben avon</td>\n",
       "      <td>pa</td>\n",
       "      <td>us</td>\n",
       "      <td>sphere</td>\n",
       "      <td>300.0</td>\n",
       "      <td>5 minutes</td>\n",
       "      <td>North-east moving south-west. First 7 or so li...</td>\n",
       "      <td>9/30/2013</td>\n",
       "      <td>40.5080556</td>\n",
       "      <td>-80.083333</td>\n",
       "      <td>5.0</td>\n",
       "    </tr>\n",
       "  </tbody>\n",
       "</table>\n",
       "</div>"
      ],
      "text/plain": [
       "                  date               city state country      type  seconds  \\\n",
       "3  2002-11-21 05:45:00           clemmons    nc      us  triangle    300.0   \n",
       "5  2012-06-16 23:00:00          san diego    ca      us     light    600.0   \n",
       "8  2013-06-09 00:00:00  oakville (canada)    on      ca     light    120.0   \n",
       "9  2013-04-26 23:27:00              lacey    wa      us     light    120.0   \n",
       "10 2013-09-13 20:30:00           ben avon    pa      us    sphere    300.0   \n",
       "\n",
       "     length_of_time                                               desc  \\\n",
       "3   about 5 minutes  It was a large&#44 triangular shaped flying ob...   \n",
       "5        10 minutes  Dancing lights that would fly around and then ...   \n",
       "8         2 minutes  Brilliant orange light or chinese lantern at o...   \n",
       "9         2 minutes  Bright red light moving north to north west fr...   \n",
       "10        5 minutes  North-east moving south-west. First 7 or so li...   \n",
       "\n",
       "      recorded         lat        long  minutes  \n",
       "3   12/23/2002  36.0213889  -80.382222      NaN  \n",
       "5     7/4/2012  32.7152778 -117.156389     10.0  \n",
       "8     7/3/2013   43.433333  -79.666667      2.0  \n",
       "9    5/15/2013  47.0344444 -122.821944      2.0  \n",
       "10   9/30/2013  40.5080556  -80.083333      5.0  "
      ]
     },
     "execution_count": 14,
     "metadata": {},
     "output_type": "execute_result"
    }
   ],
   "source": [
    "ufo2.head()"
   ]
  },
  {
   "cell_type": "markdown",
   "metadata": {},
   "source": [
    "# Identifying features for standardization\n",
    "\n",
    "Let's investigate the variance of columns in the UFO dataset to determine which features should be standardized. After taking a look at the variances of the seconds and minutes column, you'll see that the variance of the seconds column is extremely high. Because seconds and minutes are related to each other (an issue we'll deal with when we select features for modeling), let's log normlize the seconds column."
   ]
  },
  {
   "cell_type": "code",
   "execution_count": 15,
   "metadata": {},
   "outputs": [
    {
     "name": "stdout",
     "output_type": "stream",
     "text": [
      "seconds    424087.417474\n",
      "minutes       117.546372\n",
      "dtype: float64\n",
      "1.1223923881183004\n"
     ]
    }
   ],
   "source": [
    "# Identifying features for standardization\n",
    "\n",
    "# Check the variance of the seconds and minutes columns\n",
    "print(ufo2[['seconds','minutes']].var())\n",
    "\n",
    "# Log normalize the seconds column\n",
    "ufo2[\"seconds_log\"] = np.log(ufo2['seconds'])\n",
    "\n",
    "# Print out the variance of just the seconds_log column\n",
    "print(ufo2['seconds_log'].var())"
   ]
  },
  {
   "cell_type": "markdown",
   "metadata": {},
   "source": [
    "Let's continue on by extracting some date parts."
   ]
  },
  {
   "cell_type": "markdown",
   "metadata": {},
   "source": [
    "# Features from dates\n",
    "\n",
    "Another feature engineering task to perform is month and year extraction. Perform this task on the date column of the ufo dataset."
   ]
  },
  {
   "cell_type": "code",
   "execution_count": 16,
   "metadata": {},
   "outputs": [
    {
     "name": "stdout",
     "output_type": "stream",
     "text": [
      "3    2002-11-21 05:45:00\n",
      "5    2012-06-16 23:00:00\n",
      "8    2013-06-09 00:00:00\n",
      "9    2013-04-26 23:27:00\n",
      "10   2013-09-13 20:30:00\n",
      "Name: date, dtype: datetime64[ns]\n",
      "                  date  month  year\n",
      "3  2002-11-21 05:45:00     11  2002\n",
      "5  2012-06-16 23:00:00      6  2012\n",
      "8  2013-06-09 00:00:00      6  2013\n",
      "9  2013-04-26 23:27:00      4  2013\n",
      "10 2013-09-13 20:30:00      9  2013\n"
     ]
    }
   ],
   "source": [
    "# Features from dates\n",
    "\n",
    "# Look at the first 5 rows of the date column\n",
    "print(ufo2['date'].head())\n",
    "\n",
    "# Extract the month from the date column\n",
    "ufo2[\"month\"] = ufo2[\"date\"].apply(lambda row: row.month)\n",
    "\n",
    "# Extract the year from the date column\n",
    "ufo2[\"year\"] = ufo2[\"date\"].apply(lambda row: row.year)\n",
    "\n",
    "# Take a look at the head of all three columns\n",
    "print(ufo2[['date','month','year']].head())"
   ]
  },
  {
   "cell_type": "markdown",
   "metadata": {},
   "source": [
    " 'apply' and 'lambda' are extremely useful for extraction tasks."
   ]
  },
  {
   "cell_type": "markdown",
   "metadata": {},
   "source": [
    "# Encoding categorical variables\n",
    "\n",
    "There are couple of columns in the UFO dataset that need to be encoded before they can be modeled through scikit-learn. We'll do that transformation here, using both binary and one-hot encoding methods."
   ]
  },
  {
   "cell_type": "code",
   "execution_count": 17,
   "metadata": {},
   "outputs": [
    {
     "data": {
      "text/plain": [
       "us    1643\n",
       "ca      75\n",
       "Name: country, dtype: int64"
      ]
     },
     "execution_count": 17,
     "metadata": {},
     "output_type": "execute_result"
    }
   ],
   "source": [
    "ufo2.country.value_counts()"
   ]
  },
  {
   "cell_type": "code",
   "execution_count": 58,
   "metadata": {},
   "outputs": [
    {
     "name": "stdout",
     "output_type": "stream",
     "text": [
      "21\n"
     ]
    }
   ],
   "source": [
    "# Use Pandas to encode us values as 1 and others as 0\n",
    "ufo2[\"country_enc\"] = ufo2[\"country\"].apply(lambda val: 1 if val=='us' else 0)\n",
    "\n",
    "# Print the number of unique type values\n",
    "print(len(ufo2['type'].unique()))\n",
    "\n",
    "# Create a one-hot encoded set of the type values\n",
    "type_set = pd.get_dummies(ufo2['type'])\n",
    "\n",
    "# Concatenate this set back to the ufo DataFrame\n",
    "ufo2 = pd.concat([ufo2, type_set], axis=1)"
   ]
  },
  {
   "cell_type": "code",
   "execution_count": 59,
   "metadata": {},
   "outputs": [
    {
     "data": {
      "text/html": [
       "<div>\n",
       "<style scoped>\n",
       "    .dataframe tbody tr th:only-of-type {\n",
       "        vertical-align: middle;\n",
       "    }\n",
       "\n",
       "    .dataframe tbody tr th {\n",
       "        vertical-align: top;\n",
       "    }\n",
       "\n",
       "    .dataframe thead th {\n",
       "        text-align: right;\n",
       "    }\n",
       "</style>\n",
       "<table border=\"1\" class=\"dataframe\">\n",
       "  <thead>\n",
       "    <tr style=\"text-align: right;\">\n",
       "      <th></th>\n",
       "      <th>changing</th>\n",
       "      <th>chevron</th>\n",
       "      <th>cigar</th>\n",
       "      <th>circle</th>\n",
       "      <th>cone</th>\n",
       "      <th>cross</th>\n",
       "      <th>cylinder</th>\n",
       "      <th>diamond</th>\n",
       "      <th>disk</th>\n",
       "      <th>egg</th>\n",
       "      <th>...</th>\n",
       "      <th>flash</th>\n",
       "      <th>formation</th>\n",
       "      <th>light</th>\n",
       "      <th>other</th>\n",
       "      <th>oval</th>\n",
       "      <th>rectangle</th>\n",
       "      <th>sphere</th>\n",
       "      <th>teardrop</th>\n",
       "      <th>triangle</th>\n",
       "      <th>unknown</th>\n",
       "    </tr>\n",
       "  </thead>\n",
       "  <tbody>\n",
       "    <tr>\n",
       "      <th>3</th>\n",
       "      <td>0</td>\n",
       "      <td>0</td>\n",
       "      <td>0</td>\n",
       "      <td>0</td>\n",
       "      <td>0</td>\n",
       "      <td>0</td>\n",
       "      <td>0</td>\n",
       "      <td>0</td>\n",
       "      <td>0</td>\n",
       "      <td>0</td>\n",
       "      <td>...</td>\n",
       "      <td>0</td>\n",
       "      <td>0</td>\n",
       "      <td>0</td>\n",
       "      <td>0</td>\n",
       "      <td>0</td>\n",
       "      <td>0</td>\n",
       "      <td>0</td>\n",
       "      <td>0</td>\n",
       "      <td>1</td>\n",
       "      <td>0</td>\n",
       "    </tr>\n",
       "    <tr>\n",
       "      <th>5</th>\n",
       "      <td>0</td>\n",
       "      <td>0</td>\n",
       "      <td>0</td>\n",
       "      <td>0</td>\n",
       "      <td>0</td>\n",
       "      <td>0</td>\n",
       "      <td>0</td>\n",
       "      <td>0</td>\n",
       "      <td>0</td>\n",
       "      <td>0</td>\n",
       "      <td>...</td>\n",
       "      <td>0</td>\n",
       "      <td>0</td>\n",
       "      <td>1</td>\n",
       "      <td>0</td>\n",
       "      <td>0</td>\n",
       "      <td>0</td>\n",
       "      <td>0</td>\n",
       "      <td>0</td>\n",
       "      <td>0</td>\n",
       "      <td>0</td>\n",
       "    </tr>\n",
       "    <tr>\n",
       "      <th>8</th>\n",
       "      <td>0</td>\n",
       "      <td>0</td>\n",
       "      <td>0</td>\n",
       "      <td>0</td>\n",
       "      <td>0</td>\n",
       "      <td>0</td>\n",
       "      <td>0</td>\n",
       "      <td>0</td>\n",
       "      <td>0</td>\n",
       "      <td>0</td>\n",
       "      <td>...</td>\n",
       "      <td>0</td>\n",
       "      <td>0</td>\n",
       "      <td>1</td>\n",
       "      <td>0</td>\n",
       "      <td>0</td>\n",
       "      <td>0</td>\n",
       "      <td>0</td>\n",
       "      <td>0</td>\n",
       "      <td>0</td>\n",
       "      <td>0</td>\n",
       "    </tr>\n",
       "    <tr>\n",
       "      <th>9</th>\n",
       "      <td>0</td>\n",
       "      <td>0</td>\n",
       "      <td>0</td>\n",
       "      <td>0</td>\n",
       "      <td>0</td>\n",
       "      <td>0</td>\n",
       "      <td>0</td>\n",
       "      <td>0</td>\n",
       "      <td>0</td>\n",
       "      <td>0</td>\n",
       "      <td>...</td>\n",
       "      <td>0</td>\n",
       "      <td>0</td>\n",
       "      <td>1</td>\n",
       "      <td>0</td>\n",
       "      <td>0</td>\n",
       "      <td>0</td>\n",
       "      <td>0</td>\n",
       "      <td>0</td>\n",
       "      <td>0</td>\n",
       "      <td>0</td>\n",
       "    </tr>\n",
       "    <tr>\n",
       "      <th>10</th>\n",
       "      <td>0</td>\n",
       "      <td>0</td>\n",
       "      <td>0</td>\n",
       "      <td>0</td>\n",
       "      <td>0</td>\n",
       "      <td>0</td>\n",
       "      <td>0</td>\n",
       "      <td>0</td>\n",
       "      <td>0</td>\n",
       "      <td>0</td>\n",
       "      <td>...</td>\n",
       "      <td>0</td>\n",
       "      <td>0</td>\n",
       "      <td>0</td>\n",
       "      <td>0</td>\n",
       "      <td>0</td>\n",
       "      <td>0</td>\n",
       "      <td>1</td>\n",
       "      <td>0</td>\n",
       "      <td>0</td>\n",
       "      <td>0</td>\n",
       "    </tr>\n",
       "  </tbody>\n",
       "</table>\n",
       "<p>5 rows × 21 columns</p>\n",
       "</div>"
      ],
      "text/plain": [
       "    changing  chevron  cigar  circle  cone  cross  cylinder  diamond  disk  \\\n",
       "3          0        0      0       0     0      0         0        0     0   \n",
       "5          0        0      0       0     0      0         0        0     0   \n",
       "8          0        0      0       0     0      0         0        0     0   \n",
       "9          0        0      0       0     0      0         0        0     0   \n",
       "10         0        0      0       0     0      0         0        0     0   \n",
       "\n",
       "    egg   ...     flash  formation  light  other  oval  rectangle  sphere  \\\n",
       "3     0   ...         0          0      0      0     0          0       0   \n",
       "5     0   ...         0          0      1      0     0          0       0   \n",
       "8     0   ...         0          0      1      0     0          0       0   \n",
       "9     0   ...         0          0      1      0     0          0       0   \n",
       "10    0   ...         0          0      0      0     0          0       1   \n",
       "\n",
       "    teardrop  triangle  unknown  \n",
       "3          0         1        0  \n",
       "5          0         0        0  \n",
       "8          0         0        0  \n",
       "9          0         0        0  \n",
       "10         0         0        0  \n",
       "\n",
       "[5 rows x 21 columns]"
      ]
     },
     "execution_count": 59,
     "metadata": {},
     "output_type": "execute_result"
    }
   ],
   "source": [
    "type_set.head()"
   ]
  },
  {
   "cell_type": "markdown",
   "metadata": {},
   "source": [
    "# Text vectorization\n",
    "\n",
    "Let's transform the desc column in the UFO dataset into tf/idf vectors, since there's likely something we can learn from this field"
   ]
  },
  {
   "cell_type": "code",
   "execution_count": 60,
   "metadata": {},
   "outputs": [
    {
     "name": "stdout",
     "output_type": "stream",
     "text": [
      "3     It was a large&#44 triangular shaped flying ob...\n",
      "5     Dancing lights that would fly around and then ...\n",
      "8     Brilliant orange light or chinese lantern at o...\n",
      "9     Bright red light moving north to north west fr...\n",
      "10    North-east moving south-west. First 7 or so li...\n",
      "Name: desc, dtype: object\n",
      "(1866, 3422)\n"
     ]
    }
   ],
   "source": [
    "# Text vectorization\n",
    "\n",
    "# Take a look at the head of the desc field\n",
    "print(ufo2.desc.head())\n",
    "\n",
    "# Create the tfidf vectorizer object\n",
    "vec = TfidfVectorizer()\n",
    "\n",
    "# Use vec's fit_transform method on the desc field\n",
    "desc_tfidf = vec.fit_transform(ufo2['desc'])\n",
    "\n",
    "# Look at the number of columns this creates\n",
    "print(desc_tfidf.shape)"
   ]
  },
  {
   "cell_type": "code",
   "execution_count": 61,
   "metadata": {},
   "outputs": [
    {
     "name": "stdout",
     "output_type": "stream",
     "text": [
      "{'it': 1664, 'was': 3275, 'large': 1744, '44': 147, 'triangular': 3123, 'shaped': 2657, 'flying': 1320, 'object': 2134, 'dancing': 910, 'lights': 1794, 'that': 3002, 'would': 3379, 'fly': 1319, 'around': 395, 'and': 340, 'then': 3007, 'merge': 1923, 'into': 1645, 'one': 2173, 'light': 1787, 'brilliant': 604, 'orange': 2188, 'or': 2184, 'chinese': 718, 'lantern': 1738, 'at': 412, 'less': 1774, 'than': 3001, '1000': 15, 'ft': 1363, 'moving': 2021, 'east': 1102, 'to': 3050, 'west': 3298, 'across': 273, 'oakville': 2130, 'ontario': 2176, 'midnight': 1942, 'june': 1690, '9th': 251, '2013': 92, 'bright': 596, 'red': 2472, 'north': 2097, 'from': 1360, 'the': 3003, 'horizon': 1539, 'till': 3041, 'disapeared': 1003, 'behind': 502, 'clouds': 766, 'south': 2793, 'first': 1276, 'so': 2766, 'craft': 873, 'half': 1462, 'dozen': 1063, 'stragglers': 2899, 'they': 3015, 'were': 3296, 'surely': 2943, 'not': 2107, 'planes': 2330, 'nor': 2094, 'ball': 449, 'of': 2157, 'slowly': 2751, 'stationary': 2872, 'multicolored': 2031, 'circular': 738, 'met': 1926, 'by': 637, 'another': 351, 'which': 3315, 'raised': 2435, 'meet': 1915, 'too': 3057, 'displayed': 1025, 'ufo': 3153, 'going': 1421, 'sky': 2737, 'uso': 3206, 'watched': 3280, 'us': 3202, 'for': 1331, 'couple': 864, 'minutes': 1963, 'follows': 1326, 'train': 3085, 'tracks': 3077, 'in': 1607, 'winter': 3350, '1931': 46, 'saw': 2586, 'machine': 1859, 'as': 401, 'riding': 2524, 'on': 2171, 'horse': 1543, 'draw': 1065, 'pasture': 2265, '10': 13, 'pm': 2343, '12': 23, '99': 249, 'scottsdale': 2602, 'arizona': 386, 'something': 2778, 'have': 1482, 'never': 2067, 'seen': 2623, 'before': 498, 'traveling': 3097, 'above': 259, 'glow': 1414, 'central': 691, 'montana': 1987, 'metalic': 1928, 'sphere': 2822, 'rotating': 2551, 'fast': 1240, 'pattern': 2271, 'we': 3287, 'driving': 1076, 'town': 3069, 'there': 3011, 'is': 1656, 'golf': 1424, 'course': 865, 'holes': 1530, 'close': 760, 'road': 2535, 'when': 3312, 'all': 313, 'suuden': 2954, 'passing': 2262, 'turned': 3137, 'off': 2158, 'bayou': 474, 'blvd': 558, 'onto': 2177, 'godwinson': 1420, 'an': 337, 'extremely': 1209, 'down': 1061, 'with': 3355, 'trail': 3081, 'smok': 2757, 'formation': 1337, '44counted': 167, '15': 31, 'orbs': 2198, 'until': 3190, 'vanished': 3219, 'bursts': 628, 'color': 782, 'concentrated': 811, 'area': 384, 'cloud': 764, 'beautiful': 486, 'silver': 2708, 'colored': 784, 'saucer': 2583, 'about': 258, 'size': 2729, 'round': 2553, '18': 42, 'wheeler': 3311, 'turquoise': 3141, 'perimeter': 2293, 'clearly': 750, '3997': 125, '05': 8, '64': 225, '02': 4, '00': 0, 'little': 1808, 'creek': 881, 'ky': 1723, 'humming': 1572, 'noise': 2085, 'house': 1549, 'shaking': 2654, 'small': 2754, 'medium': 1914, 'sized': 2730, 'black': 536, 'rectangular': 2471, 'several': 2647, 'years': 3390, 'tree': 3104, 'line': 1800, 'seemingly': 2622, 'burning': 627, 'up': 3194, 'tail': 2966, 'dissipated': 1032, 'towards': 3067, 'end': 1141, 'sight': 2698, 'big': 524, 'miss': 1966, '44orange': 187, 'redish': 2475, 'objects': 2136, 'floating': 1312, 'home': 1533, 'sets': 2643, 'two': 3147, 'sunset': 2940, 'remained': 2485, 'while': 3316, 'other': 2211, 'moved': 2013, 'southwest': 2800, 'stayed': 2875, 'tripled': 3126, 'sitting': 2725, 'car': 671, 'looking': 1831, 'singal': 2715, 'engine': 1147, 'plane': 2329, 'suddenly': 2932, 'disc': 1014, 'went': 3295, 'past': 2263, 'very': 3240, 'white': 3319, 'chased': 703, '52': 219, 'near': 2054, 'wright': 3380, 'patterson': 2274, 'air': 291, 'force': 1332, 'base': 466, 'power': 2373, 'out': 2218, 'came': 652, 'seemed': 2620, 'circle': 733, 'come': 793, 'back': 442, 'quickly': 2421, 'just': 1695, 'vanishe': 3218, 'thirteen': 3022, 'my': 2038, 'grandmother': 1437, 'mother': 2000, 'having': 1483, 'ice': 1593, 'cream': 880, 'outside': 2224, 'diner': 990, '45': 205, '50': 214, 'degrees': 947, 'glows': 1418, 'changing': 699, 'different': 979, 'again': 289, 'yellow': 3393, 'hovering': 1556, 'description': 962, 'possible': 2367, 'sighting': 2700, 'still': 2886, 'present': 2377, 'star': 2857, 'like': 1796, 'together': 3052, 'same': 2571, 'speed': 2816, 'dimmed': 987, 'disappeared': 1007, 'flare': 1289, 'chevron': 713, 'silent': 2705, 'over': 2229, '30': 108, 'min': 1954, 'caught': 682, 'video': 3246, 'tape': 2980, 'fireball': 1270, 'after': 286, 'few': 1252, 'greenish': 1445, 'diamond': 970, 'five': 1279, 'smaller': 2755, 'daytime': 929, 'night': 2076, 'desert': 964, 'hovered': 1555, 'sped': 2814, 'away': 438, 'mississauga': 1969, 'canada': 658, 'appeared': 368, 'be': 477, 'high': 1517, 'possibly': 2368, 'any': 357, 'earthling': 1098, 'made': 1861, 'item': 1665, 'incredible': 1612, 'straight': 2900, 'no': 2084, 'sound': 2788, 'flat': 1297, 'blinking': 549, 'lake': 1729, 'oswego': 2210, 'quot': 2425, 'full': 1365, 'shortly': 2685, '11': 21, '16': 35, 'sunday': 2936, 'defied': 943, 'aerodynamiccs': 282, 'know': 1719, 'blue': 554, 'purple': 2410, 'faded': 1219, 'danced': 909, 'cricle': 885, 'rise': 2529, 'disapper': 1011, 'retiring': 2512, 'got': 1430, 'bed': 494, 'room': 2544, 'dark': 911, 'window': 3337, 'slightly': 2744, 'open': 2179, 'head': 1489, 'left': 1770, 'gateway': 1378, 'airport': 298, 'merged': 1924, 'anouther': 352, 'became': 489, 'tight': 3040, '44straight': 197, 'approx': 374, '39': 124, 'shape': 2656, 'intense': 1630, 'each': 1092, 'cntr': 770, '44rest': 191, 'followed': 1324, 'observer': 2144, 'stoppe': 2889, 'brownwood': 616, 'texas': 2999, '33': 117, 'mass': 1900, 'sporadically': 2832, 'inconsistent': 1611, 'sounds': 2791, 'waves': 3284, '29': 106, '442008': 151, '8pm': 242, '44my': 181, 'yr': 3402, 'old': 2168, 'girls': 1398, 'asked': 407, 'what': 3308, 'if': 1598, 'shooting': 2679, 'told': 3053, 'them': 3005, 'moves': 2018, 'being': 504, 'disk': 1020, 'field': 1254, '70': 232, '39s': 133, 'pass': 2258, 'play': 2335, 'chase': 702, 'appear': 366, 'altitude': 324, 'during': 1088, 'clear': 749, 'day': 926, '44make': 179, 'disappear': 1005, 'hammond': 1465, 'illinois': 1600, 'sylvania': 2960, 'mccord': 1907, 'junior': 1691, 'outer': 2219, 'space': 2803, '20': 78, 'looked': 1829, 'stars': 2862, 'flash': 1292, 'brightlights': 599, 'amp': 336, 'weird': 3292, 'noisies': 2088, 'strange': 2902, 'happennings': 1476, 'walking': 3268, 'local': 1817, 'bar': 457, 'mars': 1896, 'because': 490, 'can': 657, 'well': 3293, 'right': 2525, 'now': 2117, 'pulsating': 2403, 'bethel': 520, 'park': 2250, 'pa': 2236, 'christmas': 721, 'eve': 1174, 'san': 2572, 'antonio': 356, 'camera': 653, 'definitely': 945, 'could': 857, 'idetify': 1597, 'this': 3023, 'ordinary': 2200, 'flies': 1306, 'silently': 2706, 'evening': 1176, 'please': 2340, 'respect': 2506, 'privacy': 2386, 'changed': 697, 'directions': 998, 'experience': 1196, 'unkown': 3184, 'vegas': 3230, 'couch': 856, 'screen': 2604, 'door': 1053, 'happened': 1475, 'see': 2617, 'airplane': 296, 'but': 632, 'closer': 762, 'orb': 2194, 'barnes': 463, 'rd': 2446, 'wallingford': 3269, 'oval': 2225, 'blueish': 555, 'zig': 3412, 'zaging': 3409, 'dissapears': 1028, 'strage': 2898, 'ohio': 2163, 'river': 2533, 'slow': 2746, 'spectacular': 2813, 'triangle': 3117, 'seem': 2619, 'se': 2605, 'did': 973, 'move': 2012, 'long': 1822, 'eastern': 1105, 'random': 2439, 'pulse': 2405, 'aircraft': 292, 'pressure': 2381, 'wave': 3283, 'ahead': 290, 'green': 1444, 'strobing': 2922, 'duration': 1086, 'nuforc': 2120, 'note': 2108, 'sirius': 2717, 'pd': 2277, 'bell': 508, 'dissapear': 1026, 'reappear': 2458, 'monmouth': 1985, 'county': 863, 'new': 2068, 'jersey': 1675, 'maple': 1886, 'grove': 1455, 'apparent': 364, 'firey': 1273, 'bottom': 574, 'photos': 2305, 'captured': 670, 'drops': 1080, 'late': 1751, 'afternoon': 287, 'raleigh': 2436, 'nc': 2052, 'april': 377, '8th': 243, 'our': 2216, 'lost': 1838, 'morphed': 1996, 'disappearing': 1008, 'spotted': 2836, 'columbus': 790, 'ms': 2024, 'military': 1948, 'aircrafts': 293, 'appearing': 369, 'investigate': 1646, 'grey': 1447, 'friend': 1354, 'fashion': 1239, 'sideways': 2697, 'direct': 994, 'future': 1366, 'backyard': 445, 'soaring': 2767, 'flashing': 1295, 'erratically': 1165, 'low': 1846, '22': 98, 'headlights': 1494, 'centered': 690, '25': 101, '13': 25, '40': 140, 'squared': 2844, 'vessel': 3241, 'macon': 1860, 'ga': 1370, 'paper': 2244, 'journal': 1685, 'stated': 2867, 'month': 1989, 'satalites': 2578, 'visible': 3256, '39winking': 137, 'ufos': 3154, 'charleston': 700, 'sc': 2592, 'streaming': 2909, 'spheres': 2823, 'des': 955, 'moines': 1978, 'iowa': 1653, 'balls': 453, 'formations': 1338, 'jets': 1677, 'toward': 3066, 'kennedy': 1702, 'center': 689, 'viewed': 3249, 'cocoa': 775, 'fl': 1281, 'glowing': 1417, 'bday': 476, 'party': 2256, 'else': 1125, 'am': 328, 'reporting': 2498, 'gulf': 1457, 'ashtabula': 406, 'sister': 2719, 'brother': 612, 'law': 1757, 'hard': 1478, 'explain': 1198, 'three': 3031, 'suburb': 2928, 'fire': 1269, 'beloit': 510, 'wi': 3324, 'border': 570, 'pea': 2278, 'pod': 2344, 'four': 1345, 'lighted': 1790, 'peas': 2281, 'top': 3059, 'witnessed': 3360, 'times': 3044, 'tremendeous': 3110, 'erratic': 1164, 'moveme': 2014, 'travel': 3095, 'northern': 2100, 'florida': 1314, 'pulsing': 2408, 'shot': 2686, 'rocket': 2538, 'unlike': 3185, 'mi': 1936, 'soundless': 2789, 'six': 2727, 'those': 3025, 'baseball': 467, 'strobe': 2920, 'lebanon': 1768, 'ct': 893, 'i4': 1586, 'exit': 1192, '14': 29, 'spherical': 2824, 'halo': 1463, 'arc': 380, 'overhead': 2231, 'remember': 2487, 'pale': 2240, 'city': 743, 'durham': 1087, 'following': 1325, 'direction': 996, 'lite': 1806, 'through': 3034, 'observed': 2143, 'brie': 593, 'far': 1232, 'glod': 1413, 'nothig': 2111, 'you': 3398, 'much': 2027, 'nice': 2074, 'mercey': 1922, 'hot': 1545, 'springs': 2840, 'spinning': 2827, 'solid': 2773, 'shinny': 2674, 'transparent': 3092, 'spot': 2833, 'heading': 1492, 'huge': 1566, 'orangeish': 2189, 'forming': 1340, 'curved': 898, 'had': 1460, 'somewhere': 2781, 'cen': 688, '160': 36, 'more': 1993, 'type': 3150, 'formed': 1339, 'seconds': 2615, 'way': 3286, 'lighthouse': 1791, 'does': 1043, 'cigar': 729, 'me': 1910, 'electric': 1120, 'indian': 1616, 'carolina': 673, 'passenger': 2260, 'seat': 2609, 'conversion': 844, 'van': 3214, 'mom': 1981, 'siblings': 2694, 'asleep': 408, 'emitted': 1134, 'daylight': 927, 'rush': 2566, 'hour': 1547, 'gray': 1441, 'awesome': 439, 'yet': 3396, 'creepy': 882, 'spooky': 2831, 'shined': 2669, 'shiniest': 2671, 'chrome': 722, 'ever': 1182, 'completely': 805, 'quiet': 2422, 'sighted': 2699, 'las': 1746, 'report': 2496, 'event': 1179, 'wells': 3294, '44texas': 198, 'without': 3358, '300': 109, '400': 141, 'feet': 1245, 'phoenix': 2299, 'az': 441, 'orage': 2186, 'glenville': 1405, 'wv': 3384, 'hovers': 1557, 'houston': 1552, 'tx': 3148, 'fall': 1227, '1973': 60, 'spotlight': 2834, 'mist': 1971, 'upward': 3199, 'motion': 2002, 'missile': 1967, 'launch': 1754, '44then': 200, 'orang': 2187, 'watching': 3281, 'mountain': 2010, 'fanwood': 1231, 'nj': 2081, 'series': 2638, 'southwestern': 2801, 'teardrop': 2985, 'water': 3282, 'lit': 1805, 'flew': 1301, 'bothell': 573, 'wa': 3261, 'metallic': 1929, 'dodge': 1042, 'street': 2911, 'exprsway': 1206, 'omaha': 2170, 'ne': 2053, 'hbccufo': 1487, 'canadian': 659, 'didn': 974, '39t': 134, 'surrounded': 2946, 'neon': 2064, 'hover': 1553, 'dart': 914, 'massive': 1902, 'colorful': 785, 'instantly': 1624, 'highway': 1520, '31': 112, 'indiana': 1617, 'descend': 957, 'trees': 3106, 'hill': 1521, 'directly': 999, 'vernon': 3236, 'glowball': 1415, 'front': 1361, 'bedroom': 496, 'felt': 1247, 'butterfly': 633, 'sensation': 2628, 'chest': 712, 'th': 3000, 'cylinder': 901, 'atlantic': 414, 'ocean': 2152, 'coastal': 774, 'hobe': 1529, 'miami': 1937, 'alien': 310, 'playing': 2339, 'forth': 1343, 'egg': 1117, '03': 5, 'l7': 1724, 'hours': 1548, 'vanishing': 3221, 'leaving': 1767, 'bobbing': 560, 'unknown': 3183, 'twinkling': 3144, 'corners': 849, 'underneath': 3168, 'arou': 393, 'thin': 3017, 'pinkish': 2321, 'rings': 2528, 'drifting': 1069, 'mt': 2026, 'va': 3210, 'potomac': 2371, 'early': 1096, '1963': 50, '1964': 51, 'reno': 2490, 'streets': 2913, 'trying': 3130, 'find': 1265, 'hotel': 1546, 'noticed': 2114, 'pie': 2312, 'hanging': 1472, 'circus': 739, 'parki': 2251, '197': 57, 'headed': 1490, 'work': 3373, 'horizion': 1538, 'pics': 2309, 'decide': 938, 'yourself': 3400, 'bolingbrook': 564, 'may': 1904, '17th': 41, '2001': 81, 'meadows': 1912, 'length': 1771, 'flickered': 1303, 'replace': 2494, 'strong': 2923, 'pacific': 2238, 'lincoln': 1799, 'sea': 2606, 'gypsy': 1459, 'beach': 478, 'coming': 796, 'travels': 3100, 'minute': 1962, 'ascends': 404, 'gliding': 1408, 'manhattan': 1877, 'dinner': 991, 'some': 2775, 'couldn': 858, 'beileve': 503, 'los': 1836, 'angeles': 342, 'march': 1888, '2004': 83, 'faster': 1241, 'anything': 359, 'multi': 2029, 'coloured': 787, 'blasts': 541, 'shifting': 2667, 'swaying': 2957, '2055': 93, 'hrs': 1561, 'edt': 1114, 'single': 2716, 'tremendously': 3111, 'explodes': 1203, 'activity': 276, 'keller': 1700, 'satellites': 2580, 'associated': 410, 'chemtrails': 708, 'traveled': 3096, 'unusual': 3192, 'manner': 1880, 'point': 2345, 'zags': 3410, 'loops': 1834, 'minnesotas': 1959, 'woods': 3371, 'nearly': 2056, 'equilateral': 1157, 'corner': 848, 'total': 3063, 'sillouette': 2707, 'si': 2693, 'illuminated': 1601, 'disks': 1021, 'mountains': 2011, 'flame': 1284, 'northeast': 2098, 'location': 1819, 'georgia': 1385, 'extreme': 1208, 'flickering': 1304, 'tubular': 3132, 'delta': 950, 'both': 572, 'debris': 934, 'sightings': 2701, 'kingstown': 1714, 'ri': 2521, 'odd': 2155, 'lewisville': 1778, 'running': 2563, 'leader': 1760, 'rural': 2565, 'tests': 2997, 'soil': 2771, 'fuel': 1364, 'cell': 686, 'vapor': 3222, 'dogs': 1047, 'barking': 461, 'loudly': 1842, 'flanked': 1287, 'ones': 2174, 'sited': 2721, 'pier': 2314, 'pawleys': 2276, 'island': 1659, 'become': 491, 'auburn': 420, 'federal': 1244, 'luminous': 1851, 'pittsburgh': 2325, 'year': 3389, 'distinct': 1036, 'naked': 2045, 'eye': 1210, 'yuma': 3405, 'movement': 2015, 'winn': 3347, 'dixie': 1040, 'parking': 2252, 'lot': 1839, 'longwood': 1825, 'whippany': 3317, 'morris': 1998, 'last': 1747, 'smoking': 2760, 'cigarette': 731, 'always': 327, 'do': 1041, 'repeated': 2493, 'encounter': 1140, '1980': 65, 'beardstown': 483, 'confirmed': 818, 'nature': 2049, 'traditional': 3079, 'format': 1336, 'port': 2359, 'california': 645, 'veers': 3229, 'vanishes': 3220, 'many': 1885, 'dots': 1056, 'put': 2413, 'outlined': 2222, 'travelling': 3099, 'shiny': 2675, 'disappeards': 1006, 'dim': 982, 'also': 322, 'crossed': 888, 'great': 1442, 'distances': 1034, 'short': 2683, 'amount': 335, 'time': 3043, 'reappeare': 2459, 'circles': 735, 'splitting': 2829, 'siting': 2722, 'vancouver': 3215, 'haze': 1485, '96': 248, 'ashland': 405, 'oregon': 2202, '1996': 72, 'lima': 1797, 'metal': 1927, 'country': 862, 'state': 2866, 'amber': 332, 'least': 1765, '6000': 224, '7000': 233, 'absolutely': 262, 'fixed': 1280, 'nailed': 2044, 'place': 2326, 'bb': 475, 'held': 1504, 'arms': 391, '30am': 110, 'thought': 3027, 'began': 499, 'binoculars': 530, 'husband': 1578, 'been': 497, 'seeing': 2618, 'western': 3302, '6pm': 231, 'every': 1183, 'hw': 1580, 'lo': 1814, 'rest': 2507, 'flashed': 1293, 'revealed': 2516, '35ish': 121, 'wife': 3328, 'shopping': 2681, 'bag': 446, 'ciruclar': 741, 'dropping': 1079, 'flares': 1291, 'golden': 1423, 'below': 511, 'wyoming': 3386, 'figeting': 1257, 'resturant': 2509, 'called': 647, '66': 227, '100': 14, 'side': 2695, 'distance': 1033, 'making': 1872, 'smoke': 2758, 'stopped': 2890, 'waiting': 3264, '1999': 74, 'crafts': 875, 'triange': 3116, 'separate': 2629, 'within': 3357, 'ten': 2994, 'body': 562, 'sort': 2786, 'almost': 317, 'bouy': 581, 'only': 2175, 'explainable': 1199, 'dayton': 930, 'closing': 763, 'rapidly': 2443, 'commercial': 797, 'tomah': 3054, 'wisconsin': 3351, 'softly': 2769, 'diameter': 969, 'traversed': 3102, '44800': 154, 'detectable': 965, 'looks': 1832, 'condor': 814, 'cross': 887, 'bird': 532, 'drone': 1077, 'eagle': 1094, 'qu': 2415, 'split': 2828, 'fighter': 1258, 'jet': 1676, 'intercepted': 1636, 'second': 2614, 'toronto': 3062, 'steps': 2885, 'apartment': 361, 'travling': 3103, 'zigzagging': 3414, 'opposite': 2182, 'brightly': 600, 'intermittently': 1639, 'non': 2091, 'sw': 2955, 'denver': 952, 'skyline': 2738, 'rex': 2518, 'couldnt': 859, 'believe': 506, 'thing': 3018, 'colors': 786, '44gold': 171, 'football': 1330, 'gondola': 1426, 'structure': 2925, 'traffic': 3080, 'congestion': 822, 'bakersfield': 447, 'ca': 639, 'january': 1671, '1983': 67, 'golfing': 1425, 'weekend': 3291, 'myrtle': 2040, 'august': 422, '2006': 85, 'witc': 3354, 'pronged': 2390, '60': 223, 'level': 1777, 'sat': 2577, 'contemplated': 834, 'how': 1558, 'school': 2600, 'later': 1752, 'fiery': 1256, 'erraticly': 1166, 'mufon': 2028, 'colorado': 783, 'witnesses': 3361, 'buzz': 634, '17': 38, 'transport': 3093, 'vail': 3211, 'cone': 815, 'strip': 2917, 'medford': 1913, 'potterville': 2372, '7pm': 236, '21': 96, 'lobed': 1816, 'westerly': 3301, 'leading': 1761, 'tacoma': 2963, 'isle': 1660, 'child': 715, 'however': 1560, 'hig': 1516, 'rectangle': 2468, 'motionless': 2003, 'gilbert': 1394, 'flipping': 1309, 'i5freeway': 1588, 'fade': 1218, 'reapear': 2455, 'places': 2327, 'maybe': 1905, '26': 103, 'cousins': 868, 'balcony': 448, 'beachfront': 479, 'avon': 435, 'southern': 2797, 'fruitville': 1362, 'sarasota': 2575, 'earth': 1097, 'abnormal': 256, 'jefferson': 1673, 'say': 2587, 'here': 1513, 'yes': 3395, 'are': 383, 'bristol': 606, 'tn': 3049, 'film': 1263, 'who': 3322, 'knows': 1721, 'hundreds': 1574, 'people': 2285, 'considered': 825, 'authentic': 427, 'has': 1480, 'determined': 966, 'hoax': 1527, 'visual': 3260, 'view': 3248, 'miles': 1947, 'returned': 2515, 'wingless': 3345, 'tube': 3131, 'perfectly': 2290, 'floated': 1311, 'signal': 2703, 'boise': 563, 'id': 1594, 'set': 2642, 'located': 1818, 'campbells': 654, 'drive': 1074, 'shiney': 2670, 'lane': 1737, 'normal': 2096, 'horizontal': 1541, 'tilting': 3042, 'landed': 1735, 'mesa': 1925, 'width': 3326, 'dusk': 1090, 'evenly': 1178, 'alternated': 323, 'between': 522, 'invisible': 1650, 'travelled': 3098, 'trails': 3084, 'triangles': 3120, '44objects': 184, 'darted': 915, 'zag': 3406, 'boomerang': 568, 'flashes': 1294, 'sides': 2696, 'beam': 480, 'shining': 2672, 'touching': 3065, 'ground': 1450, 'irregular': 1655, 'morning': 1994, 'shinning': 2673, 'wispy': 3353, 'orbiting': 2197, 'broad': 607, 'witness': 3359, 'discovers': 1017, 'marks': 1893, 'cylindrical': 904, 'reddish': 2474, 'consistent': 827, 'background': 443, 'sk': 2731, 'bunch': 622, 'circlular': 737, 'descends': 960, 'uncertain': 3161, 'whether': 3314, 'serious': 2639, 'pinal': 2318, '44circular': 165, '44red': 190, 'fading': 1221, '44huge': 174, '44silent': 195, 'mintues': 1961, 'stalled': 2853, 'airplanes': 297, 'shapes': 2658, 'cranston': 876, 'reappears': 2462, 'diff': 976, '10th': 20, '1pm': 76, 'go': 1419, 'sun': 2935, 'wilsonville': 3335, '44il': 176, '1979': 64, 'known': 1720, 'its': 1667, 'radioactive': 2430, 'waste': 3278, 'dump': 1084, 'seventies': 2646, 'ship': 2676, 'row': 2557, 'classic': 745, 'dome': 1050, '39dancing': 129, 'ventura': 3234, 'role': 2541, 'offshore': 2161, 'multiple': 2033, 'differing': 980, 'intervention': 1644, 'streaking': 2907, 'fireballs': 1271, 'cincinnati': 732, 'oh': 2162, 'coast': 773, 'copper': 846, 'diamonds': 971, 'westbound': 3299, 'tyler': 3149, 'en': 1138, 'cette': 693, 'ann': 345, 'eacute': 1093, 'je': 1672, 'demeur': 951, 'avec': 430, 'mon': 1983, 'copain': 845, 'puis': 2398, '39avais': 126, 'trac': 3072, 'un': 3158, 'cercle': 692, 'de': 933, 'peace': 2279, 'love': 1845, 'jours': 1686, 'avant': 428, 'crayons': 878, 'feutre': 1251, 'juste': 1696, 'par': 2245, 'these': 3014, 'hoovering': 1537, 'father': 1242, 'son': 2782, 'brookyln': 611, 'ny': 2125, '1970': 58, 'breaks': 590, 'ypsilanti': 3401, 'moon': 1991, 'differen': 977, 'southwards': 2799, 'rose': 2545, 'site': 2720, 'manuever': 1881, 'orlando': 2209, 'changes': 698, 'portal': 2360, 'aptos': 379, 'perfect': 2289, 'isosceles': 1661, 'complete': 804, 'unison': 3180, 'nw': 2124, 'turning': 3138, 'shorted': 2684, 'cluster': 769, 'interchanging': 1637, 'apeared': 362, 'thrust': 3037, 'dissappeared': 1031, 'reappeared': 2460, 'con': 809, 'taking': 2971, 'dog': 1044, 'standing': 2855, 'deck': 940, 'faces': 1215, 'due': 1082, 'his': 1525, 'decently': 937, 'repeat': 2492, 'show': 2688, '2000': 80, 'cloaked': 756, 'components': 808, 'international': 1640, 'seven': 2645, 'things': 3019, 'emitting': 1135, 'loud': 1841, 'shrieking': 2690, 'orangey': 2192, 'pink': 2320, 'inside': 1622, '33right': 119, 'persistent': 2295, 'arced': 381, 'bluish': 556, 'involved': 1651, 'strangley': 2904, '1966': 53, '8211': 239, 'blackfoot': 537, 'valley': 3213, 'ovando': 2227, 'farmland': 1237, 'young': 3399, 'woman': 3365, 'walk': 3266, 'metro': 1933, 'path': 2267, 'bearing': 484, 'along': 319, 'lines': 1802, 'even': 1175, 'woode': 3368, 'approached': 372, 'main': 1865, 'opened': 2180, 'played': 2338, 'original': 2206, 'picture': 2310, 'worth': 3378, 'words': 3372, '44000': 148, 'threw': 3032, 'rocks': 2540, 'ovoid': 2234, 'yellowish': 3394, 'mutiney': 2037, 'bay': 473, 'hundred': 1573, 'folks': 1322, 'celebrating': 685, '4th': 213, 'july': 1688, 'union': 3177, 'dad': 906, 'kite': 1716, 'relized': 2484, 'blinked': 547, 'sequence': 2636, '44saw': 193, 'string': 2916, 'order': 2199, 'litghts': 1807, 'square': 2843, 'kiltered': 1710, 'fluttering': 1318, 'approaching': 373, 'southeast': 2795, 'region': 2480, 'farmington': 1236, 'blimp': 544, 'washington': 3276, 'seattle': 2610, 'madrona': 1863, 'groups': 1454, '1998': 73, 'wanted': 3273, 'press': 2379, 'nuclear': 2119, 'reactor': 2448, 'helicopters': 1507, 'static': 2870, 'randomly': 2440, '20min': 94, 'once': 2172, 'drove': 1081, 'awoken': 440, 'capsule': 669, 'land': 1734, 'take': 2968, 'restaurant': 2508, 'noon': 2093, 'continued': 836, 'ready': 2451, 'pull': 2399, 'driveway': 1075, 'good': 1428, 'distant': 1035, 'eight': 1118, 'intervals': 1643, 'murfreesboro': 2034, 'ballls': 450, 'skies': 2733, 'howad': 1559, 'vanish': 3217, 'cousin': 867, 'her': 1512, 'tall': 2976, 'pine': 2319, 'cleaning': 748, 'fish': 1277, 'purpule': 2411, 'ju': 1687, 'faint': 1222, 'rate': 2444, 'seethrough': 2625, 'elongated': 1124, 'pentagon': 2284, 'poles': 2351, 'surrounding': 2947, 'misterious': 1972, 'hollywood': 1532, '2012': 91, 'suburban': 2929, 'minneapolis': 1957, '9pm': 250, 'range': 2441, 'since': 2714, 'barely': 460, 'days': 928, 'reading': 2450, 'garden': 1375, 'yard': 3387, 'compared': 802, 'abilene': 253, 'finished': 1267, 'rerun': 2500, 'ghost': 1390, 'hunters': 1575, 'laptop': 1742, 'usual': 3207, 'google': 1429, 'cube': 894, 'stop': 2888, 'dropped': 1078, 'gas': 1376, 'station': 2871, 'departed': 953, 'oranges': 2191, 'exact': 1184, 'apart': 360, 'meteors': 1931, 're': 2447, 'entering': 1152, 'unexplained': 3174, 'playa': 2336, 'del': 948, 'rey': 2519, 'suspicious': 2952, 'hazy': 1486, 'michigan': 1939, 'blink': 546, 'gone': 1427, 'umo': 3157, '1988': 70, 'oct': 2153, 'figures': 1260, 'buildings': 621, 'rigid': 2526, 'aerial': 281, 'acrobatics': 272, 'slight': 2743, 'sutle': 2953, 'under': 3167, 'spencerport': 2819, 'wx': 3385, 'cavu': 684, 'calm': 648, '3rd': 139, 'burned': 626, 'flight': 1307, 'descended': 958, 'stationery': 2873, 'though': 3026, 'venus': 3235, 'zooming': 3421, 'buzzing': 635, 'noiseless': 2086, 'angles': 344, 'aura': 424, 'steady': 2878, 'glimmering': 1409, 'counties': 861, 'middle': 1941, 'puget': 2397, 'northward': 2102, 'sonora': 2783, 'meets': 1916, 'others': 2212, 'disappears': 1010, 'armada': 390, 'baltimore': 454, 'beltway': 514, 'observing': 2148, 'steelers': 2881, 'game': 1372, 'peoria': 2286, 'nearby': 2055, 'ports': 2363, 'northwest': 2103, '2008': 87, 'anthony': 355, 'gap': 1374, 'el': 1119, 'paso': 2257, '00pm': 2, 'moline': 1980, 'falling': 1228, 'earths': 1099, 'atomsphere': 417, 'landing': 1736, 'missouri': 1970, 'vision': 3257, 'scope': 2601, 'rows': 2558, 'bigger': 525, 'brighter': 598, 'seperate': 2633, 'hum': 1569, 'change': 696, 'starlike': 2860, 'dribbled': 1067, 'stright': 2915, 'corona': 852, 'uah': 3152, 'huntsville': 1576, 'al': 301, 'mph': 2023, 'next': 2072, 'cape': 667, 'cod': 777, 'forms': 1341, 'nowhere': 2118, 'somehow': 2776, 'sure': 2942, 'where': 3313, 'triang': 3115, 'slowely': 2748, 'darts': 917, 'sequentially': 2637, 'arched': 382, 'zenith': 3411, 'notheastern': 2110, 'mirror': 1965, 'cylndrical': 905, 'downtown': 1062, 'southbound': 2794, 'davie': 925, '39nt': 131, 'marble': 1887, 'viewpoint': 3251, 'points': 2348, 'heades': 1491, 'sse': 2846, 'treetop': 3107, 'remote': 2488, 'catskill': 681, 'sharp': 2661, 'angle': 343, 'banos': 456, 'hwy': 1581, '27': 104, '15am': 34, 'quietly': 2423, 'arrow': 398, 'biggest': 526, 'ended': 1142, 'keep': 1698, 'decended': 936, 'ascended': 402, 'form': 1335, 'dishpan': 1019, 'glacier': 1400, 'peak': 2280, 'releasing': 2483, 'tiny': 3047, 'littleton': 1811, 'storms': 2895, 'various': 3223, 'conformations': 821, 'westward': 3306, 'empty': 1137, 'spurts': 2842, 'chain': 694, 'equally': 1155, 'spaced': 2805, 'constant': 830, 'cascades': 676, 'larger': 1745, 'moment': 1982, 'obj': 2133, 'iss': 1662, 'planet': 2331, 'roseville': 2547, '48066': 211, '48': 210, 'est': 1169, 'student': 2926, 'doors': 1054, 'arnold': 392, 'mo': 1975, 'kettleman': 1706, 'coalinga': 772, 'scarry': 2596, 'summer': 2933, 'shapped': 2660, 'rooftops': 2543, 'helicopter': 1506, 'plus': 2342, 'hampton': 1467, '23': 99, 'took': 3058, 'zoomed': 3420, 'help': 1510, 'interrupted': 1641, '04': 7, 'visable': 3254, 'eratic': 1159, 'behavior': 501, 'lauderdale': 1753, 'estimated': 1170, 'huvering': 1579, '44jerked': 177, '44than': 199, 'third': 3021, 'rancho': 2438, 'cucamonga': 895, 'oblong': 2138, 'rear': 2463, '460': 209, 'christiansburg': 720, 'blacksburg': 539, 'peppers': 2287, 'ferry': 1250, 'box': 583, 'directional': 997, 'eastery': 1106, 'nights': 2077, 'treeline': 3105, 'season': 2608, '1975': 62, 'capitan': 668, '500': 215, 'mile': 1946, 'interstate': 1642, 'digital': 981, 'camara': 649, 'use': 3205, 'scan': 2593, 'skys': 2739, 'months': 1990, 'nothing': 2112, 'isaw': 1657, 'playback': 2337, 'enlarging': 1150, 'graham': 1435, 'caroline': 674, '75': 235, 'building': 620, 'busy': 631, '39m': 130, 'writing': 3381, '35': 120, 'mins': 1960, 'appears': 370, 'get': 1386, 'satillite': 2581, 'flashlight': 1296, 'joined': 1682, 'clifton': 752, 'nne': 2083, 'smoky': 2761, 'mnts': 1974, 'guelph': 1456, '3bright': 138, 'trianglular': 3122, 'st': 2847, 'catharines': 680, 'dissapeared': 1027, 'thru': 3036, 'nite': 2080, 'temecula': 2993, '44ca': 164, 'ops': 2183, 'dice': 972, 'cirlcle': 740, 'clockface': 758, 'montauk': 1988, 'spotlighting': 2835, 'shed': 2664, '44at': 158, 'cornwall': 851, 'rotate': 2548, 'erractic': 1161, 'varying': 3225, 'speeds': 2818, 'mount': 2009, 'lbert': 1758, 'dot': 1055, 'vey': 3242, 'hi': 1514, 'faa': 1212, 'usually': 3208, 'smoothly': 2763, 'navigation': 2051, 'ma': 1857, 'will': 3330, 'turns': 3140, 'accross': 270, 'september': 2635, '2011': 90, 'fluorescent': 1317, 'virginia': 3253, 'dc': 932, 'shut': 2691, 'fell': 1246, 'footage': 1329, 'sacramento': 2568, 'stepped': 2884, 'job': 1681, 'break': 589, 'walked': 3267, 'trunk': 3129, 'facing': 1216, 'talking': 2975, 'zagged': 3407, 'runway': 2564, 'experienced': 1197, '360': 122, 'rising': 2531, 'follow': 1323, 'explanations': 1201, 'sunny': 2937, 'brihgte': 602, 'kinda': 1712, 'recktangular': 2467, 'started': 2864, 'rad': 2427, 'ends': 1143, 'accelerates': 266, 'augusta': 423, 'sparkling': 2810, 'contrai': 839, 'totally': 3064, 'unique': 3179, 'previously': 2383, '31st': 114, '55': 220, 'edina': 1113, 'usa': 3203, 'staten': 2868, '44ny': 183, 'scattered': 2598, 'fresno': 1352, 'i95': 1592, 'richmond': 2522, 'phillipsburg': 2298, 'easton': 1107, 'realized': 2453, 'accompanied': 268, 'super': 2941, 'linear': 1801, 'westside': 3305, 'originally': 2207, 'skipped': 2735, 'columns': 791, '44green': 172, '447': 153, '95': 246, '44boone': 162, 'orbital': 2196, 'orangelights': 2190, 'gold': 1422, 'tessellated': 2996, 'rhomboidal': 2520, 'panes': 2243, 'flap': 1288, 'pursuit': 2412, 'vector': 3228, 'unexplainably': 3173, 'westminster': 3303, 'md': 1908, 'man': 1875, 'awakened': 436, 'pressed': 2380, 'their': 3004, 'indicator': 1618, 'pieces': 2313, 'junk': 1692, 'reentering': 2477, 'strs': 2924, 'converging': 843, 'upwad': 3198, 'becoming': 493, 'grouping': 1453, 'balloons': 452, 'adult': 278, 'female': 1248, 'bizarre': 535, 'reports': 2499, 'polished': 2353, 'aluminum': 326, 'nose': 2105, 'attitude': 419, 'domed': 1051, 'heard': 1496, 'erradically': 1163, 'stabilized': 2848, 'itself': 1668, 'images': 1605, 'roughly': 2552, 'organge': 2203, 'circled': 734, 'ligh': 1786, 'unidentified': 3175, 'yards': 3388, 'passes': 2261, 'littlefield': 1809, 'replacement': 2495, 'twice': 3143, 'positioned': 2366, 'stay': 2874, 'remaining': 2486, '01': 3, '07': 10, 'abt': 263, 'honey': 1535, 'planetary': 2332, 'pullman': 2401, 'gettysburg': 1389, 'littlestown': 1810, 'him': 1523, 'upwards': 3200, 'crew': 884, 'sees': 2624, 'prior': 2385, '1965': 52, 'blackout': 538, 'advanced': 280, 'patterns': 2273, 'fluid': 1316, 'human': 1570, 'handle': 1469, 'southeastern': 2796, 'foley': 1321, 'alabama': 302, 'sitings': 2723, '39re': 132, 'mid': 1940, 'tucson': 3133, 'blinks': 550, 'enjoying': 1149, 'burger': 623, 'ali': 309, 'inn': 1620, '8230': 240, '44and': 156, 'zipping': 3416, 'make': 1870, 'glendale': 1404, 'fl200': 1282, 'masking': 1898, 'pacing': 2239, 'airliner': 295, 'streaks': 2908, 'tracers': 3074, 'shoot': 2678, 'slowed': 2747, 'kept': 1705, 'expose': 1205, 'source': 2792, 'summverville': 2934, 'retired': 2511, 'submariner': 2927, 'unexplainable': 3172, 'reflective': 2479, 'stood': 2887, 'rotated': 2549, 'motio': 2001, 'alexandria': 307, 'closely': 761, 'group': 1451, 'nighttime': 2078, 'intelligent': 1629, 'aware': 437, 'shaft': 2653, 'tractor': 3078, 'trek': 3109, 'chrysler': 723, 'sebring': 2611, 'ridge': 2523, 'austin': 426, 'trajectory': 3087, 'frightening': 1357, '43': 146, 'ovals': 2226, 'movements': 2016, 'approach': 371, 'pulsated': 2402, 'zipped': 3415, 'wednesday': 3289, 'preparing': 2375, 'taken': 2969, 'truck': 3127, 'winds': 3340, 'scary': 2597, 'situation': 2726, 'hudson': 1563, 'presence': 2376, 'jetted': 1678, 'perceived': 2288, 'soft': 2768, 'tues': 3134, 'shoots': 2680, 'incredibly': 1613, 'const': 828, 'vehicles': 3232, 'freeway': 1350, 'lamps': 1733, 'chicago': 714, 'il': 1599, 'upright': 3197, 'aftewr': 288, 'barn': 462, 'friends': 1355, '39clock': 128, 'lafever': 1728, 'loo': 1826, 'lycoming': 1855, 'mall': 1874, 'williamsport': 3332, 'pennsylvania': 2283, 'maine': 1866, 'goto': 1431, 'reason': 2464, 'li': 1781, 'iridescent': 1654, 'noises': 2087, 'boulder': 575, 'humanoid': 1571, 'tampa': 2977, 'aug': 421, '2010': 89, 'earliest': 1095, 'paralyzing': 2249, 'liberty': 1782, 'beams': 482, 'church': 726, 'services': 2641, 'abruptly': 261, 'thunderstorm': 3038, 'bronx': 609, 'york': 3397, 'hulman': 1568, 'institute': 1626, 'technology': 2986, 'wetlands': 3307, 'national': 2048, 'return': 2514, 'previous': 2382, 'leaped': 1764, 'drips': 1072, 'memorial': 1917, 'service': 2640, 'pastor': 2264, 'i70e': 1589, 'co': 771, 'lg': 1780, 'crashed': 877, 'allegedly': 314, 'affected': 285, 'dashboard': 918, 'events': 1180, 'separated': 2630, 'teal': 2983, 'vertical': 3238, 'heavy': 1499, 'hangglider': 1471, 'stealth': 2879, 'sha': 2650, 'columbia': 789, 'setting': 2644, 'amended': 334, 'date': 920, 'suspect': 2949, 'porch': 2358, 'mentioned': 1921, 'fiance': 1253, 'he': 1488, 'said': 2569, 'feb': 1243, 'call': 646, 'dallas': 907, 'lookes': 1830, 'triangluar': 3121, 'slowy': 2753, 'walmart': 3270, 'canyon': 664, 'lived': 1812, 'general': 1381, 'aviation': 433, 'witnessing': 3362, 'constan': 829, 'mir': 1964, 'aligned': 311, 'knew': 1718, 'wasn': 3277, 'morphing': 1997, 'covered': 870, '90': 244, 'approximately': 376, 'whit': 3318, 'twenty': 3142, 'outlining': 2223, 'savannah': 2585, 'edges': 1112, 'perhaps': 2292, 'paused': 2275, 'dipped': 992, 'polar': 2349, 'orbit': 2195, 'shuttle': 2692, 'traverse': 3101, '442001': 150, 'manueverablilty': 1882, 'thornhill': 3024, 'cured': 897, 'scepticisim': 2599, 'dull': 1083, 'wildest': 3329, '39ve': 136, 'keeping': 1699, 'escort': 1167, 'look': 1827, 'rectanglular': 2470, 'parachute': 2246, 'tried': 3124, 'snap': 2764, 'cou': 855, 'obserbed': 2141, 'upper': 3196, 'quadrant': 2417, 'windshield': 3341, 'backing': 444, 'sough': 2787, 'eastward': 1108, 'self': 2626, '44daughter': 169, 'fishing': 1278, 'cloudy': 767, 'moonlight': 1992, 'cover': 869, '44mind': 180, 'believer': 507, 'accidentally': 267, 'photographed': 2302, 'converged': 842, 'staight': 2851, 'circling': 736, 'globes': 1412, 'photographic': 2303, 'anomaly': 350, 'wide': 3325, 'ish': 1658, '44blue': 161, 'ou': 2215, 'disappered': 1012, 'i35': 1585, 'sititng': 2724, 'constellation': 832, 'effortlessly': 1116, '45min': 207, 'horizontally': 1542, 'vertically': 3239, '495': 212, '95s': 247, 'pilot': 2315, 'dispatched': 1022, 'santa': 2574, 'barbara': 458, 'smokey': 2759, 'kfc': 1707, 'doughter': 1057, 'lar': 1743, 'niceville': 2075, 'marina': 1889, 'discovery': 1018, '180': 43, 'degree': 946, 'turn': 3136, 'band': 455, 'anteloe': 354, 'tehachapi': 2988, '10pm': 19, 'leavin': 1766, 'pin': 2317, 'trailing': 3083, 'douhgnut': 1059, 'ob': 2131, 'object0': 2135, '65': 226, 'vicinity': 3245, '1974': 61, 'sign': 2702, 'she': 2663, '44craft': 168, '100ft': 16, 'dumps': 1085, 'pima': 2316, 'mine': 1955, 'desendes': 963, 'dimming': 988, 'brightening': 597, 'riverside': 2534, 'searching': 2607, 'wind': 3336, 'copters': 847, 'strangely': 2903, 'lots': 1840, 'waxhaw': 3285, 'zody': 3419, 'dept': 954, 'store': 2893, 'canoga': 661, 'balloon': 451, 'diego': 975, '2009': 88, 'flared': 1290, 'atleast': 415, 'thousand': 3028, 'belmont': 509, 'exactly': 1185, 'blocked': 551, 'firing': 1275, 'palm': 2241, 'deep': 942, 'erie': 1160, 'cylinders': 902, 'anoka': 348, 'minnesota': 1958, 'cohesive': 778, 'unit': 3181, 'net': 2065, 'grid': 1448, 'woodinville': 3370, 'hurry': 1577, 'spher': 2821, 'december': 935, '58pm': 221, 'fireworks': 1272, 'don': 1052, 'drink': 1071, 'spere': 2820, 'winged': 3344, 'flowing': 1315, 'government': 1432, 'farmer': 1234, 'idaho': 1595, 'semi': 2627, 'bound': 578, 'jordan': 1683, 'ore': 2201, 'atp': 418, 'memphis': 1918, 'observers': 2145, 'almond': 316, 'eyes': 1211, 'brightness': 601, 'proximity': 2394, 'c130': 638, 'stripes': 2918, 'videotaping': 3247, 'saratoga': 2576, 'unlit': 3186, '44lit': 178, 'confirming': 819, 'post': 2369, 'frisbee': 1358, 'amazed': 329, 'bradenton': 587, 'i80': 1590, 'beatrice': 485, 'nebraska': 2057, 'lumenescent': 1848, 'chemtrail': 707, 'darting': 916, 'ambiant': 333, 'aprox': 378, 'luminescent': 1850, 'lighting': 1792, 'president': 2378, 'bush': 630, 'speech': 2815, 'sleek': 2741, 'triangled': 3118, 'portland': 2362, 'okanagan': 2165, 'speeding': 2817, 'shap': 2655, 'blurred': 557, 'fort': 1342, 'mill': 1949, 'charlotte': 701, 'la': 1725, 'face': 1213, 'read': 2449, 'illumination': 1603, 'simultaneously': 2713, '44white': 203, 'sudden': 2931, 'really': 2454, 'tr': 3071, 'myself': 2041, 'brothers': 613, 'noisless': 2089, 'tower': 3068, 'kentucky': 1704, '68': 229, '80': 237, 'bounced': 577, '44with': 204, 'describe': 961, 'probe': 2387, 'living': 1813, 'organism': 2204, 'explanation': 1200, 'redlands': 2476, 'mead': 1911, 'cabazon': 640, 'separates': 2631, 'combine': 792, 'i294': 1584, 'oaklawn': 2129, 'strobed': 2921, 'makes': 1871, 'triangler': 3119, 'brillant': 603, 'lasting': 1748, 'gave': 1380, 'chills': 717, 'span': 2807, 'stops': 2892, 'resumes': 2510, 'higher': 1518, 'intensly': 1634, 'multicolor': 2030, 'sleeping': 2742, 'male': 1873, 'investigated': 1647, 'unconfirmed': 3164, 'tri': 3112, 'exhibited': 1190, 'anomalous': 349, '44shinny': 194, '737': 234, 'crafted': 874, 'midtown': 1943, 'atlanta': 413, 'uncle': 3162, '1968': 55, 'striations': 2914, 'lightning': 1793, 'bolts': 566, 'eminating': 1132, '25mph': 102, 'tablet': 2962, 'dimley': 985, '150': 32, 'fomation': 1327, 'rr': 2559, 'northeastern': 2099, 'oklahoma': 2166, 'dimly': 986, 'fairly': 1226, 'getting': 1388, 'eubank': 1171, 'brake': 588, 'apparently': 365, 'vehicle': 3231, 'disapp': 1004, 'steel': 2880, 'girder': 1395, 'hoovered': 1536, 'hudsonville': 1564, 'hides': 1515, 'motivation': 2005, 'included': 1609, 'database': 919, 'graveyard': 1440, 'mendon': 1920, 'ring': 2527, 'aroun': 394, 'uncontrollable': 3165, 'november': 2116, '50pm': 218, 'eureka': 1173, 'tobacco': 3051, 'faceing': 1214, 'grandmesa': 1436, 'major': 1869, 'motorists': 2008, 'turnpike': 3139, 'homes': 1534, 'police': 2352, 'name': 2046, 'radiating': 2429, 'entire': 1153, 'beavercreek': 487, 'mexico': 1935, 'naples': 2047, 'erracticly': 1162, 'itermittant': 1666, 'zigzag': 3413, 'motions': 2004, 'dims': 989, 'enfield': 1145, 'cleveland': 751, 'plasma': 2334, 'windowi': 3338, 'surpr': 2945, 'beyond': 523, 'capabilities': 665, 'manmade': 1879, 'dipper': 993, 'ooltewah': 2178, 'gives': 1399, 'dazzling': 931, 'seco': 2613, 'walton': 3271, '1500': 33, 'shoreline': 2682, 'broke': 608, 'tria': 3113, 'silence': 2704, 'wake': 3265, 'arvada': 400, '1986': 69, 'steelville': 2882, '1971': 59, 'family': 1230, 'fairfield': 1225, 'vallejo': 3212, 'partially': 2254, 'arranged': 396, 'suspected': 2950, 'jumpers': 1689, 'headlight': 1493, 'roused': 2555, 'cambria': 650, 'forest': 1333, 'reported': 2497, 'caused': 683, 'exercise': 1189, 'lapse': 1741, 'bouse': 580, 'harquahala': 1479, 'doing': 1049, 'teleporting': 2990, 'birch': 531, 'glance': 1401, 'moven': 2017, 'rainbow': 2433, 'asu': 411, 'longer': 1823, 'radiant': 2428, 'hue': 1565, 'giant': 1391, 'pitch': 2323, 'roar': 2536, 'ave': 429, 'lakewood': 1731, 'frist': 1359, 'fling': 1308, 'campfire': 655, 'crazy': 879, 'overflight': 2230, 'kendall': 1701, 'ligts': 1795, 'sometimes': 2780, 'stays': 2876, '200': 79, 'yelled': 3391, 'uncomperhensable': 3163, 'capablities': 666, 'lead': 1759, 'pictures': 2311, 'heiskell': 1503, 'stadium': 2849, 'soundlessly': 2790, 'edge': 1111, 'shimmering': 2668, 'wobbled': 3363, 'uknown': 3155, 'burgettstown': 624, '44pa': 188, 'needle': 2059, 'saturday': 2582, '33pm': 118, 'northest': 2101, 'elmwood': 1123, 'buffalo': 618, 'flames': 1285, 'neighbors': 2062, 'ours': 2217, 'anchorage': 339, 'alaska': 304, 'detroit': 967, 'windsor': 3342, 'castle': 678, 'gunnison': 1458, 'soon': 2785, 'thereafter': 3012, 'ove': 2228, 'beaverton': 488, 'visibility': 3255, 'midvale': 1944, 'salt': 2570, 'utah': 3209, 'personal': 2296, 'taylorville': 2982, 'research': 2501, 'rt': 2560, '190': 45, 'leominster': 1773, 'bernardino': 518, 'dissapered': 1030, 'most': 1999, 'easterly': 1104, 'smooth': 2762, 'blinkers': 548, '44two': 201, 'wsw': 3383, 'ese': 1168, 'sparland': 2811, 'standstill': 2856, 'louisville': 1844, 'chesapeake': 710, 'pointed': 2347, 'cull': 896, 'seperately': 2634, 'scarey': 2595, 'tops': 3060, 'gleaming': 1403, 'milroy': 1951, 'route': 2556, '322': 116, 'alone': 318, 'occasions': 2150, 'bwi': 636, 'think': 3020, 'eventually': 1181, 'slows': 2752, 'acted': 274, 'approximate': 375, 'streak': 2905, 'atmosphere': 416, 'staggered': 2850, 'lower': 1847, 'wesleyan': 3297, 'university': 3182, 'delaware': 949, 'rectangler': 2469, 'stopping': 2891, 'maze': 1906, 'decoration': 941, 'barrel': 464, 'pinpoint': 2322, 'fleet': 1300, 'connected': 823, 'tethers': 2998, 'float': 1310, 'working': 3375, '130': 26, 'cold': 779, 'cigarett': 730, 'swiftly': 2958, 'horizonal': 1540, 'fas': 1238, 'birds': 533, 'lunar': 1852, 'eclipse': 1110, 'spring': 2838, '1967': 54, 'railroad': 2432, 'track': 3075, 'hollandale': 1531, 'mn': 1973, 'strang': 2901, 'spining': 2826, 'initially': 1619, 'girlfriend': 1397, 'hinckley': 1524, 'cabin': 641, 'polution': 2354, 'incident': 1608, 'talked': 2974, 'wondered': 3366, 'intensely': 1631, 'grew': 1446, 'eerie': 1115, '24': 100, 'limbs': 1798, 'partly': 2255, 'concealed': 810, 'tandem': 2979, 'climbed': 754, 'rotates': 2550, 'unaffected': 3159, 'surroundings': 2948, 'belpre': 512, '45714': 206, 'gandy': 1373, 'bridge': 592, '39tl': 135, 'airpt': 299, 'navarre': 2050, 'similar': 2711, 'dover': 1060, 'afb': 284, '41': 143, 'chute': 727, 'tiger': 3039, 'canal': 660, 'alpine': 321, 'cloudless': 765, '141': 30, 'hyw': 1582, 'throug': 3033, 'appearances': 367, 'viewing': 3250, 'm42': 1856, 'telescope': 2991, 'anamolous': 338, 'noss': 2106, 'amazing': 331, 'conventional': 841, 'sometime': 2779, 'allemands': 315, 'movies': 2020, 'slowing': 2750, 'synchronized': 2961, 'outline': 2221, 'relatively': 2482, 'topsail': 3061, 'traingular': 3086, 'pos': 2364, 'planets': 2333, 'drifted': 1068, 'emerge': 1130, '408': 142, 'spur': 2841, 'yelling': 3392, 'saying': 2588, 'pulled': 2400, 'drapes': 1064, '1985': 68, 'meteor': 1930, 'shower': 2689, 'mylar': 2039, 'kites': 1717, '44headlights': 173, 'sparking': 2809, 'glittering': 1410, 'whittier': 3321, 'sanikiluaq': 2573, 'nunavut': 2123, '101': 18, 'such': 2930, 'chubby': 724, 'cylender': 900, 'intensified': 1632, 'heights': 1502, 'sixties': 2728, 'treetops': 3108, 'philadelphia': 2297, 'dance': 908, 'manitoba': 1878, 'springfield': 2839, 'housing': 1551, 'hatteras': 1481, 'foot': 1328, 'miamisburg': 1938, 'soldiers': 2772, 'flicker': 1302, 'instead': 1625, 'slanted': 2740, 'diminishing': 984, 'lethbridge': 1776, 'alberta': 306, 'tahoe': 2965, 'emanated': 1127, 'hell': 1509, 'fresh': 1351, 'lakes': 1730, 'kids': 1708, '12th': 24, 'floor': 1313, 'condo': 813, 'enjoy': 1148, 'discoloration': 1016, 'blacktop': 540, 'apopka': 363, 'distinctly': 1037, 'transluscent': 3091, 'ember': 1129, 'thousands': 3029, 'pri': 2384, '32': 115, '170': 39, 'calaveras': 644, 'tumbling': 3135, 'booster': 569, 'vandenburge': 3216, 'palms': 2242, 'marine': 1890, 'figure': 1259, 'belgrade': 505, '1992': 71, '44or': 186, 'heat': 1498, 'complety': 806, 'quincy': 2424, '2005': 84, 'burton': 629, 'friday': 1353, 'october': 2154, '2007': 86, 'disperse': 1023, 'missing': 1968, 'happend': 1474, 'nine': 2079, 'works': 3376, 'usaf': 3204, 'kingman': 1713, 'firie': 1274, 'kennesaw': 1703, 'rounded': 2554, 'tips': 3048, 'wing': 3343, 'jetties': 1679, 'snow': 2765, 'storm': 2894, 'freaky': 1349, 'equidistant': 1156, 'crossing': 889, 'sons': 2784, 'blocks': 552, 'rockford': 2539, '44blinked': 160, 'cant': 663, 'explane': 1202, 'glaring': 1402, 'generated': 1382, 'motor': 2006, 'bolted': 565, 'crack': 872, 'unearthly': 3170, 'bounce': 576, 'property': 2391, 'says': 2590, 'buglike': 619, 'streetlight': 2912, 'hit': 1526, 'rock': 2537, 'investigators': 1649, 'tonight': 3056, 'performing': 2291, 'unusal': 3191, 'manuvers': 1884, 'woke': 3364, 'bathed': 471, 'clinton': 755, 'township': 3070, 'metroparkway': 1934, 'arrived': 397, 'scared': 2594, 'heck': 1500, 'sf': 2648, 'disapear': 1001, 'sh': 2649, 'transform': 3090, 'quad': 2416, 'chopper': 719, 'consecutive': 824, 'impossible': 1606, 'maneuvers': 1876, 'cloaking': 757, 'bass': 469, 'harbor': 1477, 'magnitude': 1864, 'maintianed': 1867, 'equal': 1154, 'separati': 2632, 'number': 2121, 'specific': 2812, '19th': 75, '11am': 22, 'ruth': 2567, 'battle': 472, 'biking': 529, 'average': 432, 'regrouped': 2481, 'monday': 1984, 'cherry': 709, '2nd': 107, 'spotting': 2837, 'starts': 2865, 'tracking': 3076, 'patten': 2270, 'parade': 2247, 'annex': 347, 'prospect': 2392, 'brooklyn': 610, 'let': 1775, 'noticing': 2115, 'clayton': 747, 'evenings': 1177, 'jellyfish': 1674, 'carrier': 675, 'pyramid': 2414, 'marysville': 1897, 'willamette': 3331, 'chesepeake': 711, 'sunrise': 2938, 'unusually': 3193, 'upon': 3195, 'observation': 2142, '85': 241, 'mauldin': 1903, 'twirling': 3145, 'buena': 617, 'accelerated': 265, 'rendezvous': 2489, 'enormous': 1151, 'patrol': 2269, 'covina': 871, 'ultra': 3156, 'should': 2687, 'loading': 1815, 'unloading': 3187, 'douglas': 1058, 'tails': 2967, 'criss': 886, 'bowling': 582, 'watch': 3279, 'aurora': 425, 'shawnee': 2662, 'ks': 1722, 'saylorsburg': 2589, 'comes': 794, 'takes': 2970, 'louis': 1843, 'descending': 959, 'carmel': 672, 'otherwise': 2213, 'exception': 1186, 'jupiter': 1693, 'cruising': 890, 'firballs': 1268, 'lightbulb': 1788, 'zips': 3417, 'forked': 1334, 'moderate': 1977, 'instantaneous': 1623, 'gaseous': 1377, 'borealis': 571, 'occurred': 2151, 'bend': 515, 'mach': 1858, 'pst': 2395, 'acelerating': 271, 'monrovia': 1986, 'flaming': 1286, '28': 105, 'oject': 2164, 'cosmic': 853, 'switched': 2959, 'lifted': 1784, 'oak': 2127, '172nd': 40, 'wilson': 3334, 'gabriel': 1371, 'cajon': 643, 'neighbor': 2060, 'crete': 883, 'unimaginable': 3176, '19': 44, 'older': 2169, 'assend': 409, 'abright': 260, 'norhwest': 2095, 'consisted': 826, 'configuration': 817, 'barrie': 465, 'extra': 1207, 'terrestrial': 2995, 'energy': 1144, 'display': 1024, 'ottawa': 2214, 'gatineau': 1379, 'norwalk': 2104, '44glowing': 170, 'satellite': 2579, 'intensity': 1633, 'none': 2092, 'jose': 1684, 'comet': 795, 'passed': 2259, 'ascending': 403, 'emerged': 1131, 'francisco': 1347, 'simple': 2712, 'expanded': 1194, 'story': 2896, 'roof': 2542, 'height': 1501, 'shadow': 2651, 'neighborhood': 2061, 'franklin': 1348, 'wached': 3262, 'bernie': 519, 'executing': 1188, 'geometric': 1383, 'model': 1976, 'thr': 3030, 'link': 1803, 'trinagle': 3125, 'wings': 3346, 'unsusal': 3189, 'confirms': 820, 'verona': 3237, 'dimed': 983, 'argos': 385, 'mainville': 1868, 'mason': 1899, 'bourbonnais': 579, 'chautauqua': 706, 'ilm': 1604, '44before': 159, 'tinted': 3046, '1958': 49, 'eleven': 1122, 'girl': 1396, 'hemet': 1511, 'distortion': 1038, 'thier': 3016, 'amazement': 330, 'weston': 3304, 'redding': 2473, 'hillsboro': 1522, 'week': 3290, 'tranlucent': 3088, 'skin': 2734, 'elyria': 1126, 'reappe': 2457, 'taped': 2981, 'vibrating': 3243, 'contrail': 840, 'fields': 1255, 'companions': 801, 'disapeard': 1002, '800': 238, 'i20': 1583, 'steadily': 2877, 'altitudes': 325, 'brentwood': 591, 'grouped': 1452, 'triagular': 3114, 'objest': 2137, 'electricity': 1121, 'common': 798, 'i805': 1591, '1981': 66, '5pm': 222, 'loose': 1835, 'counter': 860, 'clockwise': 759, 'pitched': 2324, 'doggy': 1046, 'operated': 2181, 'own': 2235, 'fying': 1368, 'thens': 3009, 'eases': 1100, 'boyton': 585, '44which': 202, 'yukon': 3404, 'sirun': 2718, 'streams': 2910, '135': 27, 'observes': 2147, 'muskoka': 2035, 'cottagers': 854, 'retreats': 2513, 'world': 3377, 'vibration': 3244, 'rudder': 2561, 'expect': 1195, 'heli': 1505, 'kind': 1711, 'interesting': 1638, 'odor': 2156, 'case': 677, 'glob': 1411, 'emanating': 1128, 'arkansas': 387, '67': 228, 'marker': 1891, 'intelligence': 1628, 'intercept': 1635, 'notice': 2113, 'process': 2389, 'laps': 1740, 'origin': 2205, 'milton': 1952, 'photographs': 2304, 'account': 269, 'disturbing': 1039, 'catch': 679, 'chunks': 725, 'brown': 614, 'mold': 1979, 'acad': 264, 'grad': 1433, 'bobs': 561, '09': 12, 'rungs': 2562, 'ladder': 1726, 'bent': 517, 'boarder': 559, 'morph': 1995, 'tear': 2984, 'mineola': 1956, 'noted': 2109, 'residence': 2503, 'seeming': 2621, 'hugging': 1567, 'cabos': 642, 'lighte': 1789, 'rapid': 2442, 'easily': 1101, 'disappearred': 1009, 'locations': 1820, 'meters': 1932, 'tag': 2964, 'sedona': 2616, 'milwaukee': 1953, 'durning': 1089, 'emitts': 1136, 'conected': 816, 'steep': 2883, 'climb': 753, 'stared': 2858, 'numerous': 2122, 'winnipeg': 3349, 'parallel': 2248, 'encircling': 1139, '4410000': 149, 'southward': 2798, 'houses': 1550, 'commute': 799, 'reflecting': 2478, 'falls': 1229, 'blazed': 542, 'trailed': 3082, 'fyling': 1369, 'constantly': 831, 'alignment': 312, 'action': 275, 'wading': 3263, 'pool': 2356, 'ships': 2677, 'million': 1950, 'visitors': 3259, '50am': 216, 'woodbridge': 3367, 'spaceship': 2806, 'windows': 3339, 'discernible': 1015, 'photo': 2301, 'conclusive': 812, 'zagging': 3408, 'colours': 788, 'sohn': 2770, 'vassar': 3226, 'ora': 2185, 'greece': 1443, 'grants': 1439, 'nm': 2082, 'blood': 553, 'strafe': 2897, 'pure': 2409, 'tinged': 3045, 'angel': 341, 'uncovered': 3166, 'glide': 1406, 'marlborough': 1894, 'inward': 1652, 'markings': 1892, 'start': 2863, 'disapwar': 1013, 'residential': 2504, 'madison': 1862, 'chattanooga': 705, 'venice': 3233, 'orangish': 2193, '444': 152, '20pm': 95, 'annapolis': 346, 'varnville': 3224, 'gigantic': 1392, '100kts': 17, 'withfour': 3356, 'cloverleaf': 768, 'exiting': 1193, '44a': 155, 'daughter': 923, 'bike': 528, 'kildonan': 1709, 'daugh': 922, 'independent': 1614, 'overwhelme': 2233, 'wooded': 3369, 'avoided': 434, 'george': 1384, 'tan': 2978, 'surface': 2944, 'secluded': 2612, 'ranch': 2437, 'arlington': 389, 'lat': 1750, 'cst': 892, 'ability': 254, 'suspend': 2951, 'themselves': 3006, 'posted': 2370, 'able': 255, 'queens': 2419, 'fla': 1283, 'theory': 3010, 'porthole': 2361, 'campsite': 656, 'alongside': 320, 'becomes': 492, 'shell': 2665, 'twitching': 3146, 'stati': 2869, 'contoocook': 837, 'nh': 2073, 'village': 3252, 'lifts': 1785, 'trace': 3073, 'basketball': 468, 'practice': 2374, 'pick': 2308, '06': 9, 'newfoundland': 2069, 'hoverd': 1554, 'might': 1945, 'orion': 2208, 'belt': 513, 'incomprhensible': 1610, 'starlight': 2859, 'recently': 2465, 'obect': 2132, 'glowed': 1416, 'staionary': 2852, 'halt': 1464, 'directio': 995, 'jus': 1694, 'drifts': 1070, 'noislessly': 2090, 'fades': 1220, 'som': 2774, 'squid': 2845, 'wierd': 3327, 'lanterns': 1739, 'launched': 1755, 'adults': 279, 'granite': 1438, '44on': 185, 'loop': 1833, 'telephone': 2989, 'pole': 2350, 'briefly': 595, 'thermal': 3013, 'issaquah': 1663, '1969': 56, 'silvery': 2709, 'containing': 833, 'movie': 2019, 'rosebud': 2546, 'farm': 1233, '413': 144, 'gila': 1393, 'identify': 1596, 'jig': 1680, 'jag': 1669, 'luminescence': 1849, 'cicular': 728, 'engaged': 1146, 'dogfight': 1045, 'clarksville': 744, 'illuminating': 1602, '39ball': 127, 'underside': 3169, 'wilmington': 3333, 'flattened': 1299, 'fairfax': 1224, 'position': 2365, 'longmont': 1824, 'wester': 3300, 'cornfield': 850, 'pulses': 2407, 'nevada': 2066, 'i580': 1587, 'oakland': 2128, 'hayward': 1484, 'leandro': 1763, 'actually': 277, 'talk': 2973, 'tell': 2992, 'anyone': 358, 'why': 3323, 'risk': 2532, 'hu': 1562, 'wish': 3352, 'written': 3382, 'want': 3272, 'worked': 3374, 'office': 2159, 'complex': 807, 'bringing': 605, 'trash': 3094, 'cans': 662, 'jan': 1670, 'standard': 2854, 'eating': 1109, 'lunch': 1853, 'collor': 781, 'defies': 944, 'physics': 2307, 'newport': 2070, 'leads': 1762, 'loss': 1837, 'officers': 2160, 'mysterious': 2042, 'equinox': 1158, '1st': 77, 'insects': 1621, 'bat': 470, 'ray': 2445, 'patio': 2268, 'court': 866, 'bedford': 495, 'compelled': 803, 'rep': 2491, 'begin': 500, 'continue': 835, '2145': 97, 'hampshire': 1466, 'winnepasauke': 3348, 'heart': 1497, 'exhibiting': 1191, 'spa': 2802, 'lone': 1821, 'mystery': 2043, 'unorderly': 3188, 'zizzaged': 3418, 'darkened': 912, 'dissapeered': 1029, 'period': 2294, 'albany': 305, 'peculiar': 2282, 'shapeshifting': 2659, 'teenagers': 2987, 'streaked': 2906, 'alarming': 303, 'shadowey': 2652, 'beneath': 516, 'disa': 1000, 'swarmed': 2956, 'massachusetts': 1901, 'lie': 1783, 'darkness': 913, 'pulsed': 2406, 'rises': 2530, 'daughters': 924, 'farmhouse': 1235, 'saucers': 2584, 'glided': 1407, 'cycle': 899, '30ftlength': 111, '50feet': 217, 'question': 2420, 'eugene': 1172, 'lentil': 1772, 'ea': 1091, 'chasing': 704, 'chillicothe': 716, 'fill': 1261, 'occasionally': 2149, 'abduction': 252, 'happen': 1473, 'beamed': 481, 'arlee': 388, 'bliking': 543, '1953': 48, '0300': 6, 'birmingham': 534, 'cylindical': 903, 'helium': 1508, 'filled': 1262, 'warm': 3274, 'must': 2036, 'urbana': 3201, '44around': 157, '00am': 1, '44i': 175, 'kitchen': 1715, '44circuler': 166, 'lasts': 1749, 'highly': 1519, 'brief': 594, 'residue': 2505, 'cirular': 742, 'movingtoward': 2022, 'thenhorizontally': 3008, 'patterned': 2272, 'boyfriend': 584, 'tone': 3055, 'proce': 2388, '45pm': 208, 'cemetary': 687, 'laure': 1756, 'plume': 2341, '1951': 47, 'grosse': 1449, 'pointe': 2346, 'overlooking': 2232, 'linked': 1804, 'fairchild': 1223, 'airforce': 294, 'lustrous': 1854, 'burien': 625, 'tysons': 3151, 'marriot': 1895, 'factory': 1217, 'blinding': 545, 'difference': 978, 'looke': 1828, 'coconut': 776, 'prove': 2393, 'need': 2058, 'doi': 1048, 'commuting': 800, 'bethesda': 521, 'hagerstown': 1461, 'simi': 2710, 'reviewing': 2517, 'quarter': 2418, 'unbelievable': 3160, 'pop': 2357, 'mena': 1919, 'akansas': 300, 'realeases': 2452, 'smells': 2756, 'nyc': 2126, '911': 245, '311': 113, 'exchange': 1187, 'brownish': 615, 'multipe': 2032, 'recived': 2466, 'phone': 2300, 'answered': 353, 'whats': 3309, 'arrowhead': 399, 'oblonged': 2139, 'skipping': 2736, 'resembles': 2502, 'gets': 1387, 'mst': 2025, 'rachel': 2426, '375': 123, 'han': 1468, 've': 3227, 'transco': 3089, 'exploding': 1204, 'sparatically': 2808, 'kalih': 1697, 'chandler': 695, 'pomona': 2355, 'fwy': 1367, '1978': 63, 'spokane': 2830, 'olathe': 2167, '135th': 28, 'instructed': 1627, 'pu': 2396, 'parkland': 2253, 'heads': 1495, 'slower': 2749, 'pace': 2237, 'algona': 308, '167': 37, 'sb': 2591, 'observery': 2146, 'datetime': 921, 'classical': 746, 'desacends': 956, 'emits': 1133, 'lexington': 1779, 'barbourville': 459, 'newton': 2071, 'camden': 651, 'fine': 1266, 'weaverville': 3288, 'sunroof': 2939, 'starring': 2861, 'somethi': 2777, 'neighbours': 2063, 'afar': 283, 'whitish': 3320, 'independently': 1615, 'raid': 2431, '44slow': 196, 'yucaipa': 3403, 'outerspace': 2220, 'rainer': 2434, '2003': 82, 'unexpected': 3171, 'reappearing': 2461, 'throughout': 3035, 'lafayette': 1727, 'scottsville': 2603, 'spacecraft': 2804, 'laminating': 1732, 'bozeman': 586, 'finally': 1264, 'led': 1769, 'manuevers': 1883, 'contorting': 838, '44bright': 163, '44rectangular': 189, 'plain': 2328, 'bight': 527, 'reapearing': 2456, 'spiltting': 2825, 'fortunate': 1344, 'bonneville': 567, 'flats': 1298, 'investigator': 1648, 'pulsations': 2404, 'motorcycle': 2007, 'hospital': 1544, 'whatsoever': 3310, 'hang': 1470, 'friendship': 1356, 'hobbs': 1528, 'patches': 2266, 'easter': 1103, 'sheridan': 2666, 'mdt': 1909, '08': 11, '696': 230, 'ferndale': 1249, 'dream': 1066, 'true': 3128, 'strob': 2919, 'college': 780, 'fourth': 1346, 'talahasee': 2972, 'gradually': 1434, 'flickers': 1305, 'visiting': 3258, '41st': 145, 'avenue': 431, '44myself': 182, 'decided': 939, 'ski': 2732, 'physical': 2306, 'abnormalities': 257, 'sligtly': 2745, 'obscurred': 2140, 'uniontown': 3178, 'diam': 968, '44round': 192, 'cruses': 891, 'driv': 1073}\n"
     ]
    }
   ],
   "source": [
    "print(vec.vocabulary_)"
   ]
  },
  {
   "cell_type": "code",
   "execution_count": 62,
   "metadata": {},
   "outputs": [
    {
     "name": "stdout",
     "output_type": "stream",
     "text": [
      "{1664: 'it', 3275: 'was', 1744: 'large', 147: '44', 3123: 'triangular', 2657: 'shaped', 1320: 'flying', 2134: 'object', 910: 'dancing', 1794: 'lights', 3002: 'that', 3379: 'would', 1319: 'fly', 395: 'around', 340: 'and', 3007: 'then', 1923: 'merge', 1645: 'into', 2173: 'one', 1787: 'light', 604: 'brilliant', 2188: 'orange', 2184: 'or', 718: 'chinese', 1738: 'lantern', 412: 'at', 1774: 'less', 3001: 'than', 15: '1000', 1363: 'ft', 2021: 'moving', 1102: 'east', 3050: 'to', 3298: 'west', 273: 'across', 2130: 'oakville', 2176: 'ontario', 1942: 'midnight', 1690: 'june', 251: '9th', 92: '2013', 596: 'bright', 2472: 'red', 2097: 'north', 1360: 'from', 3003: 'the', 1539: 'horizon', 3041: 'till', 1003: 'disapeared', 502: 'behind', 766: 'clouds', 2793: 'south', 1276: 'first', 2766: 'so', 873: 'craft', 1462: 'half', 1063: 'dozen', 2899: 'stragglers', 3015: 'they', 3296: 'were', 2943: 'surely', 2107: 'not', 2330: 'planes', 2094: 'nor', 449: 'ball', 2157: 'of', 2751: 'slowly', 2872: 'stationary', 2031: 'multicolored', 738: 'circular', 1926: 'met', 637: 'by', 351: 'another', 3315: 'which', 2435: 'raised', 1915: 'meet', 3057: 'too', 1025: 'displayed', 3153: 'ufo', 1421: 'going', 2737: 'sky', 3206: 'uso', 3280: 'watched', 3202: 'us', 1331: 'for', 864: 'couple', 1963: 'minutes', 1326: 'follows', 3085: 'train', 3077: 'tracks', 1607: 'in', 3350: 'winter', 46: '1931', 2586: 'saw', 1859: 'machine', 401: 'as', 2524: 'riding', 2171: 'on', 1543: 'horse', 1065: 'draw', 2265: 'pasture', 13: '10', 2343: 'pm', 23: '12', 249: '99', 2602: 'scottsdale', 386: 'arizona', 2778: 'something', 1482: 'have', 2067: 'never', 2623: 'seen', 498: 'before', 3097: 'traveling', 259: 'above', 1414: 'glow', 691: 'central', 1987: 'montana', 1928: 'metalic', 2822: 'sphere', 2551: 'rotating', 1240: 'fast', 2271: 'pattern', 3287: 'we', 1076: 'driving', 3069: 'town', 3011: 'there', 1656: 'is', 1424: 'golf', 865: 'course', 1530: 'holes', 760: 'close', 2535: 'road', 3312: 'when', 313: 'all', 2954: 'suuden', 2262: 'passing', 3137: 'turned', 2158: 'off', 474: 'bayou', 558: 'blvd', 2177: 'onto', 1420: 'godwinson', 337: 'an', 1209: 'extremely', 1061: 'down', 3355: 'with', 3081: 'trail', 2757: 'smok', 1337: 'formation', 167: '44counted', 31: '15', 2198: 'orbs', 3190: 'until', 3219: 'vanished', 628: 'bursts', 782: 'color', 811: 'concentrated', 384: 'area', 764: 'cloud', 486: 'beautiful', 2708: 'silver', 784: 'colored', 2583: 'saucer', 258: 'about', 2729: 'size', 2553: 'round', 42: '18', 3311: 'wheeler', 3141: 'turquoise', 2293: 'perimeter', 750: 'clearly', 125: '3997', 8: '05', 225: '64', 4: '02', 0: '00', 1808: 'little', 881: 'creek', 1723: 'ky', 1572: 'humming', 2085: 'noise', 1549: 'house', 2654: 'shaking', 2754: 'small', 1914: 'medium', 2730: 'sized', 536: 'black', 2471: 'rectangular', 2647: 'several', 3390: 'years', 3104: 'tree', 1800: 'line', 2622: 'seemingly', 627: 'burning', 3194: 'up', 2966: 'tail', 1032: 'dissipated', 3067: 'towards', 1141: 'end', 2698: 'sight', 524: 'big', 1966: 'miss', 187: '44orange', 2475: 'redish', 2136: 'objects', 1312: 'floating', 1533: 'home', 2643: 'sets', 3147: 'two', 2940: 'sunset', 2485: 'remained', 3316: 'while', 2211: 'other', 2013: 'moved', 2800: 'southwest', 2875: 'stayed', 3126: 'tripled', 2725: 'sitting', 671: 'car', 1831: 'looking', 2715: 'singal', 1147: 'engine', 2329: 'plane', 2932: 'suddenly', 1014: 'disc', 3295: 'went', 2263: 'past', 3240: 'very', 3319: 'white', 703: 'chased', 219: '52', 2054: 'near', 3380: 'wright', 2274: 'patterson', 291: 'air', 1332: 'force', 466: 'base', 2373: 'power', 2218: 'out', 652: 'came', 2620: 'seemed', 733: 'circle', 793: 'come', 442: 'back', 2421: 'quickly', 1695: 'just', 3218: 'vanishe', 3022: 'thirteen', 2038: 'my', 1437: 'grandmother', 2000: 'mother', 1483: 'having', 1593: 'ice', 880: 'cream', 2224: 'outside', 990: 'diner', 205: '45', 214: '50', 947: 'degrees', 1418: 'glows', 699: 'changing', 979: 'different', 289: 'again', 3393: 'yellow', 1556: 'hovering', 962: 'description', 2367: 'possible', 2700: 'sighting', 2886: 'still', 2377: 'present', 2857: 'star', 1796: 'like', 3052: 'together', 2571: 'same', 2816: 'speed', 987: 'dimmed', 1007: 'disappeared', 1289: 'flare', 713: 'chevron', 2705: 'silent', 2229: 'over', 108: '30', 1954: 'min', 682: 'caught', 3246: 'video', 2980: 'tape', 1270: 'fireball', 286: 'after', 1252: 'few', 1445: 'greenish', 970: 'diamond', 1279: 'five', 2755: 'smaller', 929: 'daytime', 2076: 'night', 964: 'desert', 1555: 'hovered', 2814: 'sped', 438: 'away', 1969: 'mississauga', 658: 'canada', 368: 'appeared', 477: 'be', 1517: 'high', 2368: 'possibly', 357: 'any', 1098: 'earthling', 1861: 'made', 1665: 'item', 1612: 'incredible', 2900: 'straight', 2084: 'no', 2788: 'sound', 1297: 'flat', 549: 'blinking', 1729: 'lake', 2210: 'oswego', 2425: 'quot', 1365: 'full', 2685: 'shortly', 21: '11', 35: '16', 2936: 'sunday', 943: 'defied', 282: 'aerodynamiccs', 1719: 'know', 554: 'blue', 2410: 'purple', 1219: 'faded', 909: 'danced', 885: 'cricle', 2529: 'rise', 1011: 'disapper', 2512: 'retiring', 1430: 'got', 494: 'bed', 2544: 'room', 911: 'dark', 3337: 'window', 2744: 'slightly', 2179: 'open', 1489: 'head', 1770: 'left', 1378: 'gateway', 298: 'airport', 1924: 'merged', 352: 'anouther', 489: 'became', 3040: 'tight', 197: '44straight', 374: 'approx', 124: '39', 2656: 'shape', 1630: 'intense', 1092: 'each', 770: 'cntr', 191: '44rest', 1324: 'followed', 2144: 'observer', 2889: 'stoppe', 616: 'brownwood', 2999: 'texas', 117: '33', 1900: 'mass', 2832: 'sporadically', 1611: 'inconsistent', 2791: 'sounds', 3284: 'waves', 106: '29', 151: '442008', 242: '8pm', 181: '44my', 3402: 'yr', 2168: 'old', 1398: 'girls', 407: 'asked', 3308: 'what', 1598: 'if', 2679: 'shooting', 3053: 'told', 3005: 'them', 2018: 'moves', 504: 'being', 1020: 'disk', 1254: 'field', 232: '70', 133: '39s', 2258: 'pass', 2335: 'play', 702: 'chase', 366: 'appear', 324: 'altitude', 1088: 'during', 749: 'clear', 926: 'day', 179: '44make', 1005: 'disappear', 1465: 'hammond', 1600: 'illinois', 2960: 'sylvania', 1907: 'mccord', 1691: 'junior', 2219: 'outer', 2803: 'space', 78: '20', 1829: 'looked', 2862: 'stars', 1292: 'flash', 599: 'brightlights', 336: 'amp', 3292: 'weird', 2088: 'noisies', 2902: 'strange', 1476: 'happennings', 3268: 'walking', 1817: 'local', 457: 'bar', 1896: 'mars', 490: 'because', 657: 'can', 3293: 'well', 2525: 'right', 2117: 'now', 2403: 'pulsating', 520: 'bethel', 2250: 'park', 2236: 'pa', 721: 'christmas', 1174: 'eve', 2572: 'san', 356: 'antonio', 653: 'camera', 945: 'definitely', 857: 'could', 1597: 'idetify', 3023: 'this', 2200: 'ordinary', 1306: 'flies', 2706: 'silently', 1176: 'evening', 2340: 'please', 2506: 'respect', 2386: 'privacy', 697: 'changed', 998: 'directions', 1196: 'experience', 3184: 'unkown', 3230: 'vegas', 856: 'couch', 2604: 'screen', 1053: 'door', 1475: 'happened', 2617: 'see', 296: 'airplane', 632: 'but', 762: 'closer', 2194: 'orb', 463: 'barnes', 2446: 'rd', 3269: 'wallingford', 2225: 'oval', 555: 'blueish', 3412: 'zig', 3409: 'zaging', 1028: 'dissapears', 2898: 'strage', 2163: 'ohio', 2533: 'river', 2746: 'slow', 2813: 'spectacular', 3117: 'triangle', 2619: 'seem', 2605: 'se', 973: 'did', 2012: 'move', 1822: 'long', 1105: 'eastern', 2439: 'random', 2405: 'pulse', 292: 'aircraft', 2381: 'pressure', 3283: 'wave', 290: 'ahead', 1444: 'green', 2922: 'strobing', 1086: 'duration', 2120: 'nuforc', 2108: 'note', 2717: 'sirius', 2277: 'pd', 508: 'bell', 1026: 'dissapear', 2458: 'reappear', 1985: 'monmouth', 863: 'county', 2068: 'new', 1675: 'jersey', 1886: 'maple', 1455: 'grove', 364: 'apparent', 1273: 'firey', 574: 'bottom', 2305: 'photos', 670: 'captured', 1080: 'drops', 1751: 'late', 287: 'afternoon', 2436: 'raleigh', 2052: 'nc', 377: 'april', 243: '8th', 2216: 'our', 1838: 'lost', 1996: 'morphed', 1008: 'disappearing', 2836: 'spotted', 790: 'columbus', 2024: 'ms', 1948: 'military', 293: 'aircrafts', 369: 'appearing', 1646: 'investigate', 1447: 'grey', 1354: 'friend', 1239: 'fashion', 2697: 'sideways', 994: 'direct', 1366: 'future', 445: 'backyard', 2767: 'soaring', 1295: 'flashing', 1165: 'erratically', 1846: 'low', 98: '22', 1494: 'headlights', 690: 'centered', 101: '25', 25: '13', 140: '40', 2844: 'squared', 3241: 'vessel', 1860: 'macon', 1370: 'ga', 2244: 'paper', 1685: 'journal', 2867: 'stated', 1989: 'month', 2578: 'satalites', 3256: 'visible', 137: '39winking', 3154: 'ufos', 700: 'charleston', 2592: 'sc', 2909: 'streaming', 2823: 'spheres', 955: 'des', 1978: 'moines', 1653: 'iowa', 453: 'balls', 1338: 'formations', 1677: 'jets', 3066: 'toward', 1702: 'kennedy', 689: 'center', 3249: 'viewed', 775: 'cocoa', 1281: 'fl', 1417: 'glowing', 476: 'bday', 2256: 'party', 1125: 'else', 328: 'am', 2498: 'reporting', 1457: 'gulf', 406: 'ashtabula', 2719: 'sister', 612: 'brother', 1757: 'law', 1478: 'hard', 1198: 'explain', 3031: 'three', 2928: 'suburb', 1269: 'fire', 510: 'beloit', 3324: 'wi', 570: 'border', 2278: 'pea', 2344: 'pod', 1345: 'four', 1790: 'lighted', 2281: 'peas', 3059: 'top', 3360: 'witnessed', 3044: 'times', 3110: 'tremendeous', 1164: 'erratic', 2014: 'moveme', 3095: 'travel', 2100: 'northern', 1314: 'florida', 2408: 'pulsing', 2686: 'shot', 2538: 'rocket', 3185: 'unlike', 1936: 'mi', 2789: 'soundless', 2727: 'six', 3025: 'those', 467: 'baseball', 2920: 'strobe', 1768: 'lebanon', 893: 'ct', 1586: 'i4', 1192: 'exit', 29: '14', 2824: 'spherical', 1463: 'halo', 380: 'arc', 2231: 'overhead', 2487: 'remember', 2240: 'pale', 743: 'city', 1087: 'durham', 1325: 'following', 996: 'direction', 1806: 'lite', 3034: 'through', 2143: 'observed', 593: 'brie', 1232: 'far', 1413: 'glod', 2111: 'nothig', 3398: 'you', 2027: 'much', 2074: 'nice', 1922: 'mercey', 1545: 'hot', 2840: 'springs', 2827: 'spinning', 2773: 'solid', 2674: 'shinny', 3092: 'transparent', 2833: 'spot', 1492: 'heading', 1566: 'huge', 2189: 'orangeish', 1340: 'forming', 898: 'curved', 1460: 'had', 2781: 'somewhere', 688: 'cen', 36: '160', 1993: 'more', 3150: 'type', 1339: 'formed', 2615: 'seconds', 3286: 'way', 1791: 'lighthouse', 1043: 'does', 729: 'cigar', 1910: 'me', 1120: 'electric', 1616: 'indian', 673: 'carolina', 2260: 'passenger', 2609: 'seat', 844: 'conversion', 3214: 'van', 1981: 'mom', 2694: 'siblings', 408: 'asleep', 1134: 'emitted', 927: 'daylight', 2566: 'rush', 1547: 'hour', 1441: 'gray', 439: 'awesome', 3396: 'yet', 882: 'creepy', 2831: 'spooky', 2669: 'shined', 2671: 'shiniest', 722: 'chrome', 1182: 'ever', 805: 'completely', 2422: 'quiet', 2699: 'sighted', 1746: 'las', 2496: 'report', 1179: 'event', 3294: 'wells', 198: '44texas', 3358: 'without', 109: '300', 141: '400', 1245: 'feet', 2299: 'phoenix', 441: 'az', 2186: 'orage', 1405: 'glenville', 3384: 'wv', 1557: 'hovers', 1552: 'houston', 3148: 'tx', 1227: 'fall', 60: '1973', 2834: 'spotlight', 1971: 'mist', 3199: 'upward', 2002: 'motion', 1967: 'missile', 1754: 'launch', 200: '44then', 2187: 'orang', 3281: 'watching', 2010: 'mountain', 1231: 'fanwood', 2081: 'nj', 2638: 'series', 2801: 'southwestern', 2985: 'teardrop', 3282: 'water', 1805: 'lit', 1301: 'flew', 573: 'bothell', 3261: 'wa', 1929: 'metallic', 1042: 'dodge', 2911: 'street', 1206: 'exprsway', 2170: 'omaha', 2053: 'ne', 1487: 'hbccufo', 659: 'canadian', 974: 'didn', 134: '39t', 2946: 'surrounded', 2064: 'neon', 1553: 'hover', 914: 'dart', 1902: 'massive', 785: 'colorful', 1624: 'instantly', 1520: 'highway', 112: '31', 1617: 'indiana', 957: 'descend', 3106: 'trees', 1521: 'hill', 999: 'directly', 3236: 'vernon', 1415: 'glowball', 1361: 'front', 496: 'bedroom', 1247: 'felt', 633: 'butterfly', 2628: 'sensation', 712: 'chest', 3000: 'th', 901: 'cylinder', 414: 'atlantic', 2152: 'ocean', 774: 'coastal', 1529: 'hobe', 1937: 'miami', 310: 'alien', 2339: 'playing', 1343: 'forth', 1117: 'egg', 5: '03', 1724: 'l7', 1548: 'hours', 3221: 'vanishing', 1767: 'leaving', 560: 'bobbing', 3183: 'unknown', 3144: 'twinkling', 849: 'corners', 3168: 'underneath', 393: 'arou', 3017: 'thin', 2321: 'pinkish', 2528: 'rings', 1069: 'drifting', 2026: 'mt', 3210: 'va', 2371: 'potomac', 1096: 'early', 50: '1963', 51: '1964', 2490: 'reno', 2913: 'streets', 3130: 'trying', 1265: 'find', 1546: 'hotel', 2114: 'noticed', 2312: 'pie', 1472: 'hanging', 739: 'circus', 2251: 'parki', 57: '197', 1490: 'headed', 3373: 'work', 1538: 'horizion', 2309: 'pics', 938: 'decide', 3400: 'yourself', 564: 'bolingbrook', 1904: 'may', 41: '17th', 81: '2001', 1912: 'meadows', 1771: 'length', 1303: 'flickered', 2494: 'replace', 2923: 'strong', 2238: 'pacific', 1799: 'lincoln', 2606: 'sea', 1459: 'gypsy', 478: 'beach', 796: 'coming', 3100: 'travels', 1962: 'minute', 404: 'ascends', 1408: 'gliding', 1877: 'manhattan', 991: 'dinner', 2775: 'some', 858: 'couldn', 503: 'beileve', 1836: 'los', 342: 'angeles', 1888: 'march', 83: '2004', 1241: 'faster', 359: 'anything', 2029: 'multi', 787: 'coloured', 541: 'blasts', 2667: 'shifting', 2957: 'swaying', 93: '2055', 1561: 'hrs', 1114: 'edt', 2716: 'single', 3111: 'tremendously', 1203: 'explodes', 276: 'activity', 1700: 'keller', 2580: 'satellites', 410: 'associated', 708: 'chemtrails', 3096: 'traveled', 3192: 'unusual', 1880: 'manner', 2345: 'point', 3410: 'zags', 1834: 'loops', 1959: 'minnesotas', 3371: 'woods', 2056: 'nearly', 1157: 'equilateral', 848: 'corner', 3063: 'total', 2707: 'sillouette', 2693: 'si', 1601: 'illuminated', 1021: 'disks', 2011: 'mountains', 1284: 'flame', 2098: 'northeast', 1819: 'location', 1385: 'georgia', 1208: 'extreme', 1304: 'flickering', 3132: 'tubular', 950: 'delta', 572: 'both', 934: 'debris', 2701: 'sightings', 1714: 'kingstown', 2521: 'ri', 2155: 'odd', 1778: 'lewisville', 2563: 'running', 1760: 'leader', 2565: 'rural', 2997: 'tests', 2771: 'soil', 1364: 'fuel', 686: 'cell', 3222: 'vapor', 1047: 'dogs', 461: 'barking', 1842: 'loudly', 1287: 'flanked', 2174: 'ones', 2721: 'sited', 2314: 'pier', 2276: 'pawleys', 1659: 'island', 491: 'become', 420: 'auburn', 1244: 'federal', 1851: 'luminous', 2325: 'pittsburgh', 3389: 'year', 1036: 'distinct', 2045: 'naked', 1210: 'eye', 3405: 'yuma', 2015: 'movement', 3347: 'winn', 1040: 'dixie', 2252: 'parking', 1839: 'lot', 1825: 'longwood', 3317: 'whippany', 1998: 'morris', 1747: 'last', 2760: 'smoking', 731: 'cigarette', 327: 'always', 1041: 'do', 2493: 'repeated', 1140: 'encounter', 65: '1980', 483: 'beardstown', 818: 'confirmed', 2049: 'nature', 3079: 'traditional', 1336: 'format', 2359: 'port', 645: 'california', 3229: 'veers', 3220: 'vanishes', 1885: 'many', 1056: 'dots', 2413: 'put', 2222: 'outlined', 3099: 'travelling', 2675: 'shiny', 1006: 'disappeards', 982: 'dim', 322: 'also', 888: 'crossed', 1442: 'great', 1034: 'distances', 2683: 'short', 335: 'amount', 3043: 'time', 2459: 'reappeare', 735: 'circles', 2829: 'splitting', 2722: 'siting', 3215: 'vancouver', 1485: 'haze', 248: '96', 405: 'ashland', 2202: 'oregon', 72: '1996', 1797: 'lima', 1927: 'metal', 862: 'country', 2866: 'state', 332: 'amber', 1765: 'least', 224: '6000', 233: '7000', 262: 'absolutely', 1280: 'fixed', 2044: 'nailed', 2326: 'place', 475: 'bb', 1504: 'held', 391: 'arms', 110: '30am', 3027: 'thought', 499: 'began', 530: 'binoculars', 1578: 'husband', 497: 'been', 2618: 'seeing', 3302: 'western', 231: '6pm', 1183: 'every', 1580: 'hw', 1814: 'lo', 2507: 'rest', 1293: 'flashed', 2516: 'revealed', 121: '35ish', 3328: 'wife', 2681: 'shopping', 446: 'bag', 741: 'ciruclar', 1079: 'dropping', 1291: 'flares', 1423: 'golden', 511: 'below', 3386: 'wyoming', 1257: 'figeting', 2509: 'resturant', 647: 'called', 227: '66', 14: '100', 2695: 'side', 1033: 'distance', 1872: 'making', 2758: 'smoke', 2890: 'stopped', 3264: 'waiting', 74: '1999', 875: 'crafts', 3116: 'triange', 2629: 'separate', 3357: 'within', 2994: 'ten', 562: 'body', 2786: 'sort', 317: 'almost', 581: 'bouy', 2175: 'only', 1199: 'explainable', 930: 'dayton', 763: 'closing', 2443: 'rapidly', 797: 'commercial', 3054: 'tomah', 3351: 'wisconsin', 2769: 'softly', 969: 'diameter', 3102: 'traversed', 154: '44800', 965: 'detectable', 1832: 'looks', 814: 'condor', 887: 'cross', 532: 'bird', 1077: 'drone', 1094: 'eagle', 2415: 'qu', 2828: 'split', 1258: 'fighter', 1676: 'jet', 1636: 'intercepted', 2614: 'second', 3062: 'toronto', 2885: 'steps', 361: 'apartment', 3103: 'travling', 3414: 'zigzagging', 2182: 'opposite', 600: 'brightly', 1639: 'intermittently', 2091: 'non', 2955: 'sw', 952: 'denver', 2738: 'skyline', 2518: 'rex', 859: 'couldnt', 506: 'believe', 3018: 'thing', 786: 'colors', 171: '44gold', 1330: 'football', 1426: 'gondola', 2925: 'structure', 3080: 'traffic', 822: 'congestion', 447: 'bakersfield', 639: 'ca', 1671: 'january', 67: '1983', 1425: 'golfing', 3291: 'weekend', 2040: 'myrtle', 422: 'august', 85: '2006', 3354: 'witc', 2390: 'pronged', 223: '60', 1777: 'level', 2577: 'sat', 834: 'contemplated', 1558: 'how', 2600: 'school', 1752: 'later', 1256: 'fiery', 1166: 'erraticly', 2028: 'mufon', 783: 'colorado', 3361: 'witnesses', 634: 'buzz', 38: '17', 3093: 'transport', 3211: 'vail', 815: 'cone', 2917: 'strip', 1913: 'medford', 2372: 'potterville', 236: '7pm', 96: '21', 1816: 'lobed', 3301: 'westerly', 1761: 'leading', 2963: 'tacoma', 1660: 'isle', 715: 'child', 1560: 'however', 1516: 'hig', 2468: 'rectangle', 2003: 'motionless', 1394: 'gilbert', 1309: 'flipping', 1588: 'i5freeway', 1218: 'fade', 2455: 'reapear', 2327: 'places', 1905: 'maybe', 103: '26', 868: 'cousins', 448: 'balcony', 479: 'beachfront', 435: 'avon', 2797: 'southern', 1362: 'fruitville', 2575: 'sarasota', 1097: 'earth', 256: 'abnormal', 1673: 'jefferson', 2587: 'say', 1513: 'here', 3395: 'yes', 383: 'are', 606: 'bristol', 3049: 'tn', 1263: 'film', 3322: 'who', 1721: 'knows', 1574: 'hundreds', 2285: 'people', 825: 'considered', 427: 'authentic', 1480: 'has', 966: 'determined', 1527: 'hoax', 3260: 'visual', 3248: 'view', 1947: 'miles', 2515: 'returned', 3345: 'wingless', 3131: 'tube', 2290: 'perfectly', 1311: 'floated', 2703: 'signal', 563: 'boise', 1594: 'id', 2642: 'set', 1818: 'located', 654: 'campbells', 1074: 'drive', 2670: 'shiney', 1737: 'lane', 2096: 'normal', 1541: 'horizontal', 3042: 'tilting', 1735: 'landed', 1925: 'mesa', 3326: 'width', 1090: 'dusk', 1178: 'evenly', 323: 'alternated', 522: 'between', 1650: 'invisible', 3098: 'travelled', 3084: 'trails', 3120: 'triangles', 184: '44objects', 915: 'darted', 3406: 'zag', 568: 'boomerang', 1294: 'flashes', 2696: 'sides', 480: 'beam', 2672: 'shining', 3065: 'touching', 1450: 'ground', 1655: 'irregular', 1994: 'morning', 2673: 'shinning', 3353: 'wispy', 2197: 'orbiting', 607: 'broad', 3359: 'witness', 1017: 'discovers', 1893: 'marks', 904: 'cylindrical', 2474: 'reddish', 827: 'consistent', 443: 'background', 2731: 'sk', 622: 'bunch', 737: 'circlular', 960: 'descends', 3161: 'uncertain', 3314: 'whether', 2639: 'serious', 2318: 'pinal', 165: '44circular', 190: '44red', 1221: 'fading', 174: '44huge', 195: '44silent', 1961: 'mintues', 2853: 'stalled', 297: 'airplanes', 2658: 'shapes', 876: 'cranston', 2462: 'reappears', 976: 'diff', 20: '10th', 76: '1pm', 1419: 'go', 2935: 'sun', 3335: 'wilsonville', 176: '44il', 64: '1979', 1720: 'known', 1667: 'its', 2430: 'radioactive', 3278: 'waste', 1084: 'dump', 2646: 'seventies', 2676: 'ship', 2557: 'row', 745: 'classic', 1050: 'dome', 129: '39dancing', 3234: 'ventura', 2541: 'role', 2161: 'offshore', 2033: 'multiple', 980: 'differing', 1644: 'intervention', 2907: 'streaking', 1271: 'fireballs', 732: 'cincinnati', 2162: 'oh', 773: 'coast', 846: 'copper', 971: 'diamonds', 3299: 'westbound', 3149: 'tyler', 1138: 'en', 693: 'cette', 345: 'ann', 1093: 'eacute', 1672: 'je', 951: 'demeur', 430: 'avec', 1983: 'mon', 845: 'copain', 2398: 'puis', 126: '39avais', 3072: 'trac', 3158: 'un', 692: 'cercle', 933: 'de', 2279: 'peace', 1845: 'love', 1686: 'jours', 428: 'avant', 878: 'crayons', 1251: 'feutre', 1696: 'juste', 2245: 'par', 3014: 'these', 1537: 'hoovering', 1242: 'father', 2782: 'son', 611: 'brookyln', 2125: 'ny', 58: '1970', 590: 'breaks', 3401: 'ypsilanti', 1991: 'moon', 977: 'differen', 2799: 'southwards', 2545: 'rose', 2720: 'site', 1881: 'manuever', 2209: 'orlando', 698: 'changes', 2360: 'portal', 379: 'aptos', 2289: 'perfect', 1661: 'isosceles', 804: 'complete', 3180: 'unison', 2124: 'nw', 3138: 'turning', 2684: 'shorted', 769: 'cluster', 1637: 'interchanging', 362: 'apeared', 3037: 'thrust', 1031: 'dissappeared', 2460: 'reappeared', 809: 'con', 2971: 'taking', 1044: 'dog', 2855: 'standing', 940: 'deck', 1215: 'faces', 1082: 'due', 1525: 'his', 937: 'decently', 2492: 'repeat', 2688: 'show', 80: '2000', 756: 'cloaked', 808: 'components', 1640: 'international', 2645: 'seven', 3019: 'things', 1135: 'emitting', 1841: 'loud', 2690: 'shrieking', 2192: 'orangey', 2320: 'pink', 1622: 'inside', 119: '33right', 2295: 'persistent', 381: 'arced', 556: 'bluish', 1651: 'involved', 2904: 'strangley', 53: '1966', 239: '8211', 537: 'blackfoot', 3213: 'valley', 2227: 'ovando', 1237: 'farmland', 3399: 'young', 3365: 'woman', 3266: 'walk', 1933: 'metro', 2267: 'path', 484: 'bearing', 319: 'along', 1802: 'lines', 1175: 'even', 3368: 'woode', 372: 'approached', 1865: 'main', 2180: 'opened', 2338: 'played', 2206: 'original', 2310: 'picture', 3378: 'worth', 3372: 'words', 148: '44000', 3032: 'threw', 2540: 'rocks', 2234: 'ovoid', 3394: 'yellowish', 2037: 'mutiney', 473: 'bay', 1573: 'hundred', 1322: 'folks', 685: 'celebrating', 213: '4th', 1688: 'july', 3177: 'union', 906: 'dad', 1716: 'kite', 2484: 'relized', 547: 'blinked', 2636: 'sequence', 193: '44saw', 2916: 'string', 2199: 'order', 1807: 'litghts', 2843: 'square', 1710: 'kiltered', 1318: 'fluttering', 373: 'approaching', 2795: 'southeast', 2480: 'region', 1236: 'farmington', 544: 'blimp', 3276: 'washington', 2610: 'seattle', 1863: 'madrona', 1454: 'groups', 73: '1998', 3273: 'wanted', 2379: 'press', 2119: 'nuclear', 2448: 'reactor', 1507: 'helicopters', 2870: 'static', 2440: 'randomly', 94: '20min', 2172: 'once', 1081: 'drove', 440: 'awoken', 669: 'capsule', 1734: 'land', 2968: 'take', 2508: 'restaurant', 2093: 'noon', 836: 'continued', 2451: 'ready', 2399: 'pull', 1075: 'driveway', 1428: 'good', 1035: 'distant', 1118: 'eight', 1643: 'intervals', 2034: 'murfreesboro', 450: 'ballls', 2733: 'skies', 1559: 'howad', 3217: 'vanish', 867: 'cousin', 1512: 'her', 2976: 'tall', 2319: 'pine', 748: 'cleaning', 1277: 'fish', 2411: 'purpule', 1687: 'ju', 1222: 'faint', 2444: 'rate', 2625: 'seethrough', 1124: 'elongated', 2284: 'pentagon', 2351: 'poles', 2947: 'surrounding', 1972: 'misterious', 1532: 'hollywood', 91: '2012', 2929: 'suburban', 1957: 'minneapolis', 250: '9pm', 2441: 'range', 2714: 'since', 460: 'barely', 928: 'days', 2450: 'reading', 1375: 'garden', 3387: 'yard', 802: 'compared', 253: 'abilene', 1267: 'finished', 2500: 'rerun', 1390: 'ghost', 1575: 'hunters', 1742: 'laptop', 3207: 'usual', 1429: 'google', 894: 'cube', 2888: 'stop', 1078: 'dropped', 1376: 'gas', 2871: 'station', 953: 'departed', 2191: 'oranges', 1184: 'exact', 360: 'apart', 1931: 'meteors', 2447: 're', 1152: 'entering', 3174: 'unexplained', 2336: 'playa', 948: 'del', 2519: 'rey', 2952: 'suspicious', 1486: 'hazy', 1939: 'michigan', 546: 'blink', 1427: 'gone', 3157: 'umo', 70: '1988', 2153: 'oct', 1260: 'figures', 621: 'buildings', 2526: 'rigid', 281: 'aerial', 272: 'acrobatics', 2743: 'slight', 2953: 'sutle', 3167: 'under', 2819: 'spencerport', 3385: 'wx', 684: 'cavu', 648: 'calm', 139: '3rd', 626: 'burned', 1307: 'flight', 958: 'descended', 2873: 'stationery', 3026: 'though', 3235: 'venus', 3421: 'zooming', 635: 'buzzing', 2086: 'noiseless', 344: 'angles', 424: 'aura', 2878: 'steady', 1409: 'glimmering', 861: 'counties', 1941: 'middle', 2397: 'puget', 2102: 'northward', 2783: 'sonora', 1916: 'meets', 2212: 'others', 1010: 'disappears', 390: 'armada', 454: 'baltimore', 514: 'beltway', 2148: 'observing', 2881: 'steelers', 1372: 'game', 2286: 'peoria', 2055: 'nearby', 2363: 'ports', 2103: 'northwest', 87: '2008', 355: 'anthony', 1374: 'gap', 1119: 'el', 2257: 'paso', 2: '00pm', 1980: 'moline', 1228: 'falling', 1099: 'earths', 417: 'atomsphere', 1736: 'landing', 1970: 'missouri', 3257: 'vision', 2601: 'scope', 2558: 'rows', 525: 'bigger', 598: 'brighter', 2633: 'seperate', 1569: 'hum', 696: 'change', 2860: 'starlike', 1067: 'dribbled', 2915: 'stright', 852: 'corona', 3152: 'uah', 1576: 'huntsville', 301: 'al', 2023: 'mph', 2072: 'next', 667: 'cape', 777: 'cod', 1341: 'forms', 2118: 'nowhere', 2776: 'somehow', 2942: 'sure', 3313: 'where', 3115: 'triang', 2748: 'slowely', 917: 'darts', 2637: 'sequentially', 382: 'arched', 3411: 'zenith', 2110: 'notheastern', 1965: 'mirror', 905: 'cylndrical', 1062: 'downtown', 2794: 'southbound', 925: 'davie', 131: '39nt', 1887: 'marble', 3251: 'viewpoint', 2348: 'points', 1491: 'heades', 2846: 'sse', 3107: 'treetop', 2488: 'remote', 681: 'catskill', 2661: 'sharp', 343: 'angle', 456: 'banos', 1581: 'hwy', 104: '27', 34: '15am', 2423: 'quietly', 398: 'arrow', 526: 'biggest', 1142: 'ended', 1698: 'keep', 936: 'decended', 402: 'ascended', 1335: 'form', 1019: 'dishpan', 1400: 'glacier', 2280: 'peak', 2483: 'releasing', 3047: 'tiny', 1811: 'littleton', 2895: 'storms', 3223: 'various', 821: 'conformations', 3306: 'westward', 1137: 'empty', 2842: 'spurts', 694: 'chain', 1155: 'equally', 2805: 'spaced', 830: 'constant', 676: 'cascades', 1745: 'larger', 1982: 'moment', 2133: 'obj', 1662: 'iss', 2331: 'planet', 2547: 'roseville', 211: '48066', 210: '48', 1169: 'est', 2926: 'student', 1054: 'doors', 392: 'arnold', 1975: 'mo', 1706: 'kettleman', 772: 'coalinga', 2596: 'scarry', 2933: 'summer', 2660: 'shapped', 2543: 'rooftops', 1506: 'helicopter', 2342: 'plus', 1467: 'hampton', 99: '23', 3058: 'took', 3420: 'zoomed', 1510: 'help', 1641: 'interrupted', 7: '04', 3254: 'visable', 1159: 'eratic', 501: 'behavior', 1753: 'lauderdale', 1170: 'estimated', 1579: 'huvering', 177: '44jerked', 199: '44than', 3021: 'third', 2438: 'rancho', 895: 'cucamonga', 2138: 'oblong', 2463: 'rear', 209: '460', 720: 'christiansburg', 539: 'blacksburg', 2287: 'peppers', 1250: 'ferry', 583: 'box', 997: 'directional', 1106: 'eastery', 2077: 'nights', 3105: 'treeline', 2608: 'season', 62: '1975', 668: 'capitan', 215: '500', 1946: 'mile', 1642: 'interstate', 981: 'digital', 649: 'camara', 3205: 'use', 2593: 'scan', 2739: 'skys', 1990: 'months', 2112: 'nothing', 1657: 'isaw', 2337: 'playback', 1150: 'enlarging', 1435: 'graham', 674: 'caroline', 235: '75', 620: 'building', 631: 'busy', 130: '39m', 3381: 'writing', 120: '35', 1960: 'mins', 370: 'appears', 1386: 'get', 2581: 'satillite', 1296: 'flashlight', 1682: 'joined', 752: 'clifton', 2083: 'nne', 2761: 'smoky', 1974: 'mnts', 1456: 'guelph', 138: '3bright', 3122: 'trianglular', 2847: 'st', 680: 'catharines', 1027: 'dissapeared', 3036: 'thru', 2080: 'nite', 2993: 'temecula', 164: '44ca', 2183: 'ops', 972: 'dice', 740: 'cirlcle', 758: 'clockface', 1988: 'montauk', 2835: 'spotlighting', 2664: 'shed', 158: '44at', 851: 'cornwall', 2548: 'rotate', 1161: 'erractic', 3225: 'varying', 2818: 'speeds', 2009: 'mount', 1758: 'lbert', 1055: 'dot', 3242: 'vey', 1514: 'hi', 1212: 'faa', 3208: 'usually', 2763: 'smoothly', 2051: 'navigation', 1857: 'ma', 3330: 'will', 3140: 'turns', 270: 'accross', 2635: 'september', 90: '2011', 1317: 'fluorescent', 3253: 'virginia', 932: 'dc', 2691: 'shut', 1246: 'fell', 1329: 'footage', 2568: 'sacramento', 2884: 'stepped', 1681: 'job', 589: 'break', 3267: 'walked', 3129: 'trunk', 1216: 'facing', 2975: 'talking', 3407: 'zagged', 2564: 'runway', 1197: 'experienced', 122: '360', 2531: 'rising', 1323: 'follow', 1201: 'explanations', 2937: 'sunny', 602: 'brihgte', 1712: 'kinda', 2467: 'recktangular', 2864: 'started', 2427: 'rad', 1143: 'ends', 266: 'accelerates', 423: 'augusta', 2810: 'sparkling', 839: 'contrai', 3064: 'totally', 3179: 'unique', 2383: 'previously', 114: '31st', 220: '55', 1113: 'edina', 3203: 'usa', 2868: 'staten', 183: '44ny', 2598: 'scattered', 1352: 'fresno', 1592: 'i95', 2522: 'richmond', 2298: 'phillipsburg', 1107: 'easton', 2453: 'realized', 268: 'accompanied', 2941: 'super', 1801: 'linear', 3305: 'westside', 2207: 'originally', 2735: 'skipped', 791: 'columns', 172: '44green', 153: '447', 246: '95', 162: '44boone', 2196: 'orbital', 2190: 'orangelights', 1422: 'gold', 2996: 'tessellated', 2520: 'rhomboidal', 2243: 'panes', 1288: 'flap', 2412: 'pursuit', 3228: 'vector', 3173: 'unexplainably', 3303: 'westminster', 1908: 'md', 1875: 'man', 436: 'awakened', 2380: 'pressed', 3004: 'their', 1618: 'indicator', 2313: 'pieces', 1692: 'junk', 2477: 'reentering', 2924: 'strs', 843: 'converging', 3198: 'upwad', 493: 'becoming', 1453: 'grouping', 452: 'balloons', 278: 'adult', 1248: 'female', 535: 'bizarre', 2499: 'reports', 2353: 'polished', 326: 'aluminum', 2105: 'nose', 419: 'attitude', 1051: 'domed', 1496: 'heard', 1163: 'erradically', 2848: 'stabilized', 1668: 'itself', 1605: 'images', 2552: 'roughly', 2203: 'organge', 734: 'circled', 1786: 'ligh', 3175: 'unidentified', 3388: 'yards', 2261: 'passes', 1809: 'littlefield', 2495: 'replacement', 3143: 'twice', 2366: 'positioned', 2874: 'stay', 2486: 'remaining', 3: '01', 10: '07', 263: 'abt', 1535: 'honey', 2332: 'planetary', 2401: 'pullman', 1389: 'gettysburg', 1810: 'littlestown', 1523: 'him', 3200: 'upwards', 884: 'crew', 2624: 'sees', 2385: 'prior', 52: '1965', 538: 'blackout', 280: 'advanced', 2273: 'patterns', 1316: 'fluid', 1570: 'human', 1469: 'handle', 2796: 'southeastern', 1321: 'foley', 302: 'alabama', 2723: 'sitings', 132: '39re', 1940: 'mid', 3133: 'tucson', 550: 'blinks', 1149: 'enjoying', 623: 'burger', 309: 'ali', 1620: 'inn', 240: '8230', 156: '44and', 3416: 'zipping', 1870: 'make', 1404: 'glendale', 1282: 'fl200', 1898: 'masking', 2239: 'pacing', 295: 'airliner', 2908: 'streaks', 3074: 'tracers', 2678: 'shoot', 2747: 'slowed', 1705: 'kept', 1205: 'expose', 2792: 'source', 2934: 'summverville', 2511: 'retired', 2927: 'submariner', 3172: 'unexplainable', 2479: 'reflective', 2887: 'stood', 2549: 'rotated', 2001: 'motio', 307: 'alexandria', 761: 'closely', 1451: 'group', 2078: 'nighttime', 1629: 'intelligent', 437: 'aware', 2653: 'shaft', 3078: 'tractor', 3109: 'trek', 723: 'chrysler', 2611: 'sebring', 2523: 'ridge', 426: 'austin', 3087: 'trajectory', 1357: 'frightening', 146: '43', 2226: 'ovals', 2016: 'movements', 371: 'approach', 2402: 'pulsated', 3415: 'zipped', 3289: 'wednesday', 2375: 'preparing', 2969: 'taken', 3127: 'truck', 3340: 'winds', 2597: 'scary', 2726: 'situation', 1563: 'hudson', 2376: 'presence', 1678: 'jetted', 2288: 'perceived', 2768: 'soft', 3134: 'tues', 2680: 'shoots', 1613: 'incredibly', 828: 'const', 3232: 'vehicles', 1350: 'freeway', 1733: 'lamps', 714: 'chicago', 1599: 'il', 3197: 'upright', 288: 'aftewr', 462: 'barn', 1355: 'friends', 128: '39clock', 1728: 'lafever', 1826: 'loo', 1855: 'lycoming', 1874: 'mall', 3332: 'williamsport', 2283: 'pennsylvania', 1866: 'maine', 1431: 'goto', 2464: 'reason', 1781: 'li', 1654: 'iridescent', 2087: 'noises', 575: 'boulder', 1571: 'humanoid', 2977: 'tampa', 421: 'aug', 89: '2010', 1095: 'earliest', 2249: 'paralyzing', 1782: 'liberty', 482: 'beams', 726: 'church', 2641: 'services', 261: 'abruptly', 3038: 'thunderstorm', 609: 'bronx', 3397: 'york', 1568: 'hulman', 1626: 'institute', 2986: 'technology', 3307: 'wetlands', 2048: 'national', 2514: 'return', 2382: 'previous', 1764: 'leaped', 1072: 'drips', 1917: 'memorial', 2640: 'service', 2264: 'pastor', 1589: 'i70e', 771: 'co', 1780: 'lg', 877: 'crashed', 314: 'allegedly', 285: 'affected', 918: 'dashboard', 1180: 'events', 2630: 'separated', 2983: 'teal', 3238: 'vertical', 1499: 'heavy', 1471: 'hangglider', 2879: 'stealth', 2650: 'sha', 789: 'columbia', 2644: 'setting', 334: 'amended', 920: 'date', 2949: 'suspect', 2358: 'porch', 1921: 'mentioned', 1253: 'fiance', 1488: 'he', 2569: 'said', 1243: 'feb', 646: 'call', 907: 'dallas', 1830: 'lookes', 3121: 'triangluar', 2753: 'slowy', 3270: 'walmart', 664: 'canyon', 1812: 'lived', 1381: 'general', 433: 'aviation', 3362: 'witnessing', 829: 'constan', 1964: 'mir', 311: 'aligned', 1718: 'knew', 3277: 'wasn', 1997: 'morphing', 870: 'covered', 244: '90', 376: 'approximately', 3318: 'whit', 3142: 'twenty', 2223: 'outlining', 2585: 'savannah', 1112: 'edges', 2292: 'perhaps', 2275: 'paused', 992: 'dipped', 2349: 'polar', 2195: 'orbit', 2692: 'shuttle', 3101: 'traverse', 150: '442001', 1882: 'manueverablilty', 3024: 'thornhill', 897: 'cured', 2599: 'scepticisim', 1083: 'dull', 3329: 'wildest', 136: '39ve', 1699: 'keeping', 1167: 'escort', 1827: 'look', 2470: 'rectanglular', 2246: 'parachute', 3124: 'tried', 2764: 'snap', 855: 'cou', 2141: 'obserbed', 3196: 'upper', 2417: 'quadrant', 3341: 'windshield', 444: 'backing', 2787: 'sough', 1108: 'eastward', 2626: 'self', 169: '44daughter', 1278: 'fishing', 767: 'cloudy', 1992: 'moonlight', 869: 'cover', 180: '44mind', 507: 'believer', 267: 'accidentally', 2302: 'photographed', 842: 'converged', 2851: 'staight', 736: 'circling', 1412: 'globes', 2303: 'photographic', 350: 'anomaly', 3325: 'wide', 1658: 'ish', 161: '44blue', 2215: 'ou', 1012: 'disappered', 1585: 'i35', 2724: 'sititng', 832: 'constellation', 1116: 'effortlessly', 207: '45min', 1542: 'horizontally', 3239: 'vertically', 212: '495', 247: '95s', 2315: 'pilot', 1022: 'dispatched', 2574: 'santa', 458: 'barbara', 2759: 'smokey', 1707: 'kfc', 1057: 'doughter', 1743: 'lar', 2075: 'niceville', 1889: 'marina', 1018: 'discovery', 43: '180', 946: 'degree', 3136: 'turn', 455: 'band', 354: 'anteloe', 2988: 'tehachapi', 19: '10pm', 1766: 'leavin', 2317: 'pin', 3083: 'trailing', 1059: 'douhgnut', 2131: 'ob', 2135: 'object0', 226: '65', 3245: 'vicinity', 61: '1974', 2702: 'sign', 2663: 'she', 168: '44craft', 16: '100ft', 1085: 'dumps', 2316: 'pima', 1955: 'mine', 963: 'desendes', 988: 'dimming', 597: 'brightening', 2534: 'riverside', 2607: 'searching', 3336: 'wind', 847: 'copters', 2903: 'strangely', 1840: 'lots', 3285: 'waxhaw', 3419: 'zody', 954: 'dept', 2893: 'store', 661: 'canoga', 451: 'balloon', 975: 'diego', 88: '2009', 1290: 'flared', 415: 'atleast', 3028: 'thousand', 509: 'belmont', 1185: 'exactly', 551: 'blocked', 1275: 'firing', 2241: 'palm', 942: 'deep', 1160: 'erie', 902: 'cylinders', 348: 'anoka', 1958: 'minnesota', 778: 'cohesive', 3181: 'unit', 2065: 'net', 1448: 'grid', 3370: 'woodinville', 1577: 'hurry', 2821: 'spher', 935: 'december', 221: '58pm', 1272: 'fireworks', 1052: 'don', 1071: 'drink', 2820: 'spere', 3344: 'winged', 1315: 'flowing', 1432: 'government', 1234: 'farmer', 1595: 'idaho', 2627: 'semi', 578: 'bound', 1683: 'jordan', 2201: 'ore', 418: 'atp', 1918: 'memphis', 2145: 'observers', 316: 'almond', 1211: 'eyes', 601: 'brightness', 2394: 'proximity', 638: 'c130', 2918: 'stripes', 3247: 'videotaping', 2576: 'saratoga', 3186: 'unlit', 178: '44lit', 819: 'confirming', 2369: 'post', 1358: 'frisbee', 329: 'amazed', 587: 'bradenton', 1590: 'i80', 485: 'beatrice', 2057: 'nebraska', 1848: 'lumenescent', 707: 'chemtrail', 916: 'darting', 333: 'ambiant', 378: 'aprox', 1850: 'luminescent', 1792: 'lighting', 2378: 'president', 630: 'bush', 2815: 'speech', 2741: 'sleek', 3118: 'triangled', 2362: 'portland', 2165: 'okanagan', 2817: 'speeding', 2655: 'shap', 557: 'blurred', 1342: 'fort', 1949: 'mill', 701: 'charlotte', 1725: 'la', 1213: 'face', 2449: 'read', 1603: 'illumination', 2713: 'simultaneously', 203: '44white', 2931: 'sudden', 2454: 'really', 3071: 'tr', 2041: 'myself', 613: 'brothers', 2089: 'noisless', 3068: 'tower', 1704: 'kentucky', 229: '68', 237: '80', 577: 'bounced', 204: '44with', 961: 'describe', 2387: 'probe', 1813: 'living', 2204: 'organism', 1200: 'explanation', 2476: 'redlands', 1911: 'mead', 640: 'cabazon', 2631: 'separates', 792: 'combine', 1584: 'i294', 2129: 'oaklawn', 2921: 'strobed', 1871: 'makes', 3119: 'triangler', 603: 'brillant', 1748: 'lasting', 1380: 'gave', 717: 'chills', 2807: 'span', 2892: 'stops', 2510: 'resumes', 1518: 'higher', 1634: 'intensly', 2030: 'multicolor', 2742: 'sleeping', 1873: 'male', 1647: 'investigated', 3164: 'unconfirmed', 3112: 'tri', 1190: 'exhibited', 349: 'anomalous', 194: '44shinny', 234: '737', 874: 'crafted', 1943: 'midtown', 413: 'atlanta', 3162: 'uncle', 55: '1968', 2914: 'striations', 1793: 'lightning', 566: 'bolts', 1132: 'eminating', 102: '25mph', 2962: 'tablet', 985: 'dimley', 32: '150', 1327: 'fomation', 2559: 'rr', 2099: 'northeastern', 2166: 'oklahoma', 986: 'dimly', 1226: 'fairly', 1388: 'getting', 1171: 'eubank', 588: 'brake', 365: 'apparently', 3231: 'vehicle', 1004: 'disapp', 2880: 'steel', 1395: 'girder', 1536: 'hoovered', 1564: 'hudsonville', 1515: 'hides', 2005: 'motivation', 1609: 'included', 919: 'database', 1440: 'graveyard', 1920: 'mendon', 2527: 'ring', 394: 'aroun', 3165: 'uncontrollable', 2116: 'november', 218: '50pm', 1173: 'eureka', 3051: 'tobacco', 1214: 'faceing', 1436: 'grandmesa', 1869: 'major', 2008: 'motorists', 3139: 'turnpike', 1534: 'homes', 2352: 'police', 2046: 'name', 2429: 'radiating', 1153: 'entire', 487: 'beavercreek', 1935: 'mexico', 2047: 'naples', 1162: 'erracticly', 1666: 'itermittant', 3413: 'zigzag', 2004: 'motions', 989: 'dims', 1145: 'enfield', 751: 'cleveland', 2334: 'plasma', 3338: 'windowi', 2945: 'surpr', 523: 'beyond', 665: 'capabilities', 1879: 'manmade', 993: 'dipper', 2178: 'ooltewah', 1399: 'gives', 931: 'dazzling', 2613: 'seco', 3271: 'walton', 33: '1500', 2682: 'shoreline', 608: 'broke', 3113: 'tria', 2704: 'silence', 3265: 'wake', 400: 'arvada', 69: '1986', 2882: 'steelville', 59: '1971', 1230: 'family', 1225: 'fairfield', 3212: 'vallejo', 2254: 'partially', 396: 'arranged', 2950: 'suspected', 1689: 'jumpers', 1493: 'headlight', 2555: 'roused', 650: 'cambria', 1333: 'forest', 2497: 'reported', 683: 'caused', 1189: 'exercise', 1741: 'lapse', 580: 'bouse', 1479: 'harquahala', 1049: 'doing', 2990: 'teleporting', 531: 'birch', 1401: 'glance', 2017: 'moven', 2433: 'rainbow', 411: 'asu', 1823: 'longer', 2428: 'radiant', 1565: 'hue', 1391: 'giant', 2323: 'pitch', 2536: 'roar', 429: 'ave', 1731: 'lakewood', 1359: 'frist', 1308: 'fling', 655: 'campfire', 879: 'crazy', 2230: 'overflight', 1701: 'kendall', 1795: 'ligts', 2780: 'sometimes', 2876: 'stays', 79: '200', 3391: 'yelled', 3163: 'uncomperhensable', 666: 'capablities', 1759: 'lead', 2311: 'pictures', 1503: 'heiskell', 2849: 'stadium', 2790: 'soundlessly', 1111: 'edge', 2668: 'shimmering', 3363: 'wobbled', 3155: 'uknown', 624: 'burgettstown', 188: '44pa', 2059: 'needle', 2582: 'saturday', 118: '33pm', 2101: 'northest', 1123: 'elmwood', 618: 'buffalo', 1285: 'flames', 2062: 'neighbors', 2217: 'ours', 339: 'anchorage', 304: 'alaska', 967: 'detroit', 3342: 'windsor', 678: 'castle', 1458: 'gunnison', 2785: 'soon', 3012: 'thereafter', 2228: 'ove', 488: 'beaverton', 3255: 'visibility', 1944: 'midvale', 2570: 'salt', 3209: 'utah', 2296: 'personal', 2982: 'taylorville', 2501: 'research', 2560: 'rt', 45: '190', 1773: 'leominster', 518: 'bernardino', 1030: 'dissapered', 1999: 'most', 1104: 'easterly', 2762: 'smooth', 548: 'blinkers', 201: '44two', 3383: 'wsw', 1168: 'ese', 2811: 'sparland', 2856: 'standstill', 1844: 'louisville', 710: 'chesapeake', 2347: 'pointed', 896: 'cull', 2634: 'seperately', 2595: 'scarey', 3060: 'tops', 1403: 'gleaming', 1951: 'milroy', 2556: 'route', 116: '322', 318: 'alone', 2150: 'occasions', 636: 'bwi', 3020: 'think', 1181: 'eventually', 2752: 'slows', 274: 'acted', 375: 'approximate', 2905: 'streak', 416: 'atmosphere', 2850: 'staggered', 1847: 'lower', 3297: 'wesleyan', 3182: 'university', 949: 'delaware', 2469: 'rectangler', 2891: 'stopping', 1906: 'maze', 941: 'decoration', 464: 'barrel', 2322: 'pinpoint', 1300: 'fleet', 823: 'connected', 2998: 'tethers', 1310: 'float', 3375: 'working', 26: '130', 779: 'cold', 730: 'cigarett', 2958: 'swiftly', 1540: 'horizonal', 1238: 'fas', 533: 'birds', 1852: 'lunar', 1110: 'eclipse', 2838: 'spring', 54: '1967', 2432: 'railroad', 3075: 'track', 1531: 'hollandale', 1973: 'mn', 2901: 'strang', 2826: 'spining', 1619: 'initially', 1397: 'girlfriend', 1524: 'hinckley', 641: 'cabin', 2354: 'polution', 1608: 'incident', 2974: 'talked', 3366: 'wondered', 1631: 'intensely', 1446: 'grew', 1115: 'eerie', 100: '24', 1798: 'limbs', 2255: 'partly', 810: 'concealed', 2979: 'tandem', 754: 'climbed', 2550: 'rotates', 3159: 'unaffected', 2948: 'surroundings', 512: 'belpre', 206: '45714', 1373: 'gandy', 592: 'bridge', 135: '39tl', 299: 'airpt', 2050: 'navarre', 2711: 'similar', 1060: 'dover', 284: 'afb', 143: '41', 727: 'chute', 3039: 'tiger', 660: 'canal', 321: 'alpine', 765: 'cloudless', 30: '141', 1582: 'hyw', 3033: 'throug', 367: 'appearances', 3250: 'viewing', 1856: 'm42', 2991: 'telescope', 338: 'anamolous', 2106: 'noss', 331: 'amazing', 841: 'conventional', 2779: 'sometime', 315: 'allemands', 2020: 'movies', 2750: 'slowing', 2961: 'synchronized', 2221: 'outline', 2482: 'relatively', 3061: 'topsail', 3086: 'traingular', 2364: 'pos', 2333: 'planets', 1068: 'drifted', 1130: 'emerge', 142: '408', 2841: 'spur', 3392: 'yelling', 2588: 'saying', 2400: 'pulled', 1064: 'drapes', 68: '1985', 1930: 'meteor', 2689: 'shower', 2039: 'mylar', 1717: 'kites', 173: '44headlights', 2809: 'sparking', 1410: 'glittering', 3321: 'whittier', 2573: 'sanikiluaq', 2123: 'nunavut', 18: '101', 2930: 'such', 724: 'chubby', 900: 'cylender', 1632: 'intensified', 1502: 'heights', 2728: 'sixties', 3108: 'treetops', 2297: 'philadelphia', 908: 'dance', 1878: 'manitoba', 2839: 'springfield', 1551: 'housing', 1481: 'hatteras', 1328: 'foot', 1938: 'miamisburg', 2772: 'soldiers', 1302: 'flicker', 1625: 'instead', 2740: 'slanted', 984: 'diminishing', 1776: 'lethbridge', 306: 'alberta', 2965: 'tahoe', 1127: 'emanated', 1509: 'hell', 1351: 'fresh', 1730: 'lakes', 1708: 'kids', 24: '12th', 1313: 'floor', 813: 'condo', 1148: 'enjoy', 1016: 'discoloration', 540: 'blacktop', 363: 'apopka', 1037: 'distinctly', 3091: 'transluscent', 1129: 'ember', 3029: 'thousands', 2384: 'pri', 115: '32', 39: '170', 644: 'calaveras', 3135: 'tumbling', 569: 'booster', 3216: 'vandenburge', 2242: 'palms', 1890: 'marine', 1259: 'figure', 505: 'belgrade', 71: '1992', 186: '44or', 1498: 'heat', 806: 'complety', 2424: 'quincy', 84: '2005', 629: 'burton', 1353: 'friday', 2154: 'october', 86: '2007', 1023: 'disperse', 1968: 'missing', 1474: 'happend', 2079: 'nine', 3376: 'works', 3204: 'usaf', 1713: 'kingman', 1274: 'firie', 1703: 'kennesaw', 2554: 'rounded', 3048: 'tips', 3343: 'wing', 1679: 'jetties', 2765: 'snow', 2894: 'storm', 1349: 'freaky', 1156: 'equidistant', 889: 'crossing', 2784: 'sons', 552: 'blocks', 2539: 'rockford', 160: '44blinked', 663: 'cant', 1202: 'explane', 1402: 'glaring', 1382: 'generated', 2006: 'motor', 565: 'bolted', 872: 'crack', 3170: 'unearthly', 576: 'bounce', 2391: 'property', 2590: 'says', 619: 'buglike', 2912: 'streetlight', 1526: 'hit', 2537: 'rock', 1649: 'investigators', 3056: 'tonight', 2291: 'performing', 3191: 'unusal', 1884: 'manuvers', 3364: 'woke', 471: 'bathed', 755: 'clinton', 3070: 'township', 1934: 'metroparkway', 397: 'arrived', 2594: 'scared', 1500: 'heck', 2648: 'sf', 1001: 'disapear', 2649: 'sh', 3090: 'transform', 2416: 'quad', 719: 'chopper', 824: 'consecutive', 1606: 'impossible', 1876: 'maneuvers', 757: 'cloaking', 469: 'bass', 1477: 'harbor', 1864: 'magnitude', 1867: 'maintianed', 1154: 'equal', 2632: 'separati', 2121: 'number', 2812: 'specific', 75: '19th', 22: '11am', 2567: 'ruth', 472: 'battle', 529: 'biking', 432: 'average', 2481: 'regrouped', 1984: 'monday', 709: 'cherry', 107: '2nd', 2837: 'spotting', 2865: 'starts', 3076: 'tracking', 2270: 'patten', 2247: 'parade', 347: 'annex', 2392: 'prospect', 610: 'brooklyn', 1775: 'let', 2115: 'noticing', 747: 'clayton', 1177: 'evenings', 1674: 'jellyfish', 675: 'carrier', 2414: 'pyramid', 1897: 'marysville', 3331: 'willamette', 711: 'chesepeake', 2938: 'sunrise', 3193: 'unusually', 3195: 'upon', 2142: 'observation', 241: '85', 1903: 'mauldin', 3145: 'twirling', 617: 'buena', 265: 'accelerated', 2489: 'rendezvous', 1151: 'enormous', 2269: 'patrol', 871: 'covina', 3156: 'ultra', 2687: 'should', 1815: 'loading', 3187: 'unloading', 1058: 'douglas', 2967: 'tails', 886: 'criss', 582: 'bowling', 3279: 'watch', 425: 'aurora', 2662: 'shawnee', 1722: 'ks', 2589: 'saylorsburg', 794: 'comes', 2970: 'takes', 1843: 'louis', 959: 'descending', 672: 'carmel', 2213: 'otherwise', 1186: 'exception', 1693: 'jupiter', 890: 'cruising', 1268: 'firballs', 1788: 'lightbulb', 3417: 'zips', 1334: 'forked', 1977: 'moderate', 1623: 'instantaneous', 1377: 'gaseous', 571: 'borealis', 2151: 'occurred', 515: 'bend', 1858: 'mach', 2395: 'pst', 271: 'acelerating', 1986: 'monrovia', 1286: 'flaming', 105: '28', 2164: 'oject', 853: 'cosmic', 2959: 'switched', 1784: 'lifted', 2127: 'oak', 40: '172nd', 3334: 'wilson', 1371: 'gabriel', 643: 'cajon', 2060: 'neighbor', 883: 'crete', 3176: 'unimaginable', 44: '19', 2169: 'older', 409: 'assend', 260: 'abright', 2095: 'norhwest', 826: 'consisted', 817: 'configuration', 465: 'barrie', 1207: 'extra', 2995: 'terrestrial', 1144: 'energy', 1024: 'display', 2214: 'ottawa', 1379: 'gatineau', 2104: 'norwalk', 170: '44glowing', 2579: 'satellite', 1633: 'intensity', 2092: 'none', 1684: 'jose', 795: 'comet', 2259: 'passed', 403: 'ascending', 1131: 'emerged', 1347: 'francisco', 2712: 'simple', 1194: 'expanded', 2896: 'story', 2542: 'roof', 1501: 'height', 2651: 'shadow', 2061: 'neighborhood', 1348: 'franklin', 3262: 'wached', 519: 'bernie', 1188: 'executing', 1383: 'geometric', 1976: 'model', 3030: 'thr', 1803: 'link', 3125: 'trinagle', 3346: 'wings', 3189: 'unsusal', 820: 'confirms', 3237: 'verona', 983: 'dimed', 385: 'argos', 1868: 'mainville', 1899: 'mason', 579: 'bourbonnais', 706: 'chautauqua', 1604: 'ilm', 159: '44before', 3046: 'tinted', 49: '1958', 1122: 'eleven', 1396: 'girl', 1511: 'hemet', 1038: 'distortion', 3016: 'thier', 330: 'amazement', 3304: 'weston', 2473: 'redding', 1522: 'hillsboro', 3290: 'week', 3088: 'tranlucent', 2734: 'skin', 1126: 'elyria', 2457: 'reappe', 2981: 'taped', 3243: 'vibrating', 840: 'contrail', 1255: 'fields', 801: 'companions', 1002: 'disapeard', 238: '800', 1583: 'i20', 2877: 'steadily', 325: 'altitudes', 591: 'brentwood', 1452: 'grouped', 3114: 'triagular', 2137: 'objest', 1121: 'electricity', 798: 'common', 1591: 'i805', 66: '1981', 222: '5pm', 1835: 'loose', 860: 'counter', 759: 'clockwise', 2324: 'pitched', 1046: 'doggy', 2181: 'operated', 2235: 'own', 1368: 'fying', 3009: 'thens', 1100: 'eases', 585: 'boyton', 202: '44which', 3404: 'yukon', 2718: 'sirun', 2910: 'streams', 27: '135', 2147: 'observes', 2035: 'muskoka', 854: 'cottagers', 2513: 'retreats', 3377: 'world', 3244: 'vibration', 2561: 'rudder', 1195: 'expect', 1505: 'heli', 1711: 'kind', 1638: 'interesting', 2156: 'odor', 677: 'case', 1411: 'glob', 1128: 'emanating', 387: 'arkansas', 228: '67', 1891: 'marker', 1628: 'intelligence', 1635: 'intercept', 2113: 'notice', 2389: 'process', 1740: 'laps', 2205: 'origin', 1952: 'milton', 2304: 'photographs', 269: 'account', 1039: 'disturbing', 679: 'catch', 725: 'chunks', 614: 'brown', 1979: 'mold', 264: 'acad', 1433: 'grad', 561: 'bobs', 12: '09', 2562: 'rungs', 1726: 'ladder', 517: 'bent', 559: 'boarder', 1995: 'morph', 2984: 'tear', 1956: 'mineola', 2109: 'noted', 2503: 'residence', 2621: 'seeming', 1567: 'hugging', 642: 'cabos', 1789: 'lighte', 2442: 'rapid', 1101: 'easily', 1009: 'disappearred', 1820: 'locations', 1932: 'meters', 2964: 'tag', 2616: 'sedona', 1953: 'milwaukee', 1089: 'durning', 1136: 'emitts', 816: 'conected', 2883: 'steep', 753: 'climb', 2858: 'stared', 2122: 'numerous', 3349: 'winnipeg', 2248: 'parallel', 1139: 'encircling', 149: '4410000', 2798: 'southward', 1550: 'houses', 799: 'commute', 2478: 'reflecting', 1229: 'falls', 542: 'blazed', 3082: 'trailed', 1369: 'fyling', 831: 'constantly', 312: 'alignment', 275: 'action', 3263: 'wading', 2356: 'pool', 2677: 'ships', 1950: 'million', 3259: 'visitors', 216: '50am', 3367: 'woodbridge', 2806: 'spaceship', 3339: 'windows', 1015: 'discernible', 2301: 'photo', 812: 'conclusive', 3408: 'zagging', 788: 'colours', 2770: 'sohn', 3226: 'vassar', 2185: 'ora', 1443: 'greece', 1439: 'grants', 2082: 'nm', 553: 'blood', 2897: 'strafe', 2409: 'pure', 3045: 'tinged', 341: 'angel', 3166: 'uncovered', 1406: 'glide', 1894: 'marlborough', 1652: 'inward', 1892: 'markings', 2863: 'start', 1013: 'disapwar', 2504: 'residential', 1862: 'madison', 705: 'chattanooga', 3233: 'venice', 2193: 'orangish', 152: '444', 95: '20pm', 346: 'annapolis', 3224: 'varnville', 1392: 'gigantic', 17: '100kts', 3356: 'withfour', 768: 'cloverleaf', 1193: 'exiting', 155: '44a', 923: 'daughter', 528: 'bike', 1709: 'kildonan', 922: 'daugh', 1614: 'independent', 2233: 'overwhelme', 3369: 'wooded', 434: 'avoided', 1384: 'george', 2978: 'tan', 2944: 'surface', 2612: 'secluded', 2437: 'ranch', 389: 'arlington', 1750: 'lat', 892: 'cst', 254: 'ability', 2951: 'suspend', 3006: 'themselves', 2370: 'posted', 255: 'able', 2419: 'queens', 1283: 'fla', 3010: 'theory', 2361: 'porthole', 656: 'campsite', 320: 'alongside', 492: 'becomes', 2665: 'shell', 3146: 'twitching', 2869: 'stati', 837: 'contoocook', 2073: 'nh', 3252: 'village', 1785: 'lifts', 3073: 'trace', 468: 'basketball', 2374: 'practice', 2308: 'pick', 9: '06', 2069: 'newfoundland', 1554: 'hoverd', 1945: 'might', 2208: 'orion', 513: 'belt', 1610: 'incomprhensible', 2859: 'starlight', 2465: 'recently', 2132: 'obect', 1416: 'glowed', 2852: 'staionary', 1464: 'halt', 995: 'directio', 1694: 'jus', 1070: 'drifts', 2090: 'noislessly', 1220: 'fades', 2774: 'som', 2845: 'squid', 3327: 'wierd', 1739: 'lanterns', 1755: 'launched', 279: 'adults', 1438: 'granite', 185: '44on', 1833: 'loop', 2989: 'telephone', 2350: 'pole', 595: 'briefly', 3013: 'thermal', 1663: 'issaquah', 56: '1969', 2709: 'silvery', 833: 'containing', 2019: 'movie', 2546: 'rosebud', 1233: 'farm', 144: '413', 1393: 'gila', 1596: 'identify', 1680: 'jig', 1669: 'jag', 1849: 'luminescence', 728: 'cicular', 1146: 'engaged', 1045: 'dogfight', 744: 'clarksville', 1602: 'illuminating', 127: '39ball', 3169: 'underside', 3333: 'wilmington', 1299: 'flattened', 1224: 'fairfax', 2365: 'position', 1824: 'longmont', 3300: 'wester', 850: 'cornfield', 2407: 'pulses', 2066: 'nevada', 1587: 'i580', 2128: 'oakland', 1484: 'hayward', 1763: 'leandro', 277: 'actually', 2973: 'talk', 2992: 'tell', 358: 'anyone', 3323: 'why', 2532: 'risk', 1562: 'hu', 3352: 'wish', 3382: 'written', 3272: 'want', 3374: 'worked', 2159: 'office', 807: 'complex', 605: 'bringing', 3094: 'trash', 662: 'cans', 1670: 'jan', 2854: 'standard', 1109: 'eating', 1853: 'lunch', 781: 'collor', 944: 'defies', 2307: 'physics', 2070: 'newport', 1762: 'leads', 1837: 'loss', 2160: 'officers', 2042: 'mysterious', 1158: 'equinox', 77: '1st', 1621: 'insects', 470: 'bat', 2445: 'ray', 2268: 'patio', 866: 'court', 495: 'bedford', 803: 'compelled', 2491: 'rep', 500: 'begin', 835: 'continue', 97: '2145', 1466: 'hampshire', 3348: 'winnepasauke', 1497: 'heart', 1191: 'exhibiting', 2802: 'spa', 1821: 'lone', 2043: 'mystery', 3188: 'unorderly', 3418: 'zizzaged', 912: 'darkened', 1029: 'dissapeered', 2294: 'period', 305: 'albany', 2282: 'peculiar', 2659: 'shapeshifting', 2987: 'teenagers', 2906: 'streaked', 303: 'alarming', 2652: 'shadowey', 516: 'beneath', 1000: 'disa', 2956: 'swarmed', 1901: 'massachusetts', 1783: 'lie', 913: 'darkness', 2406: 'pulsed', 2530: 'rises', 924: 'daughters', 1235: 'farmhouse', 2584: 'saucers', 1407: 'glided', 899: 'cycle', 111: '30ftlength', 217: '50feet', 2420: 'question', 1172: 'eugene', 1772: 'lentil', 1091: 'ea', 704: 'chasing', 716: 'chillicothe', 1261: 'fill', 2149: 'occasionally', 252: 'abduction', 1473: 'happen', 481: 'beamed', 388: 'arlee', 543: 'bliking', 48: '1953', 6: '0300', 534: 'birmingham', 903: 'cylindical', 1508: 'helium', 1262: 'filled', 3274: 'warm', 2036: 'must', 3201: 'urbana', 157: '44around', 1: '00am', 175: '44i', 1715: 'kitchen', 166: '44circuler', 1749: 'lasts', 1519: 'highly', 594: 'brief', 2505: 'residue', 742: 'cirular', 2022: 'movingtoward', 3008: 'thenhorizontally', 2272: 'patterned', 584: 'boyfriend', 3055: 'tone', 2388: 'proce', 208: '45pm', 687: 'cemetary', 1756: 'laure', 2341: 'plume', 47: '1951', 1449: 'grosse', 2346: 'pointe', 2232: 'overlooking', 1804: 'linked', 1223: 'fairchild', 294: 'airforce', 1854: 'lustrous', 625: 'burien', 3151: 'tysons', 1895: 'marriot', 1217: 'factory', 545: 'blinding', 978: 'difference', 1828: 'looke', 776: 'coconut', 2393: 'prove', 2058: 'need', 1048: 'doi', 800: 'commuting', 521: 'bethesda', 1461: 'hagerstown', 2710: 'simi', 2517: 'reviewing', 2418: 'quarter', 3160: 'unbelievable', 2357: 'pop', 1919: 'mena', 300: 'akansas', 2452: 'realeases', 2756: 'smells', 2126: 'nyc', 245: '911', 113: '311', 1187: 'exchange', 615: 'brownish', 2032: 'multipe', 2466: 'recived', 2300: 'phone', 353: 'answered', 3309: 'whats', 399: 'arrowhead', 2139: 'oblonged', 2736: 'skipping', 2502: 'resembles', 1387: 'gets', 2025: 'mst', 2426: 'rachel', 123: '375', 1468: 'han', 3227: 've', 3089: 'transco', 1204: 'exploding', 2808: 'sparatically', 1697: 'kalih', 695: 'chandler', 2355: 'pomona', 1367: 'fwy', 63: '1978', 2830: 'spokane', 2167: 'olathe', 28: '135th', 1627: 'instructed', 2396: 'pu', 2253: 'parkland', 1495: 'heads', 2749: 'slower', 2237: 'pace', 308: 'algona', 37: '167', 2591: 'sb', 2146: 'observery', 921: 'datetime', 746: 'classical', 956: 'desacends', 1133: 'emits', 1779: 'lexington', 459: 'barbourville', 2071: 'newton', 651: 'camden', 1266: 'fine', 3288: 'weaverville', 2939: 'sunroof', 2861: 'starring', 2777: 'somethi', 2063: 'neighbours', 283: 'afar', 3320: 'whitish', 1615: 'independently', 2431: 'raid', 196: '44slow', 3403: 'yucaipa', 2220: 'outerspace', 2434: 'rainer', 82: '2003', 3171: 'unexpected', 2461: 'reappearing', 3035: 'throughout', 1727: 'lafayette', 2603: 'scottsville', 2804: 'spacecraft', 1732: 'laminating', 586: 'bozeman', 1264: 'finally', 1769: 'led', 1883: 'manuevers', 838: 'contorting', 163: '44bright', 189: '44rectangular', 2328: 'plain', 527: 'bight', 2456: 'reapearing', 2825: 'spiltting', 1344: 'fortunate', 567: 'bonneville', 1298: 'flats', 1648: 'investigator', 2404: 'pulsations', 2007: 'motorcycle', 1544: 'hospital', 3310: 'whatsoever', 1470: 'hang', 1356: 'friendship', 1528: 'hobbs', 2266: 'patches', 1103: 'easter', 2666: 'sheridan', 1909: 'mdt', 11: '08', 230: '696', 1249: 'ferndale', 1066: 'dream', 3128: 'true', 2919: 'strob', 780: 'college', 1346: 'fourth', 2972: 'talahasee', 1434: 'gradually', 1305: 'flickers', 3258: 'visiting', 145: '41st', 431: 'avenue', 182: '44myself', 939: 'decided', 2732: 'ski', 2306: 'physical', 257: 'abnormalities', 2745: 'sligtly', 2140: 'obscurred', 3178: 'uniontown', 968: 'diam', 192: '44round', 891: 'cruses', 1073: 'driv'}\n"
     ]
    }
   ],
   "source": [
    "vocab = {v:k for k,v in vec.vocabulary_.items()}\n",
    "print(vocab)"
   ]
  },
  {
   "cell_type": "markdown",
   "metadata": {},
   "source": [
    "We'll return a list of numbers with the function.We'll write another function to collect the top words across all documents, extract them, and then use that list to filter down our text_tfidf vector to those top words."
   ]
  },
  {
   "cell_type": "code",
   "execution_count": 63,
   "metadata": {},
   "outputs": [
    {
     "name": "stdout",
     "output_type": "stream",
     "text": [
      "[3085, 1326, 3077]\n"
     ]
    }
   ],
   "source": [
    "# Add in the rest of the parameters\n",
    "def return_weights(vocab, original_vocab, vector, vector_index, top_n):\n",
    "    zipped = dict(zip(vector[vector_index].indices, vector[vector_index].data))\n",
    "    \n",
    "    # Let's transform that zipped dict into a series\n",
    "    zipped_series = pd.Series({vocab[i]:zipped[i] for i in vector[vector_index].indices})\n",
    "    \n",
    "    # Let's sort the series to pull out the top n weighted words\n",
    "    zipped_index = zipped_series.sort_values(ascending=False)[:top_n].index\n",
    "    return [original_vocab[i] for i in zipped_index]\n",
    "\n",
    "# Print out the weighted words\n",
    "print(return_weights(vocab, vec.vocabulary_, desc_tfidf, 8, 3))"
   ]
  },
  {
   "cell_type": "code",
   "execution_count": 64,
   "metadata": {},
   "outputs": [],
   "source": [
    "def words_to_filter(vocab, original_vocab, vector, top_n):\n",
    "    filter_list = []\n",
    "    for i in range(0, vector.shape[0]):\n",
    "    \n",
    "        # Here we'll call the function from the previous exercise, and extend the list we're creating\n",
    "        filtered = return_weights(vocab, original_vocab, vector, i, top_n)\n",
    "        filter_list.extend(filtered)\n",
    "    # Return the list in a set, so we don't get duplicate word indices\n",
    "    return set(filter_list)\n",
    "\n",
    "# Call the function to get the list of word indices\n",
    "filtered_words = words_to_filter(vocab, vec.vocabulary_, desc_tfidf, 3)\n",
    "\n",
    "# By converting filtered_words back to a list, we can use it to filter the columns in the text vector\n",
    "filtered_text = desc_tfidf[:, list(filtered_words)]"
   ]
  },
  {
   "cell_type": "code",
   "execution_count": null,
   "metadata": {},
   "outputs": [],
   "source": []
  },
  {
   "cell_type": "code",
   "execution_count": 65,
   "metadata": {},
   "outputs": [
    {
     "data": {
      "text/plain": [
       "(1866, 37)"
      ]
     },
     "execution_count": 65,
     "metadata": {},
     "output_type": "execute_result"
    }
   ],
   "source": [
    "# Selecting the ideal dataset\n",
    "\n",
    "# Because we have an encoded country column, country_enc, keep it and drop other columns related to location: \n",
    "# city, country, lat, long, state\n",
    "\n",
    "ufo2.shape"
   ]
  },
  {
   "cell_type": "markdown",
   "metadata": {},
   "source": [
    "# Selecting the ideal dataset\n",
    "Let's get rid of some of the unnecessary features. Because we have an encoded country column, country_enc,we keep it and drop other columns related to location: city, country, lat, long, state.\n",
    "\n",
    "We have columns related to month and year, so we don't need the date or recorded columns.\n",
    "\n",
    "We vectorized desc, so we don't need it anymore. For now we'll keep type.\n",
    "\n",
    "We'll keep seconds_log and drop seconds and minutes.\n",
    "\n",
    "Let's also get rid of the length_of_time column, which is unnecessary after extracting minutes."
   ]
  },
  {
   "cell_type": "code",
   "execution_count": 66,
   "metadata": {},
   "outputs": [
    {
     "name": "stdout",
     "output_type": "stream",
     "text": [
      "              seconds  seconds_log   minutes\n",
      "seconds      1.000000     0.853371  0.980341\n",
      "seconds_log  0.853371     1.000000  0.824493\n",
      "minutes      0.980341     0.824493  1.000000\n"
     ]
    }
   ],
   "source": [
    "# Check the correlation between the seconds, seconds_log, and minutes columns\n",
    "print(ufo2[['seconds','seconds_log','minutes']].corr())"
   ]
  },
  {
   "cell_type": "code",
   "execution_count": 67,
   "metadata": {},
   "outputs": [
    {
     "name": "stdout",
     "output_type": "stream",
     "text": [
      "    seconds  seconds_log  minutes\n",
      "3     300.0     5.703782      NaN\n",
      "5     600.0     6.396930     10.0\n",
      "8     120.0     4.787492      2.0\n",
      "9     120.0     4.787492      2.0\n",
      "10    300.0     5.703782      5.0\n"
     ]
    }
   ],
   "source": [
    "print(ufo2[['seconds','seconds_log','minutes']].head())"
   ]
  },
  {
   "cell_type": "code",
   "execution_count": 68,
   "metadata": {},
   "outputs": [
    {
     "data": {
      "text/html": [
       "<div>\n",
       "<style scoped>\n",
       "    .dataframe tbody tr th:only-of-type {\n",
       "        vertical-align: middle;\n",
       "    }\n",
       "\n",
       "    .dataframe tbody tr th {\n",
       "        vertical-align: top;\n",
       "    }\n",
       "\n",
       "    .dataframe thead th {\n",
       "        text-align: right;\n",
       "    }\n",
       "</style>\n",
       "<table border=\"1\" class=\"dataframe\">\n",
       "  <thead>\n",
       "    <tr style=\"text-align: right;\">\n",
       "      <th></th>\n",
       "      <th>date</th>\n",
       "      <th>city</th>\n",
       "      <th>state</th>\n",
       "      <th>country</th>\n",
       "      <th>type</th>\n",
       "      <th>seconds</th>\n",
       "      <th>length_of_time</th>\n",
       "      <th>desc</th>\n",
       "      <th>recorded</th>\n",
       "      <th>lat</th>\n",
       "      <th>...</th>\n",
       "      <th>flash</th>\n",
       "      <th>formation</th>\n",
       "      <th>light</th>\n",
       "      <th>other</th>\n",
       "      <th>oval</th>\n",
       "      <th>rectangle</th>\n",
       "      <th>sphere</th>\n",
       "      <th>teardrop</th>\n",
       "      <th>triangle</th>\n",
       "      <th>unknown</th>\n",
       "    </tr>\n",
       "  </thead>\n",
       "  <tbody>\n",
       "    <tr>\n",
       "      <th>3</th>\n",
       "      <td>2002-11-21 05:45:00</td>\n",
       "      <td>clemmons</td>\n",
       "      <td>nc</td>\n",
       "      <td>us</td>\n",
       "      <td>triangle</td>\n",
       "      <td>300.0</td>\n",
       "      <td>about 5 minutes</td>\n",
       "      <td>It was a large&amp;#44 triangular shaped flying ob...</td>\n",
       "      <td>12/23/2002</td>\n",
       "      <td>36.0213889</td>\n",
       "      <td>...</td>\n",
       "      <td>0</td>\n",
       "      <td>0</td>\n",
       "      <td>0</td>\n",
       "      <td>0</td>\n",
       "      <td>0</td>\n",
       "      <td>0</td>\n",
       "      <td>0</td>\n",
       "      <td>0</td>\n",
       "      <td>1</td>\n",
       "      <td>0</td>\n",
       "    </tr>\n",
       "    <tr>\n",
       "      <th>5</th>\n",
       "      <td>2012-06-16 23:00:00</td>\n",
       "      <td>san diego</td>\n",
       "      <td>ca</td>\n",
       "      <td>us</td>\n",
       "      <td>light</td>\n",
       "      <td>600.0</td>\n",
       "      <td>10 minutes</td>\n",
       "      <td>Dancing lights that would fly around and then ...</td>\n",
       "      <td>7/4/2012</td>\n",
       "      <td>32.7152778</td>\n",
       "      <td>...</td>\n",
       "      <td>0</td>\n",
       "      <td>0</td>\n",
       "      <td>1</td>\n",
       "      <td>0</td>\n",
       "      <td>0</td>\n",
       "      <td>0</td>\n",
       "      <td>0</td>\n",
       "      <td>0</td>\n",
       "      <td>0</td>\n",
       "      <td>0</td>\n",
       "    </tr>\n",
       "    <tr>\n",
       "      <th>8</th>\n",
       "      <td>2013-06-09 00:00:00</td>\n",
       "      <td>oakville (canada)</td>\n",
       "      <td>on</td>\n",
       "      <td>ca</td>\n",
       "      <td>light</td>\n",
       "      <td>120.0</td>\n",
       "      <td>2 minutes</td>\n",
       "      <td>Brilliant orange light or chinese lantern at o...</td>\n",
       "      <td>7/3/2013</td>\n",
       "      <td>43.433333</td>\n",
       "      <td>...</td>\n",
       "      <td>0</td>\n",
       "      <td>0</td>\n",
       "      <td>1</td>\n",
       "      <td>0</td>\n",
       "      <td>0</td>\n",
       "      <td>0</td>\n",
       "      <td>0</td>\n",
       "      <td>0</td>\n",
       "      <td>0</td>\n",
       "      <td>0</td>\n",
       "    </tr>\n",
       "    <tr>\n",
       "      <th>9</th>\n",
       "      <td>2013-04-26 23:27:00</td>\n",
       "      <td>lacey</td>\n",
       "      <td>wa</td>\n",
       "      <td>us</td>\n",
       "      <td>light</td>\n",
       "      <td>120.0</td>\n",
       "      <td>2 minutes</td>\n",
       "      <td>Bright red light moving north to north west fr...</td>\n",
       "      <td>5/15/2013</td>\n",
       "      <td>47.0344444</td>\n",
       "      <td>...</td>\n",
       "      <td>0</td>\n",
       "      <td>0</td>\n",
       "      <td>1</td>\n",
       "      <td>0</td>\n",
       "      <td>0</td>\n",
       "      <td>0</td>\n",
       "      <td>0</td>\n",
       "      <td>0</td>\n",
       "      <td>0</td>\n",
       "      <td>0</td>\n",
       "    </tr>\n",
       "    <tr>\n",
       "      <th>10</th>\n",
       "      <td>2013-09-13 20:30:00</td>\n",
       "      <td>ben avon</td>\n",
       "      <td>pa</td>\n",
       "      <td>us</td>\n",
       "      <td>sphere</td>\n",
       "      <td>300.0</td>\n",
       "      <td>5 minutes</td>\n",
       "      <td>North-east moving south-west. First 7 or so li...</td>\n",
       "      <td>9/30/2013</td>\n",
       "      <td>40.5080556</td>\n",
       "      <td>...</td>\n",
       "      <td>0</td>\n",
       "      <td>0</td>\n",
       "      <td>0</td>\n",
       "      <td>0</td>\n",
       "      <td>0</td>\n",
       "      <td>0</td>\n",
       "      <td>1</td>\n",
       "      <td>0</td>\n",
       "      <td>0</td>\n",
       "      <td>0</td>\n",
       "    </tr>\n",
       "  </tbody>\n",
       "</table>\n",
       "<p>5 rows × 37 columns</p>\n",
       "</div>"
      ],
      "text/plain": [
       "                  date               city state country      type  seconds  \\\n",
       "3  2002-11-21 05:45:00           clemmons    nc      us  triangle    300.0   \n",
       "5  2012-06-16 23:00:00          san diego    ca      us     light    600.0   \n",
       "8  2013-06-09 00:00:00  oakville (canada)    on      ca     light    120.0   \n",
       "9  2013-04-26 23:27:00              lacey    wa      us     light    120.0   \n",
       "10 2013-09-13 20:30:00           ben avon    pa      us    sphere    300.0   \n",
       "\n",
       "     length_of_time                                               desc  \\\n",
       "3   about 5 minutes  It was a large&#44 triangular shaped flying ob...   \n",
       "5        10 minutes  Dancing lights that would fly around and then ...   \n",
       "8         2 minutes  Brilliant orange light or chinese lantern at o...   \n",
       "9         2 minutes  Bright red light moving north to north west fr...   \n",
       "10        5 minutes  North-east moving south-west. First 7 or so li...   \n",
       "\n",
       "      recorded         lat   ...     flash  formation  light  other  oval  \\\n",
       "3   12/23/2002  36.0213889   ...         0          0      0      0     0   \n",
       "5     7/4/2012  32.7152778   ...         0          0      1      0     0   \n",
       "8     7/3/2013   43.433333   ...         0          0      1      0     0   \n",
       "9    5/15/2013  47.0344444   ...         0          0      1      0     0   \n",
       "10   9/30/2013  40.5080556   ...         0          0      0      0     0   \n",
       "\n",
       "    rectangle  sphere  teardrop  triangle  unknown  \n",
       "3           0       0         0         1        0  \n",
       "5           0       0         0         0        0  \n",
       "8           0       0         0         0        0  \n",
       "9           0       0         0         0        0  \n",
       "10          0       1         0         0        0  \n",
       "\n",
       "[5 rows x 37 columns]"
      ]
     },
     "execution_count": 68,
     "metadata": {},
     "output_type": "execute_result"
    }
   ],
   "source": [
    "ufo2.head()"
   ]
  },
  {
   "cell_type": "code",
   "execution_count": 69,
   "metadata": {},
   "outputs": [],
   "source": [
    "# Make a list of features to drop\n",
    "to_drop = ['city','country','lat','long','state','date','recorded','desc','seconds','minutes','length_of_time']\n",
    "\n",
    "# Drop those features\n",
    "ufo_dropped = ufo2.drop(to_drop,axis=1)\n",
    "\n",
    "# Let's also filter some words out of the text vector we created\n",
    "filtered_words = words_to_filter(vocab, vec.vocabulary_, desc_tfidf, 4)"
   ]
  },
  {
   "cell_type": "code",
   "execution_count": 70,
   "metadata": {},
   "outputs": [
    {
     "data": {
      "text/html": [
       "<div>\n",
       "<style scoped>\n",
       "    .dataframe tbody tr th:only-of-type {\n",
       "        vertical-align: middle;\n",
       "    }\n",
       "\n",
       "    .dataframe tbody tr th {\n",
       "        vertical-align: top;\n",
       "    }\n",
       "\n",
       "    .dataframe thead th {\n",
       "        text-align: right;\n",
       "    }\n",
       "</style>\n",
       "<table border=\"1\" class=\"dataframe\">\n",
       "  <thead>\n",
       "    <tr style=\"text-align: right;\">\n",
       "      <th></th>\n",
       "      <th>type</th>\n",
       "      <th>seconds_log</th>\n",
       "      <th>month</th>\n",
       "      <th>year</th>\n",
       "      <th>country_enc</th>\n",
       "      <th>changing</th>\n",
       "      <th>chevron</th>\n",
       "      <th>cigar</th>\n",
       "      <th>circle</th>\n",
       "      <th>cone</th>\n",
       "      <th>...</th>\n",
       "      <th>flash</th>\n",
       "      <th>formation</th>\n",
       "      <th>light</th>\n",
       "      <th>other</th>\n",
       "      <th>oval</th>\n",
       "      <th>rectangle</th>\n",
       "      <th>sphere</th>\n",
       "      <th>teardrop</th>\n",
       "      <th>triangle</th>\n",
       "      <th>unknown</th>\n",
       "    </tr>\n",
       "  </thead>\n",
       "  <tbody>\n",
       "    <tr>\n",
       "      <th>3</th>\n",
       "      <td>triangle</td>\n",
       "      <td>5.703782</td>\n",
       "      <td>11</td>\n",
       "      <td>2002</td>\n",
       "      <td>1</td>\n",
       "      <td>0</td>\n",
       "      <td>0</td>\n",
       "      <td>0</td>\n",
       "      <td>0</td>\n",
       "      <td>0</td>\n",
       "      <td>...</td>\n",
       "      <td>0</td>\n",
       "      <td>0</td>\n",
       "      <td>0</td>\n",
       "      <td>0</td>\n",
       "      <td>0</td>\n",
       "      <td>0</td>\n",
       "      <td>0</td>\n",
       "      <td>0</td>\n",
       "      <td>1</td>\n",
       "      <td>0</td>\n",
       "    </tr>\n",
       "    <tr>\n",
       "      <th>5</th>\n",
       "      <td>light</td>\n",
       "      <td>6.396930</td>\n",
       "      <td>6</td>\n",
       "      <td>2012</td>\n",
       "      <td>1</td>\n",
       "      <td>0</td>\n",
       "      <td>0</td>\n",
       "      <td>0</td>\n",
       "      <td>0</td>\n",
       "      <td>0</td>\n",
       "      <td>...</td>\n",
       "      <td>0</td>\n",
       "      <td>0</td>\n",
       "      <td>1</td>\n",
       "      <td>0</td>\n",
       "      <td>0</td>\n",
       "      <td>0</td>\n",
       "      <td>0</td>\n",
       "      <td>0</td>\n",
       "      <td>0</td>\n",
       "      <td>0</td>\n",
       "    </tr>\n",
       "    <tr>\n",
       "      <th>8</th>\n",
       "      <td>light</td>\n",
       "      <td>4.787492</td>\n",
       "      <td>6</td>\n",
       "      <td>2013</td>\n",
       "      <td>0</td>\n",
       "      <td>0</td>\n",
       "      <td>0</td>\n",
       "      <td>0</td>\n",
       "      <td>0</td>\n",
       "      <td>0</td>\n",
       "      <td>...</td>\n",
       "      <td>0</td>\n",
       "      <td>0</td>\n",
       "      <td>1</td>\n",
       "      <td>0</td>\n",
       "      <td>0</td>\n",
       "      <td>0</td>\n",
       "      <td>0</td>\n",
       "      <td>0</td>\n",
       "      <td>0</td>\n",
       "      <td>0</td>\n",
       "    </tr>\n",
       "    <tr>\n",
       "      <th>9</th>\n",
       "      <td>light</td>\n",
       "      <td>4.787492</td>\n",
       "      <td>4</td>\n",
       "      <td>2013</td>\n",
       "      <td>1</td>\n",
       "      <td>0</td>\n",
       "      <td>0</td>\n",
       "      <td>0</td>\n",
       "      <td>0</td>\n",
       "      <td>0</td>\n",
       "      <td>...</td>\n",
       "      <td>0</td>\n",
       "      <td>0</td>\n",
       "      <td>1</td>\n",
       "      <td>0</td>\n",
       "      <td>0</td>\n",
       "      <td>0</td>\n",
       "      <td>0</td>\n",
       "      <td>0</td>\n",
       "      <td>0</td>\n",
       "      <td>0</td>\n",
       "    </tr>\n",
       "    <tr>\n",
       "      <th>10</th>\n",
       "      <td>sphere</td>\n",
       "      <td>5.703782</td>\n",
       "      <td>9</td>\n",
       "      <td>2013</td>\n",
       "      <td>1</td>\n",
       "      <td>0</td>\n",
       "      <td>0</td>\n",
       "      <td>0</td>\n",
       "      <td>0</td>\n",
       "      <td>0</td>\n",
       "      <td>...</td>\n",
       "      <td>0</td>\n",
       "      <td>0</td>\n",
       "      <td>0</td>\n",
       "      <td>0</td>\n",
       "      <td>0</td>\n",
       "      <td>0</td>\n",
       "      <td>1</td>\n",
       "      <td>0</td>\n",
       "      <td>0</td>\n",
       "      <td>0</td>\n",
       "    </tr>\n",
       "  </tbody>\n",
       "</table>\n",
       "<p>5 rows × 26 columns</p>\n",
       "</div>"
      ],
      "text/plain": [
       "        type  seconds_log  month  year  country_enc  changing  chevron  cigar  \\\n",
       "3   triangle     5.703782     11  2002            1         0        0      0   \n",
       "5      light     6.396930      6  2012            1         0        0      0   \n",
       "8      light     4.787492      6  2013            0         0        0      0   \n",
       "9      light     4.787492      4  2013            1         0        0      0   \n",
       "10    sphere     5.703782      9  2013            1         0        0      0   \n",
       "\n",
       "    circle  cone   ...     flash  formation  light  other  oval  rectangle  \\\n",
       "3        0     0   ...         0          0      0      0     0          0   \n",
       "5        0     0   ...         0          0      1      0     0          0   \n",
       "8        0     0   ...         0          0      1      0     0          0   \n",
       "9        0     0   ...         0          0      1      0     0          0   \n",
       "10       0     0   ...         0          0      0      0     0          0   \n",
       "\n",
       "    sphere  teardrop  triangle  unknown  \n",
       "3        0         0         1        0  \n",
       "5        0         0         0        0  \n",
       "8        0         0         0        0  \n",
       "9        0         0         0        0  \n",
       "10       1         0         0        0  \n",
       "\n",
       "[5 rows x 26 columns]"
      ]
     },
     "execution_count": 70,
     "metadata": {},
     "output_type": "execute_result"
    }
   ],
   "source": [
    "ufo_dropped.head()"
   ]
  },
  {
   "cell_type": "code",
   "execution_count": 71,
   "metadata": {},
   "outputs": [],
   "source": [
    "ufo_dropped2 = ufo_dropped.drop('type',axis=1)"
   ]
  },
  {
   "cell_type": "markdown",
   "metadata": {},
   "source": [
    "# Modeling the UFO_dropped2 dataset, part 1\n",
    "\n",
    "We're going to build a k-nearest neighbor model to predict which country the UFO sighting took place in. Our X dataset has the log-normalized seconds column, the one-hot encoded type columns, as well as the month and year when the sighting took place. The y labels are the encoded country column, where 1 is us and 0 is ca."
   ]
  },
  {
   "cell_type": "code",
   "execution_count": 72,
   "metadata": {},
   "outputs": [],
   "source": [
    "X = ufo_dropped2.drop('country_enc',axis=1)\n",
    "y = ufo_dropped2['country_enc']"
   ]
  },
  {
   "cell_type": "code",
   "execution_count": 73,
   "metadata": {},
   "outputs": [
    {
     "name": "stdout",
     "output_type": "stream",
     "text": [
      "Index(['seconds_log', 'month', 'year', 'changing', 'chevron', 'cigar',\n",
      "       'circle', 'cone', 'cross', 'cylinder', 'diamond', 'disk', 'egg',\n",
      "       'fireball', 'flash', 'formation', 'light', 'other', 'oval', 'rectangle',\n",
      "       'sphere', 'teardrop', 'triangle', 'unknown'],\n",
      "      dtype='object')\n",
      "0.8779443254817987\n"
     ]
    }
   ],
   "source": [
    "# Take a look at the features in the X set of data\n",
    "print(X.columns)\n",
    "\n",
    "knn = KNeighborsClassifier()\n",
    "\n",
    "# Split the X and y sets using train_test_split, setting stratify=y\n",
    "train_X, test_X, train_y, test_y = train_test_split(X,y,stratify=y)\n",
    "\n",
    "# Fit knn to the training sets\n",
    "knn.fit(train_X,train_y)\n",
    "\n",
    "# Print the score of knn on the test sets\n",
    "print(knn.score(test_X,test_y))"
   ]
  },
  {
   "cell_type": "markdown",
   "metadata": {},
   "source": [
    "# Modeling the UFO_dropped dataset, part 2\n",
    "\n",
    "Finally, let's build a model using the text vector we created, desc_tfidf, using the filtered_words list to create a filtered text vector. Let's see if we can predict the type of the sighting based on the text. We'll use a Naive Bayes model for this.\n"
   ]
  },
  {
   "cell_type": "code",
   "execution_count": 75,
   "metadata": {},
   "outputs": [],
   "source": [
    "y = ufo_dropped['type']"
   ]
  },
  {
   "cell_type": "code",
   "execution_count": 76,
   "metadata": {},
   "outputs": [
    {
     "name": "stdout",
     "output_type": "stream",
     "text": [
      "0.16916488222698073\n"
     ]
    }
   ],
   "source": [
    "# Use the list of filtered words we created to filter the text vector\n",
    "filtered_text = desc_tfidf[:, list(filtered_words)]\n",
    "\n",
    "nb = GaussianNB()\n",
    "\n",
    "# Split the X and y sets using train_test_split, setting stratify=y \n",
    "train_X, test_X, train_y, test_y = train_test_split(filtered_text.toarray(), y, stratify = y)\n",
    "\n",
    "# Fit nb to the training sets\n",
    "nb.fit(train_X,train_y)\n",
    "\n",
    "# Print the score of nb on the test sets\n",
    "print(nb.score(test_X,test_y))"
   ]
  },
  {
   "cell_type": "markdown",
   "metadata": {},
   "source": [
    "As we can see, this model performs very poorly on this text data. This is a clear case where iteration would be necessary to figure out what subset of text improves the model, and if perhaps any of the other features are useful in predicting 'type'."
   ]
  }
 ],
 "metadata": {
  "kernelspec": {
   "display_name": "Python 3",
   "language": "python",
   "name": "python3"
  },
  "language_info": {
   "codemirror_mode": {
    "name": "ipython",
    "version": 3
   },
   "file_extension": ".py",
   "mimetype": "text/x-python",
   "name": "python",
   "nbconvert_exporter": "python",
   "pygments_lexer": "ipython3",
   "version": "3.6.5"
  }
 },
 "nbformat": 4,
 "nbformat_minor": 2
}
